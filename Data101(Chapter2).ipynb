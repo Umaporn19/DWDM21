{
  "nbformat": 4,
  "nbformat_minor": 0,
  "metadata": {
    "colab": {
      "name": "Data101(Chapter2).ipynb",
      "provenance": [],
      "authorship_tag": "ABX9TyOlV7qcCI0CV/Spe3wqIQ0y",
      "include_colab_link": true
    },
    "kernelspec": {
      "name": "python3",
      "display_name": "Python 3"
    },
    "language_info": {
      "name": "python"
    }
  },
  "cells": [
    {
      "cell_type": "markdown",
      "metadata": {
        "id": "view-in-github",
        "colab_type": "text"
      },
      "source": [
        "<a href=\"https://colab.research.google.com/github/Umaporn19/DWDM21/blob/main/Data101(Chapter2).ipynb\" target=\"_parent\"><img src=\"https://colab.research.google.com/assets/colab-badge.svg\" alt=\"Open In Colab\"/></a>"
      ]
    },
    {
      "cell_type": "markdown",
      "metadata": {
        "id": "J1V4rAn7zz5W"
      },
      "source": [
        "ข้อความที่อยู่ใน textbox จะเป็น ภาษา markdown"
      ]
    },
    {
      "cell_type": "markdown",
      "metadata": {
        "id": "kSeCV94Gtlu5"
      },
      "source": [
        "ข้อดีของ Python คือมี Package สำหรับทำงานต่าง ๆ มากมาย\n",
        "\n",
        "ซึ่ง pandas เป็น Package สำหรับทำงานกับข้อมูลที่เป็นอยู่ในรูปแบบตาราง\n",
        "\n",
        "โดย pandas จะเรียกตารางนั้นว่า dataframe"
      ]
    },
    {
      "cell_type": "code",
      "metadata": {
        "id": "UYUnYFD0r3kT"
      },
      "source": [
        "import pandas #แพกเกจใช้หลัก ๆ มี 2 แพกเกจ แพนดาสใช้ในการจัดการข้อมูล"
      ],
      "execution_count": 4,
      "outputs": []
    },
    {
      "cell_type": "code",
      "metadata": {
        "id": "Fy56pzyOtAuv"
      },
      "source": [
        "import pandas as pd # เหมือนกับข้างบนเลยแต่ว่าตั้งชื่อให้ package ที่โหลดมาใหม่ว่า pd"
      ],
      "execution_count": 5,
      "outputs": []
    },
    {
      "cell_type": "markdown",
      "metadata": {
        "id": "KIDZcttiuu3Q"
      },
      "source": [
        "#ไฟล์ .csv (cav คือ comma separated values) เป็นไฟล์หลักที่เราได้ใช้เรียนกันในวิชานี้\n",
        "\n",
        "ไฟล์ชนิดนี้อ่านข้อมูลตารางที่เข้าใจง่าย ๆ  ใช้ง่าย ใช้ คอมม่า ในการแบ่ง"
      ]
    },
    {
      "cell_type": "code",
      "metadata": {
        "id": "dS5i6JSAuvVI"
      },
      "source": [
        "data_df = pd.read_csv('data.csv') #แบบแรก"
      ],
      "execution_count": 6,
      "outputs": []
    },
    {
      "cell_type": "code",
      "metadata": {
        "colab": {
          "base_uri": "https://localhost:8080/",
          "height": 141
        },
        "id": "Lo-UlUrexNrA",
        "outputId": "e571a88e-8726-4b3a-8064-1eb3449e7c8c"
      },
      "source": [
        "data_df"
      ],
      "execution_count": 7,
      "outputs": [
        {
          "output_type": "execute_result",
          "data": {
            "text/html": [
              "<div>\n",
              "<style scoped>\n",
              "    .dataframe tbody tr th:only-of-type {\n",
              "        vertical-align: middle;\n",
              "    }\n",
              "\n",
              "    .dataframe tbody tr th {\n",
              "        vertical-align: top;\n",
              "    }\n",
              "\n",
              "    .dataframe thead th {\n",
              "        text-align: right;\n",
              "    }\n",
              "</style>\n",
              "<table border=\"1\" class=\"dataframe\">\n",
              "  <thead>\n",
              "    <tr style=\"text-align: right;\">\n",
              "      <th></th>\n",
              "      <th>name</th>\n",
              "      <th>age</th>\n",
              "      <th>city</th>\n",
              "    </tr>\n",
              "  </thead>\n",
              "  <tbody>\n",
              "    <tr>\n",
              "      <th>0</th>\n",
              "      <td>Tom</td>\n",
              "      <td>27</td>\n",
              "      <td>KhonKaen</td>\n",
              "    </tr>\n",
              "    <tr>\n",
              "      <th>1</th>\n",
              "      <td>Pual</td>\n",
              "      <td>15</td>\n",
              "      <td>Bankok</td>\n",
              "    </tr>\n",
              "    <tr>\n",
              "      <th>2</th>\n",
              "      <td>Sarah</td>\n",
              "      <td>49</td>\n",
              "      <td>Lomdon</td>\n",
              "    </tr>\n",
              "  </tbody>\n",
              "</table>\n",
              "</div>"
            ],
            "text/plain": [
              "    name  age      city\n",
              "0    Tom   27  KhonKaen\n",
              "1   Pual   15    Bankok\n",
              "2  Sarah   49    Lomdon"
            ]
          },
          "metadata": {
            "tags": []
          },
          "execution_count": 7
        }
      ]
    },
    {
      "cell_type": "code",
      "metadata": {
        "colab": {
          "base_uri": "https://localhost:8080/",
          "height": 141
        },
        "id": "SPZIRIsOxStp",
        "outputId": "16c9018f-7162-4ec4-b491-5b7e0a8d1a05"
      },
      "source": [
        "data_df2 = pandas.read_csv('data.csv') #ตั้งชื่อตัวแปรใหม่ pandas_df2 #เหมือนอันแรกแต่แค่พิมพ์ pandas\n",
        "data_df2"
      ],
      "execution_count": 8,
      "outputs": [
        {
          "output_type": "execute_result",
          "data": {
            "text/html": [
              "<div>\n",
              "<style scoped>\n",
              "    .dataframe tbody tr th:only-of-type {\n",
              "        vertical-align: middle;\n",
              "    }\n",
              "\n",
              "    .dataframe tbody tr th {\n",
              "        vertical-align: top;\n",
              "    }\n",
              "\n",
              "    .dataframe thead th {\n",
              "        text-align: right;\n",
              "    }\n",
              "</style>\n",
              "<table border=\"1\" class=\"dataframe\">\n",
              "  <thead>\n",
              "    <tr style=\"text-align: right;\">\n",
              "      <th></th>\n",
              "      <th>name</th>\n",
              "      <th>age</th>\n",
              "      <th>city</th>\n",
              "    </tr>\n",
              "  </thead>\n",
              "  <tbody>\n",
              "    <tr>\n",
              "      <th>0</th>\n",
              "      <td>Tom</td>\n",
              "      <td>27</td>\n",
              "      <td>KhonKaen</td>\n",
              "    </tr>\n",
              "    <tr>\n",
              "      <th>1</th>\n",
              "      <td>Pual</td>\n",
              "      <td>15</td>\n",
              "      <td>Bankok</td>\n",
              "    </tr>\n",
              "    <tr>\n",
              "      <th>2</th>\n",
              "      <td>Sarah</td>\n",
              "      <td>49</td>\n",
              "      <td>Lomdon</td>\n",
              "    </tr>\n",
              "  </tbody>\n",
              "</table>\n",
              "</div>"
            ],
            "text/plain": [
              "    name  age      city\n",
              "0    Tom   27  KhonKaen\n",
              "1   Pual   15    Bankok\n",
              "2  Sarah   49    Lomdon"
            ]
          },
          "metadata": {
            "tags": []
          },
          "execution_count": 8
        }
      ]
    },
    {
      "cell_type": "markdown",
      "metadata": {
        "id": "ii55MbJEygyY"
      },
      "source": [
        "# Basic Python\n",
        "## Variable"
      ]
    },
    {
      "cell_type": "markdown",
      "metadata": {
        "id": "yUkXfqg21i-q"
      },
      "source": [
        "ข้อกำหนดในการตั้งชื่อตัวแปร\n",
        "\n",
        "\n",
        "1.   ชื่อห้ามมีเว้นวรรค\n",
        "2.   (พยายาม)ภาษาอังกฤษ\n",
        "3.   ตัวเล็กกับตัวใหญ่แตกต่างกัน (case sensitive)\n",
        "4.   ห้ามใช้ตัวเลขเป็นตัวหน้า\n"
      ]
    },
    {
      "cell_type": "code",
      "metadata": {
        "id": "9FNsGwfUyRE4"
      },
      "source": [
        "variable_a = 12 #สร้างขื่อตัวแปร อันนี้จะไม่มีตัวโค้ดเหมือนข้างล่าง ไม่มีโค้ดแสดงว่าเป็นตัวเลข\n",
        "variable_b = 'abcde' #เป็นตัวหนังสือก็ได้ # ' เรียกว่า โค้ด เพราะชนิดเป็นสตริง เป็นตัวหนังสือ\n",
        "variable_c = variable_a  # ค่าของ variable_c = variable_a"
      ],
      "execution_count": 9,
      "outputs": []
    },
    {
      "cell_type": "code",
      "metadata": {
        "colab": {
          "base_uri": "https://localhost:8080/"
        },
        "id": "m0JmOcJn1Hpa",
        "outputId": "12e8034b-ad1b-49c4-ba79-e971a10abfcc"
      },
      "source": [
        "variable_a"
      ],
      "execution_count": 10,
      "outputs": [
        {
          "output_type": "execute_result",
          "data": {
            "text/plain": [
              "12"
            ]
          },
          "metadata": {
            "tags": []
          },
          "execution_count": 10
        }
      ]
    },
    {
      "cell_type": "markdown",
      "metadata": {
        "id": "_xq6Ew9f1cZV"
      },
      "source": [
        ""
      ]
    },
    {
      "cell_type": "code",
      "metadata": {
        "colab": {
          "base_uri": "https://localhost:8080/",
          "height": 34
        },
        "id": "yuK_pD4D0UsZ",
        "outputId": "d05787e1-bb03-4d66-e387-7a3f043e2c93"
      },
      "source": [
        "variable_b"
      ],
      "execution_count": 11,
      "outputs": [
        {
          "output_type": "execute_result",
          "data": {
            "application/vnd.google.colaboratory.intrinsic+json": {
              "type": "string"
            },
            "text/plain": [
              "'abcde'"
            ]
          },
          "metadata": {
            "tags": []
          },
          "execution_count": 11
        }
      ]
    },
    {
      "cell_type": "code",
      "metadata": {
        "colab": {
          "base_uri": "https://localhost:8080/"
        },
        "id": "x2e_sJSr0UkS",
        "outputId": "7cfc4111-529b-4eb4-d73b-816a1e0253a6"
      },
      "source": [
        "variable_c"
      ],
      "execution_count": 12,
      "outputs": [
        {
          "output_type": "execute_result",
          "data": {
            "text/plain": [
              "12"
            ]
          },
          "metadata": {
            "tags": []
          },
          "execution_count": 12
        }
      ]
    },
    {
      "cell_type": "code",
      "metadata": {
        "colab": {
          "base_uri": "https://localhost:8080/",
          "height": 130
        },
        "id": "b5uxC2TU1Oqy",
        "outputId": "31392fb9-8c7e-47c8-8794-d37420a4fccb"
      },
      "source": [
        "#ชื่อห้ามมีเว้นวรรค\n",
        "variable a = 6 #ห้ามมีเว้นวรรคต้องติดกัน"
      ],
      "execution_count": 14,
      "outputs": [
        {
          "output_type": "error",
          "ename": "SyntaxError",
          "evalue": "ignored",
          "traceback": [
            "\u001b[0;36m  File \u001b[0;32m\"<ipython-input-14-5e2b15bc2878>\"\u001b[0;36m, line \u001b[0;32m2\u001b[0m\n\u001b[0;31m    variable a = 6 #ห้ามมีเว้นวรรคต้องติดกัน\u001b[0m\n\u001b[0m             ^\u001b[0m\n\u001b[0;31mSyntaxError\u001b[0m\u001b[0;31m:\u001b[0m invalid syntax\n"
          ]
        }
      ]
    },
    {
      "cell_type": "code",
      "metadata": {
        "colab": {
          "base_uri": "https://localhost:8080/"
        },
        "id": "2f87X8-t1OoV",
        "outputId": "3fdd93d3-9021-4608-9938-0dbf9efb961f"
      },
      "source": [
        "#(พยายาม)ภาษาอังกฤษ\n",
        "ตัวแปร = 3 #ตัวแปรเวลาเราตั้งพยายามใช้ภาษาอังกฤษจะดีกว่า\n",
        "ตัวแปร"
      ],
      "execution_count": 15,
      "outputs": [
        {
          "output_type": "execute_result",
          "data": {
            "text/plain": [
              "3"
            ]
          },
          "metadata": {
            "tags": []
          },
          "execution_count": 15
        }
      ]
    },
    {
      "cell_type": "code",
      "metadata": {
        "colab": {
          "base_uri": "https://localhost:8080/"
        },
        "id": "1-rd3wtV2N11",
        "outputId": "a0b6d446-5874-42b9-dfc1-6e325cbb99e5"
      },
      "source": [
        "#ตัวเล็กกับตัวใหญ่แตกต่างกัน (case sensitive)\n",
        "v_a = 1\n",
        "V_a = 2\n",
        "print(v_a)\n",
        "print(V_a)"
      ],
      "execution_count": 16,
      "outputs": [
        {
          "output_type": "stream",
          "text": [
            "1\n",
            "2\n"
          ],
          "name": "stdout"
        }
      ]
    },
    {
      "cell_type": "code",
      "metadata": {
        "colab": {
          "base_uri": "https://localhost:8080/"
        },
        "id": "VeBr2DxY2Nze",
        "outputId": "27d1b5f1-d2c8-43ae-d917-2468c0f6d3c8"
      },
      "source": [
        "#ตัวเล็กกับตัวใหญ่แตกต่างกัน (case sensitive)\n",
        "v_a = 1\n",
        "v_a = 2\n",
        "print(v_a)\n",
        "print(v_a) #มันจะแสดงผลออกมาอันตัวที่มันทับล่าสุดคือเลข 2"
      ],
      "execution_count": 17,
      "outputs": [
        {
          "output_type": "stream",
          "text": [
            "2\n",
            "2\n"
          ],
          "name": "stdout"
        }
      ]
    },
    {
      "cell_type": "code",
      "metadata": {
        "colab": {
          "base_uri": "https://localhost:8080/",
          "height": 130
        },
        "id": "n5XcZGNv2Nw0",
        "outputId": "78f58683-bc77-42f8-fe77-73e1e3a91297"
      },
      "source": [
        "#ห้ามใช้ตัวเลขเป็นตัวหน้า\n",
        "2 = 1"
      ],
      "execution_count": 19,
      "outputs": [
        {
          "output_type": "error",
          "ename": "SyntaxError",
          "evalue": "ignored",
          "traceback": [
            "\u001b[0;36m  File \u001b[0;32m\"<ipython-input-19-2d4ad990ef8c>\"\u001b[0;36m, line \u001b[0;32m2\u001b[0m\n\u001b[0;31m    2 = 1\u001b[0m\n\u001b[0m         ^\u001b[0m\n\u001b[0;31mSyntaxError\u001b[0m\u001b[0;31m:\u001b[0m can't assign to literal\n"
          ]
        }
      ]
    },
    {
      "cell_type": "code",
      "metadata": {
        "colab": {
          "base_uri": "https://localhost:8080/",
          "height": 130
        },
        "id": "xTUAB59Q3qxB",
        "outputId": "2d6ef71d-7e01-4450-9720-4f8d1c9285d0"
      },
      "source": [
        "#ห้ามใช้ตัวเลขเป็นตัวหน้า\n",
        "2ab = 1"
      ],
      "execution_count": 26,
      "outputs": [
        {
          "output_type": "error",
          "ename": "SyntaxError",
          "evalue": "ignored",
          "traceback": [
            "\u001b[0;36m  File \u001b[0;32m\"<ipython-input-26-b408d3f2d8a4>\"\u001b[0;36m, line \u001b[0;32m2\u001b[0m\n\u001b[0;31m    2ab = 1\u001b[0m\n\u001b[0m      ^\u001b[0m\n\u001b[0;31mSyntaxError\u001b[0m\u001b[0;31m:\u001b[0m invalid syntax\n"
          ]
        }
      ]
    },
    {
      "cell_type": "code",
      "metadata": {
        "id": "aG1LFgQZ3quc"
      },
      "source": [
        "#ห้ามใช้ตัวเลขเป็นตัวหน้า\n",
        "variable = 1"
      ],
      "execution_count": 27,
      "outputs": []
    },
    {
      "cell_type": "code",
      "metadata": {
        "colab": {
          "base_uri": "https://localhost:8080/"
        },
        "id": "TKzkTRvZ3qrz",
        "outputId": "88a1861e-cbb3-4a30-9d8c-dfec8c4b3ae5"
      },
      "source": [
        "print(variable)"
      ],
      "execution_count": 28,
      "outputs": [
        {
          "output_type": "stream",
          "text": [
            "1\n"
          ],
          "name": "stdout"
        }
      ]
    },
    {
      "cell_type": "code",
      "metadata": {
        "id": "4jcsO35v3qpP"
      },
      "source": [
        "variable_a = 12 #สร้างขื่อตัวแปร อันนี้จะไม่มีตัวโค้ดเหมือนข้างล่าง ไม่มีโค้ดแสดงว่าเป็นตัวเลข\n",
        "variable_b = 'abcde' #เป็นตัวหนังสือก็ได้ # ' เรียกว่า โค้ด เพราะชนิดเป็นสตริง เป็นตัวหนังสือ\n",
        "variable_c = variable_a  # ค่าของ variable_c = variable_a\n",
        "variable_d = -41.2 #สามารถพิมพ์ติดลบได้\n",
        "variable_4 = \"KKU\" #ตัวเลขอยู่ตรงไหนก็ได้ห้ามไว้ข้างหน้าก็พอ # \" อ่านว่าดับเบิ้ลโค้ด"
      ],
      "execution_count": 29,
      "outputs": []
    },
    {
      "cell_type": "code",
      "metadata": {
        "colab": {
          "base_uri": "https://localhost:8080/"
        },
        "id": "_zrt6LRF3qm5",
        "outputId": "a16b52af-3b87-454a-d98b-d68f0d6478f6"
      },
      "source": [
        "variable_x = variable_c + variable_d\n",
        "print(variable_x) "
      ],
      "execution_count": 30,
      "outputs": [
        {
          "output_type": "stream",
          "text": [
            "-29.200000000000003\n"
          ],
          "name": "stdout"
        }
      ]
    },
    {
      "cell_type": "code",
      "metadata": {
        "colab": {
          "base_uri": "https://localhost:8080/",
          "height": 164
        },
        "id": "_9RsU_9k3qjy",
        "outputId": "769bcf55-a36c-4d3e-dd97-b3fbb30f9a55"
      },
      "source": [
        "variable_a + variable_b #แสดงเอ่อเร่อเพราะตัวเลขกะตัวหนังสือไม่สามารถบวกกันได้"
      ],
      "execution_count": 31,
      "outputs": [
        {
          "output_type": "error",
          "ename": "TypeError",
          "evalue": "ignored",
          "traceback": [
            "\u001b[0;31m---------------------------------------------------------------------------\u001b[0m",
            "\u001b[0;31mTypeError\u001b[0m                                 Traceback (most recent call last)",
            "\u001b[0;32m<ipython-input-31-df9346acdd34>\u001b[0m in \u001b[0;36m<module>\u001b[0;34m()\u001b[0m\n\u001b[0;32m----> 1\u001b[0;31m \u001b[0mvariable_a\u001b[0m \u001b[0;34m+\u001b[0m \u001b[0mvariable_b\u001b[0m \u001b[0;31m#แสดงเอ่อเร่อเพราะตัวเลขกะตัวหนังสือไม่สามารถบวกกันได้\u001b[0m\u001b[0;34m\u001b[0m\u001b[0;34m\u001b[0m\u001b[0m\n\u001b[0m",
            "\u001b[0;31mTypeError\u001b[0m: unsupported operand type(s) for +: 'int' and 'str'"
          ]
        }
      ]
    },
    {
      "cell_type": "code",
      "metadata": {
        "id": "HFr2Ct2K3qgy"
      },
      "source": [
        "print(variable_b + variable_4) #ตัวหนังสือกับตัวหนังสือบวกกัน"
      ],
      "execution_count": null,
      "outputs": []
    },
    {
      "cell_type": "markdown",
      "metadata": {
        "id": "7cU_oBNo7DkT"
      },
      "source": [
        "## Casting int () float () str ()\n",
        "\n",
        "เราสามารถเปลี่ยนชนิดของตัวแปรได้"
      ]
    },
    {
      "cell_type": "code",
      "metadata": {
        "colab": {
          "base_uri": "https://localhost:8080/"
        },
        "id": "cbVSxTe21OmB",
        "outputId": "12999739-9b86-4c8e-ea6d-3117050d0cc0"
      },
      "source": [
        "print(variable_x) \n",
        "print(int(variable_x))  #เปลี่ยนเป็นจำนวนเต็มไม่มีทศนิยม"
      ],
      "execution_count": 32,
      "outputs": [
        {
          "output_type": "stream",
          "text": [
            "-29.200000000000003\n",
            "-29\n"
          ],
          "name": "stdout"
        }
      ]
    },
    {
      "cell_type": "code",
      "metadata": {
        "colab": {
          "base_uri": "https://localhost:8080/"
        },
        "id": "1taoavn81OjV",
        "outputId": "a3c4ef3a-59f3-47b5-c296-d13c156f618d"
      },
      "source": [
        "V_X = str(variable_x)\n",
        "print(V_X)"
      ],
      "execution_count": 33,
      "outputs": [
        {
          "output_type": "stream",
          "text": [
            "-29.200000000000003\n"
          ],
          "name": "stdout"
        }
      ]
    },
    {
      "cell_type": "code",
      "metadata": {
        "colab": {
          "base_uri": "https://localhost:8080/",
          "height": 164
        },
        "id": "fEnXphUq1Ogx",
        "outputId": "e2f8997e-fe14-47ff-8be4-4648eb09a5d5"
      },
      "source": [
        "V_X + variable_a  #ไม่สามารถแสดงได้"
      ],
      "execution_count": 35,
      "outputs": [
        {
          "output_type": "error",
          "ename": "TypeError",
          "evalue": "ignored",
          "traceback": [
            "\u001b[0;31m---------------------------------------------------------------------------\u001b[0m",
            "\u001b[0;31mTypeError\u001b[0m                                 Traceback (most recent call last)",
            "\u001b[0;32m<ipython-input-35-df3991df4eb3>\u001b[0m in \u001b[0;36m<module>\u001b[0;34m()\u001b[0m\n\u001b[0;32m----> 1\u001b[0;31m \u001b[0mV_X\u001b[0m \u001b[0;34m+\u001b[0m \u001b[0mvariable_a\u001b[0m  \u001b[0;31m#ไม่สามารถแสดงได้\u001b[0m\u001b[0;34m\u001b[0m\u001b[0;34m\u001b[0m\u001b[0m\n\u001b[0m",
            "\u001b[0;31mTypeError\u001b[0m: can only concatenate str (not \"int\") to str"
          ]
        }
      ]
    },
    {
      "cell_type": "code",
      "metadata": {
        "colab": {
          "base_uri": "https://localhost:8080/",
          "height": 164
        },
        "id": "4MuyhaB675n6",
        "outputId": "a67d940b-7825-464a-dfed-c1fe6369e581"
      },
      "source": [
        "variable_a + V_X  #ตัวเลขไม่สามารถเอา str มาบวกได้"
      ],
      "execution_count": 37,
      "outputs": [
        {
          "output_type": "error",
          "ename": "TypeError",
          "evalue": "ignored",
          "traceback": [
            "\u001b[0;31m---------------------------------------------------------------------------\u001b[0m",
            "\u001b[0;31mTypeError\u001b[0m                                 Traceback (most recent call last)",
            "\u001b[0;32m<ipython-input-37-eddd7e09b23d>\u001b[0m in \u001b[0;36m<module>\u001b[0;34m()\u001b[0m\n\u001b[0;32m----> 1\u001b[0;31m \u001b[0mvariable_a\u001b[0m \u001b[0;34m+\u001b[0m \u001b[0mV_X\u001b[0m  \u001b[0;31m#ตัวเลขไม่สามารถเอา str มาบวกได้\u001b[0m\u001b[0;34m\u001b[0m\u001b[0;34m\u001b[0m\u001b[0m\n\u001b[0m",
            "\u001b[0;31mTypeError\u001b[0m: unsupported operand type(s) for +: 'int' and 'str'"
          ]
        }
      ]
    },
    {
      "cell_type": "code",
      "metadata": {
        "colab": {
          "base_uri": "https://localhost:8080/",
          "height": 34
        },
        "id": "c3O7-tQx75lx",
        "outputId": "4d7f1914-0f55-4a83-ccdb-8c29292ca773"
      },
      "source": [
        "V_X"
      ],
      "execution_count": 38,
      "outputs": [
        {
          "output_type": "execute_result",
          "data": {
            "application/vnd.google.colaboratory.intrinsic+json": {
              "type": "string"
            },
            "text/plain": [
              "'-29.200000000000003'"
            ]
          },
          "metadata": {
            "tags": []
          },
          "execution_count": 38
        }
      ]
    },
    {
      "cell_type": "code",
      "metadata": {
        "colab": {
          "base_uri": "https://localhost:8080/"
        },
        "id": "pwKgKwPK75jJ",
        "outputId": "5bcfe20e-cd2d-4ee3-8121-c752260ed281"
      },
      "source": [
        "float(V_X)"
      ],
      "execution_count": 39,
      "outputs": [
        {
          "output_type": "execute_result",
          "data": {
            "text/plain": [
              "-29.200000000000003"
            ]
          },
          "metadata": {
            "tags": []
          },
          "execution_count": 39
        }
      ]
    },
    {
      "cell_type": "markdown",
      "metadata": {
        "id": "l1ecXd9b87ai"
      },
      "source": [
        "##Data Structure \n",
        "### list() "
      ]
    },
    {
      "cell_type": "code",
      "metadata": {
        "id": "_8MOVvCp75g5"
      },
      "source": [
        "list_a = [1,2,0.2,'abs'] #[] เรียกว่า สแคว์แบกเกต\n",
        "list_b = [2,'xyz',list_a,[1,2,0.0]]"
      ],
      "execution_count": 40,
      "outputs": []
    },
    {
      "cell_type": "code",
      "metadata": {
        "colab": {
          "base_uri": "https://localhost:8080/"
        },
        "id": "sGOg7X0r75eh",
        "outputId": "586c5fbe-da37-4df0-a4e2-6f3047496f24"
      },
      "source": [
        "list_a #list ข้อมูลเรียงต่อ ๆ กัน"
      ],
      "execution_count": 41,
      "outputs": [
        {
          "output_type": "execute_result",
          "data": {
            "text/plain": [
              "[1, 2, 0.2, 'abs']"
            ]
          },
          "metadata": {
            "tags": []
          },
          "execution_count": 41
        }
      ]
    },
    {
      "cell_type": "code",
      "metadata": {
        "colab": {
          "base_uri": "https://localhost:8080/"
        },
        "id": "Lgn54svj98Kp",
        "outputId": "4129507e-306a-4d8c-b58f-c8c45eee6b3c"
      },
      "source": [
        "list_b #มีสมาชิก 4 ตัว "
      ],
      "execution_count": 42,
      "outputs": [
        {
          "output_type": "execute_result",
          "data": {
            "text/plain": [
              "[2, 'xyz', [1, 2, 0.2, 'abs'], [1, 2, 0.0]]"
            ]
          },
          "metadata": {
            "tags": []
          },
          "execution_count": 42
        }
      ]
    },
    {
      "cell_type": "code",
      "metadata": {
        "colab": {
          "base_uri": "https://localhost:8080/"
        },
        "id": "1QxkSLuH-CAy",
        "outputId": "e23f6d7d-183e-4292-c67c-cbf867208855"
      },
      "source": [
        "len(list_b) #len ดูจำนวนสมาชิกว่ามีกี่ตัว"
      ],
      "execution_count": 43,
      "outputs": [
        {
          "output_type": "execute_result",
          "data": {
            "text/plain": [
              "4"
            ]
          },
          "metadata": {
            "tags": []
          },
          "execution_count": 43
        }
      ]
    },
    {
      "cell_type": "code",
      "metadata": {
        "colab": {
          "base_uri": "https://localhost:8080/"
        },
        "id": "xN9NQbP7-J5t",
        "outputId": "9f520a31-1c94-4b02-d2e6-e9c5faa4513e"
      },
      "source": [
        "list_b[3] #ชี้ไปตัวที่ 3 ของ list b เริ่มต้นคือตัวที่ 0"
      ],
      "execution_count": 44,
      "outputs": [
        {
          "output_type": "execute_result",
          "data": {
            "text/plain": [
              "[1, 2, 0.0]"
            ]
          },
          "metadata": {
            "tags": []
          },
          "execution_count": 44
        }
      ]
    },
    {
      "cell_type": "code",
      "metadata": {
        "colab": {
          "base_uri": "https://localhost:8080/"
        },
        "id": "_G6Ew1Dh-J3m",
        "outputId": "8ded395b-90b3-404f-ca78-f507072090b9"
      },
      "source": [
        "list_b[3][1] #ชี้เข้าไปข้างในอีก เป็น list ซ้อน list"
      ],
      "execution_count": 45,
      "outputs": [
        {
          "output_type": "execute_result",
          "data": {
            "text/plain": [
              "2"
            ]
          },
          "metadata": {
            "tags": []
          },
          "execution_count": 45
        }
      ]
    },
    {
      "cell_type": "markdown",
      "metadata": {
        "id": "YuKiEXt3-4eC"
      },
      "source": [
        "### string คือ list ของตัวหนังสือ"
      ]
    },
    {
      "cell_type": "code",
      "metadata": {
        "id": "1IyVxb42-JyO"
      },
      "source": [
        "a = 'Stat KKU'"
      ],
      "execution_count": 46,
      "outputs": []
    },
    {
      "cell_type": "code",
      "metadata": {
        "colab": {
          "base_uri": "https://localhost:8080/",
          "height": 0
        },
        "id": "rryujhst-Jvk",
        "outputId": "6e584e15-575d-4762-f940-fe220d397662"
      },
      "source": [
        "a [4] #ชี้ไปตัวที่ 4 "
      ],
      "execution_count": 47,
      "outputs": [
        {
          "output_type": "execute_result",
          "data": {
            "application/vnd.google.colaboratory.intrinsic+json": {
              "type": "string"
            },
            "text/plain": [
              "' '"
            ]
          },
          "metadata": {
            "tags": []
          },
          "execution_count": 47
        }
      ]
    },
    {
      "cell_type": "markdown",
      "metadata": {
        "id": "J6deVNg4_gTs"
      },
      "source": [
        "### วิธีสร้าง list ว่าง"
      ]
    },
    {
      "cell_type": "code",
      "metadata": {
        "id": "weUA4fzT-JtR"
      },
      "source": [
        "list_c = list() #สร้างตัวแปร list #แบบที่ 1\n",
        "list_d = [] # แบบที่ 2 "
      ],
      "execution_count": 48,
      "outputs": []
    },
    {
      "cell_type": "code",
      "metadata": {
        "colab": {
          "base_uri": "https://localhost:8080/"
        },
        "id": "8VhJ6PoR-JqV",
        "outputId": "8c9b1d16-5942-46f3-bd26-40478b7b4a77"
      },
      "source": [
        "list_c"
      ],
      "execution_count": 49,
      "outputs": [
        {
          "output_type": "execute_result",
          "data": {
            "text/plain": [
              "[]"
            ]
          },
          "metadata": {
            "tags": []
          },
          "execution_count": 49
        }
      ]
    },
    {
      "cell_type": "code",
      "metadata": {
        "colab": {
          "base_uri": "https://localhost:8080/"
        },
        "id": "1HcDlr2B-Jny",
        "outputId": "55da0443-e4b1-4a2a-df26-9a33175d6f4c"
      },
      "source": [
        "list_d"
      ],
      "execution_count": 50,
      "outputs": [
        {
          "output_type": "execute_result",
          "data": {
            "text/plain": [
              "[]"
            ]
          },
          "metadata": {
            "tags": []
          },
          "execution_count": 50
        }
      ]
    },
    {
      "cell_type": "markdown",
      "metadata": {
        "id": "4MxeCBeOAkbB"
      },
      "source": [
        "###เติมค่าลงไปใน list ใช้ (.append) "
      ]
    },
    {
      "cell_type": "code",
      "metadata": {
        "id": "SCJQMThV_8oa"
      },
      "source": [
        "list_d.append('a')"
      ],
      "execution_count": 51,
      "outputs": []
    },
    {
      "cell_type": "code",
      "metadata": {
        "colab": {
          "base_uri": "https://localhost:8080/"
        },
        "id": "AfnMv1Y3AvMj",
        "outputId": "49f979ae-6477-451c-bab0-6ebca71373b5"
      },
      "source": [
        "list_d"
      ],
      "execution_count": 52,
      "outputs": [
        {
          "output_type": "execute_result",
          "data": {
            "text/plain": [
              "['a']"
            ]
          },
          "metadata": {
            "tags": []
          },
          "execution_count": 52
        }
      ]
    },
    {
      "cell_type": "code",
      "metadata": {
        "id": "qC2EIONGAwli"
      },
      "source": [
        "list_d.append(56)"
      ],
      "execution_count": 53,
      "outputs": []
    },
    {
      "cell_type": "code",
      "metadata": {
        "colab": {
          "base_uri": "https://localhost:8080/"
        },
        "id": "bEguh2eSA0Iy",
        "outputId": "3d96c7c0-4d28-4ec1-a285-8bde3336c567"
      },
      "source": [
        "list_d"
      ],
      "execution_count": 54,
      "outputs": [
        {
          "output_type": "execute_result",
          "data": {
            "text/plain": [
              "['a', 56]"
            ]
          },
          "metadata": {
            "tags": []
          },
          "execution_count": 54
        }
      ]
    },
    {
      "cell_type": "markdown",
      "metadata": {
        "id": "wWj2hePKBIzD"
      },
      "source": [
        "### การชี้ค่าใน list (indexing)\n",
        "\n",
        "1.   ใช้ลำดับในการชี้\n",
        "2.   ลำดับเริ่มจาก 0 \n",
        "3.   สามารถชี้จากข้างหลังได้โดยใช้ negative index \n",
        "\n"
      ]
    },
    {
      "cell_type": "code",
      "metadata": {
        "colab": {
          "base_uri": "https://localhost:8080/"
        },
        "id": "2uGqj0G3A6WO",
        "outputId": "5ce6d9e7-f7cd-4af7-fca4-2990dbde91ce"
      },
      "source": [
        "list_b"
      ],
      "execution_count": 55,
      "outputs": [
        {
          "output_type": "execute_result",
          "data": {
            "text/plain": [
              "[2, 'xyz', [1, 2, 0.2, 'abs'], [1, 2, 0.0]]"
            ]
          },
          "metadata": {
            "tags": []
          },
          "execution_count": 55
        }
      ]
    },
    {
      "cell_type": "code",
      "metadata": {
        "colab": {
          "base_uri": "https://localhost:8080/"
        },
        "id": "DNcY6eHyA6Tb",
        "outputId": "163d6431-6610-4034-d652-e837e9ff971f"
      },
      "source": [
        "list_b[-1] #ชี้จากหลังสุด ลบ คือ ชี้จากด้านหลัง"
      ],
      "execution_count": 56,
      "outputs": [
        {
          "output_type": "execute_result",
          "data": {
            "text/plain": [
              "[1, 2, 0.0]"
            ]
          },
          "metadata": {
            "tags": []
          },
          "execution_count": 56
        }
      ]
    },
    {
      "cell_type": "markdown",
      "metadata": {
        "id": "GaNYSPveCH_r"
      },
      "source": [
        "### list slicing การตัดลิสต์"
      ]
    },
    {
      "cell_type": "code",
      "metadata": {
        "id": "WrFOjbRLA6RF"
      },
      "source": [
        "list_ex = [1,2,3,5,6,8,-1,20,50,0]"
      ],
      "execution_count": 57,
      "outputs": []
    },
    {
      "cell_type": "code",
      "metadata": {
        "colab": {
          "base_uri": "https://localhost:8080/",
          "height": 130
        },
        "id": "PdBIkdH-A6O6",
        "outputId": "63c865d9-0abf-4700-9090-e3ef9c468968"
      },
      "source": [
        "list_ex[1:6] #สัญลักษณ์ในการตัด คือ : # เราจะตัดลิสต์โดยเอาตั้งแต่ [ตัวหน้า : ตัวก่อนตัวหลัง] \n",
        "ถ้าเป็นสัญลักษณ์ทางคณิตศาสตร์ [ตัวหน้า : ตัวก่อนตัวหลัง]  -> [ตัวหน้า : ตัวหลัง)"
      ],
      "execution_count": 59,
      "outputs": [
        {
          "output_type": "error",
          "ename": "SyntaxError",
          "evalue": "ignored",
          "traceback": [
            "\u001b[0;36m  File \u001b[0;32m\"<ipython-input-59-7118548c44eb>\"\u001b[0;36m, line \u001b[0;32m2\u001b[0m\n\u001b[0;31m    ถ้าเป็นสัญลักษณ์ทางคณิตศาสตร์ [ตัวหน้า : ตัวก่อนตัวหลัง]  -> [ตัวหน้า : ตัวหลัง)\u001b[0m\n\u001b[0m                                                               ^\u001b[0m\n\u001b[0;31mSyntaxError\u001b[0m\u001b[0;31m:\u001b[0m invalid syntax\n"
          ]
        }
      ]
    },
    {
      "cell_type": "code",
      "metadata": {
        "colab": {
          "base_uri": "https://localhost:8080/"
        },
        "id": "zbZTAKFaA6MC",
        "outputId": "017e1fcb-0032-4d6a-f8f5-02fad563fd88"
      },
      "source": [
        "list_ex[4:] #ข้างหลังถ้าเว้นไว้คือเอาทั้งหมดถึงตัวสุดท้าย"
      ],
      "execution_count": 60,
      "outputs": [
        {
          "output_type": "execute_result",
          "data": {
            "text/plain": [
              "[6, 8, -1, 20, 50, 0]"
            ]
          },
          "metadata": {
            "tags": []
          },
          "execution_count": 60
        }
      ]
    },
    {
      "cell_type": "code",
      "metadata": {
        "colab": {
          "base_uri": "https://localhost:8080/"
        },
        "id": "p8RoCuM_A6Jg",
        "outputId": "3c76dc54-d107-4e94-cb3a-255173d3bc55"
      },
      "source": [
        "list_ex[:6] #เอาตั้งแต่ตัวแรกก่อนถึงตัวข้างหลัง"
      ],
      "execution_count": 61,
      "outputs": [
        {
          "output_type": "execute_result",
          "data": {
            "text/plain": [
              "[1, 2, 3, 5, 6, 8]"
            ]
          },
          "metadata": {
            "tags": []
          },
          "execution_count": 61
        }
      ]
    },
    {
      "cell_type": "markdown",
      "metadata": {
        "id": "F3Qr_rs3EHZ1"
      },
      "source": [
        "### [จุดเริ่มต้น:จุดสุดท้าย :step]"
      ]
    },
    {
      "cell_type": "code",
      "metadata": {
        "colab": {
          "base_uri": "https://localhost:8080/"
        },
        "id": "0Rmy7q-lEVfU",
        "outputId": "6dead4da-fcad-4366-b487-16cc913e2bb5"
      },
      "source": [
        "list_ex"
      ],
      "execution_count": 62,
      "outputs": [
        {
          "output_type": "execute_result",
          "data": {
            "text/plain": [
              "[1, 2, 3, 5, 6, 8, -1, 20, 50, 0]"
            ]
          },
          "metadata": {
            "tags": []
          },
          "execution_count": 62
        }
      ]
    },
    {
      "cell_type": "code",
      "metadata": {
        "colab": {
          "base_uri": "https://localhost:8080/"
        },
        "id": "vwAxOMhHA6HZ",
        "outputId": "83a22016-6a2f-40cb-8f89-b22f435f7968"
      },
      "source": [
        "list_ex[: : 2] #เอาตั้งแต่ตัวแรกไปจนถึงตัวสุดท้าย step 2 #step 2 คือกระโดดแล้วเอาตัวที่ 2"
      ],
      "execution_count": 63,
      "outputs": [
        {
          "output_type": "execute_result",
          "data": {
            "text/plain": [
              "[1, 3, 6, -1, 50]"
            ]
          },
          "metadata": {
            "tags": []
          },
          "execution_count": 63
        }
      ]
    },
    {
      "cell_type": "code",
      "metadata": {
        "colab": {
          "base_uri": "https://localhost:8080/"
        },
        "id": "IseRs8uSA6ES",
        "outputId": "9f0ca3f8-7249-42bf-fcb7-650afa5c822b"
      },
      "source": [
        "list_ex[: : -1] #กลับข้างลิสต์จากหลังมาหน้า"
      ],
      "execution_count": 64,
      "outputs": [
        {
          "output_type": "execute_result",
          "data": {
            "text/plain": [
              "[0, 50, 20, -1, 8, 6, 5, 3, 2, 1]"
            ]
          },
          "metadata": {
            "tags": []
          },
          "execution_count": 64
        }
      ]
    },
    {
      "cell_type": "code",
      "metadata": {
        "colab": {
          "base_uri": "https://localhost:8080/",
          "height": 34
        },
        "id": "uWlh0h0HA6Bq",
        "outputId": "48ca5596-d546-442a-bd6e-1a63206aa1de"
      },
      "source": [
        "a"
      ],
      "execution_count": 65,
      "outputs": [
        {
          "output_type": "execute_result",
          "data": {
            "application/vnd.google.colaboratory.intrinsic+json": {
              "type": "string"
            },
            "text/plain": [
              "'Stat KKU'"
            ]
          },
          "metadata": {
            "tags": []
          },
          "execution_count": 65
        }
      ]
    },
    {
      "cell_type": "code",
      "metadata": {
        "colab": {
          "base_uri": "https://localhost:8080/",
          "height": 34
        },
        "id": "dsbcWw6rA50q",
        "outputId": "b242875d-7fc0-459e-c929-fdd39a989ce3"
      },
      "source": [
        "a [5 : ]"
      ],
      "execution_count": 66,
      "outputs": [
        {
          "output_type": "execute_result",
          "data": {
            "application/vnd.google.colaboratory.intrinsic+json": {
              "type": "string"
            },
            "text/plain": [
              "'KKU'"
            ]
          },
          "metadata": {
            "tags": []
          },
          "execution_count": 66
        }
      ]
    },
    {
      "cell_type": "code",
      "metadata": {
        "colab": {
          "base_uri": "https://localhost:8080/",
          "height": 34
        },
        "id": "c-yd27-wA1ca",
        "outputId": "d9cd6d67-9488-4f18-98d6-d8ad58f51490"
      },
      "source": [
        "a[-3 :]"
      ],
      "execution_count": 67,
      "outputs": [
        {
          "output_type": "execute_result",
          "data": {
            "application/vnd.google.colaboratory.intrinsic+json": {
              "type": "string"
            },
            "text/plain": [
              "'KKU'"
            ]
          },
          "metadata": {
            "tags": []
          },
          "execution_count": 67
        }
      ]
    },
    {
      "cell_type": "code",
      "metadata": {
        "colab": {
          "base_uri": "https://localhost:8080/",
          "height": 34
        },
        "id": "enkALBIKFyvj",
        "outputId": "afae8479-cee3-4899-997c-c6bfa67efe31"
      },
      "source": [
        "a[5 : 8]"
      ],
      "execution_count": 68,
      "outputs": [
        {
          "output_type": "execute_result",
          "data": {
            "application/vnd.google.colaboratory.intrinsic+json": {
              "type": "string"
            },
            "text/plain": [
              "'KKU'"
            ]
          },
          "metadata": {
            "tags": []
          },
          "execution_count": 68
        }
      ]
    },
    {
      "cell_type": "code",
      "metadata": {
        "colab": {
          "base_uri": "https://localhost:8080/",
          "height": 34
        },
        "id": "p9ISijN6F1PT",
        "outputId": "542c9920-b73a-4232-f347-c998df1cd2d9"
      },
      "source": [
        "a[5 : :]"
      ],
      "execution_count": 69,
      "outputs": [
        {
          "output_type": "execute_result",
          "data": {
            "application/vnd.google.colaboratory.intrinsic+json": {
              "type": "string"
            },
            "text/plain": [
              "'KKU'"
            ]
          },
          "metadata": {
            "tags": []
          },
          "execution_count": 69
        }
      ]
    },
    {
      "cell_type": "code",
      "metadata": {
        "colab": {
          "base_uri": "https://localhost:8080/",
          "height": 34
        },
        "id": "YDQLJjlrGHCF",
        "outputId": "adc90693-141e-4b83-f7df-e731847b85ab"
      },
      "source": [
        "a[-3 : :]"
      ],
      "execution_count": 70,
      "outputs": [
        {
          "output_type": "execute_result",
          "data": {
            "application/vnd.google.colaboratory.intrinsic+json": {
              "type": "string"
            },
            "text/plain": [
              "'KKU'"
            ]
          },
          "metadata": {
            "tags": []
          },
          "execution_count": 70
        }
      ]
    },
    {
      "cell_type": "markdown",
      "metadata": {
        "id": "lYmhPD68GpDK"
      },
      "source": [
        "### list + list "
      ]
    },
    {
      "cell_type": "code",
      "metadata": {
        "colab": {
          "base_uri": "https://localhost:8080/"
        },
        "id": "mH0_ldttGWB8",
        "outputId": "76d14176-d29b-408d-8fb1-3cf66d59b258"
      },
      "source": [
        "print(list_a)\n",
        "print(list_b)"
      ],
      "execution_count": 71,
      "outputs": [
        {
          "output_type": "stream",
          "text": [
            "[1, 2, 0.2, 'abs']\n",
            "[2, 'xyz', [1, 2, 0.2, 'abs'], [1, 2, 0.0]]\n"
          ],
          "name": "stdout"
        }
      ]
    },
    {
      "cell_type": "code",
      "metadata": {
        "colab": {
          "base_uri": "https://localhost:8080/"
        },
        "id": "Iu50u1KkGoJF",
        "outputId": "6c6d652b-4563-4fab-9454-35aecc9847f7"
      },
      "source": [
        "list_a + list_b"
      ],
      "execution_count": 72,
      "outputs": [
        {
          "output_type": "execute_result",
          "data": {
            "text/plain": [
              "[1, 2, 0.2, 'abs', 2, 'xyz', [1, 2, 0.2, 'abs'], [1, 2, 0.0]]"
            ]
          },
          "metadata": {
            "tags": []
          },
          "execution_count": 72
        }
      ]
    },
    {
      "cell_type": "markdown",
      "metadata": {
        "id": "QdLDU4_8LMxE"
      },
      "source": [
        "# format string"
      ]
    },
    {
      "cell_type": "markdown",
      "metadata": {
        "id": "oql2YdNsL8jF"
      },
      "source": [
        "```python\n",
        "f ' string {ตัวแปร} '\n",
        "```\n",
        "\n",
        "เรียกว่า Curely Bracket"
      ]
    },
    {
      "cell_type": "code",
      "metadata": {
        "colab": {
          "base_uri": "https://localhost:8080/",
          "height": 34
        },
        "id": "TaJ24YRyLRxe",
        "outputId": "4fb369ec-9f7f-40f6-acbe-b6e1a1c28089"
      },
      "source": [
        "f'ตัวแปร list_a มีค่าคือ {list_a}'"
      ],
      "execution_count": 73,
      "outputs": [
        {
          "output_type": "execute_result",
          "data": {
            "application/vnd.google.colaboratory.intrinsic+json": {
              "type": "string"
            },
            "text/plain": [
              "\"ตัวแปร list_a มีค่าคือ [1, 2, 0.2, 'abs']\""
            ]
          },
          "metadata": {
            "tags": []
          },
          "execution_count": 73
        }
      ]
    },
    {
      "cell_type": "code",
      "metadata": {
        "id": "thiT2c-pRpCd"
      },
      "source": [
        ""
      ],
      "execution_count": 73,
      "outputs": []
    },
    {
      "cell_type": "markdown",
      "metadata": {
        "id": "9aUwBJAuHOTg"
      },
      "source": [
        "#Loop\n",
        "\n",
        "ทำงานซ้ำ ๆ หรือ ทำงานคล้าย ๆ กัน "
      ]
    },
    {
      "cell_type": "markdown",
      "metadata": {
        "id": "BFN5kEdxKVk1"
      },
      "source": [
        "indent แปลว่า เว้น กดเว้นวรรค 1 ครั้งก็พอ\n",
        "```python\n",
        "for  ตัวแปรที่จะรับค่าจากลิสต์  in ลิสต์ที่จะนำมาวนลูบ :\n",
        "      do someting #in_loop\n",
        "      do anothe thing #in_loop\n",
        "\n",
        "do other things #out side loop\n",
        "```\n",
        "\n"
      ]
    },
    {
      "cell_type": "code",
      "metadata": {
        "colab": {
          "base_uri": "https://localhost:8080/"
        },
        "id": "1w_PDpfzJqBu",
        "outputId": "4b448cee-3bf2-448a-adbe-7965622a462a"
      },
      "source": [
        "for i in [1,2,3,4,5] : #ดึงค่าใน list มาใส่ในตัวแปร i\n",
        "      print(i+1)"
      ],
      "execution_count": 74,
      "outputs": [
        {
          "output_type": "stream",
          "text": [
            "2\n",
            "3\n",
            "4\n",
            "5\n",
            "6\n"
          ],
          "name": "stdout"
        }
      ]
    },
    {
      "cell_type": "code",
      "metadata": {
        "colab": {
          "base_uri": "https://localhost:8080/"
        },
        "id": "kcAcGDN6MYEU",
        "outputId": "75fdaf2b-1069-483d-9674-75185588d9db"
      },
      "source": [
        "for x in [1,2,3,4,5]:\n",
        "    print(f'ค่าตัวแปร x คือ {x} และ x+2 = {x+2}') #formate str ใช้ร่วมกับตัวแปร"
      ],
      "execution_count": 75,
      "outputs": [
        {
          "output_type": "stream",
          "text": [
            "ค่าตัวแปร x คือ 1 และ x+2 = 3\n",
            "ค่าตัวแปร x คือ 2 และ x+2 = 4\n",
            "ค่าตัวแปร x คือ 3 และ x+2 = 5\n",
            "ค่าตัวแปร x คือ 4 และ x+2 = 6\n",
            "ค่าตัวแปร x คือ 5 และ x+2 = 7\n"
          ],
          "name": "stdout"
        }
      ]
    },
    {
      "cell_type": "code",
      "metadata": {
        "colab": {
          "base_uri": "https://localhost:8080/"
        },
        "id": "cdDVdYSZMt8l",
        "outputId": "f6b81b1c-b03f-4cea-826c-35db53c40f15"
      },
      "source": [
        "list5 =  [1,2,3,4,5]\n",
        "for x in list5:\n",
        "     print(f'ค่าตัวแปร x คือ {x} และ x+2 = {x+2}')"
      ],
      "execution_count": 76,
      "outputs": [
        {
          "output_type": "stream",
          "text": [
            "ค่าตัวแปร x คือ 1 และ x+2 = 3\n",
            "ค่าตัวแปร x คือ 2 และ x+2 = 4\n",
            "ค่าตัวแปร x คือ 3 และ x+2 = 5\n",
            "ค่าตัวแปร x คือ 4 และ x+2 = 6\n",
            "ค่าตัวแปร x คือ 5 และ x+2 = 7\n"
          ],
          "name": "stdout"
        }
      ]
    },
    {
      "cell_type": "code",
      "metadata": {
        "colab": {
          "base_uri": "https://localhost:8080/"
        },
        "id": "sIlzpXjgMtz2",
        "outputId": "a4098df4-fbef-488f-e6e0-115e5c2158f4"
      },
      "source": [
        "list(range(10)) #สร้าง list ค่าที่เริ่มจาก 0 ไปจนถึงค่าก่อนเลข 10"
      ],
      "execution_count": 77,
      "outputs": [
        {
          "output_type": "execute_result",
          "data": {
            "text/plain": [
              "[0, 1, 2, 3, 4, 5, 6, 7, 8, 9]"
            ]
          },
          "metadata": {
            "tags": []
          },
          "execution_count": 77
        }
      ]
    },
    {
      "cell_type": "code",
      "metadata": {
        "colab": {
          "base_uri": "https://localhost:8080/"
        },
        "id": "93Jb9tIQMtwK",
        "outputId": "4b2ed4b9-f74e-4d9f-bea2-7d07ad786367"
      },
      "source": [
        "for i in range(2,7) : #(จุดเริ่มต้น:จุดก่อนสุดท้าย)\n",
        "    print(i)"
      ],
      "execution_count": 78,
      "outputs": [
        {
          "output_type": "stream",
          "text": [
            "2\n",
            "3\n",
            "4\n",
            "5\n",
            "6\n"
          ],
          "name": "stdout"
        }
      ]
    },
    {
      "cell_type": "code",
      "metadata": {
        "colab": {
          "base_uri": "https://localhost:8080/"
        },
        "id": "ezyljwphMtto",
        "outputId": "4c8dbdac-19c2-4b80-b78e-6c2e99df817d"
      },
      "source": [
        "for i in range(2,7,2) : #ข้างหลังสุดคือ step\n",
        "    print(i)"
      ],
      "execution_count": 79,
      "outputs": [
        {
          "output_type": "stream",
          "text": [
            "2\n",
            "4\n",
            "6\n"
          ],
          "name": "stdout"
        }
      ]
    },
    {
      "cell_type": "code",
      "metadata": {
        "colab": {
          "base_uri": "https://localhost:8080/"
        },
        "id": "8gDBwRBEMtok",
        "outputId": "9d530e72-496f-43cb-b89a-b308983c90ca"
      },
      "source": [
        "for i in range(5) : #วนลูบ 5 รอบ \n",
        "    print('hahaha')"
      ],
      "execution_count": 80,
      "outputs": [
        {
          "output_type": "stream",
          "text": [
            "hahaha\n",
            "hahaha\n",
            "hahaha\n",
            "hahaha\n",
            "hahaha\n"
          ],
          "name": "stdout"
        }
      ]
    },
    {
      "cell_type": "code",
      "metadata": {
        "colab": {
          "base_uri": "https://localhost:8080/"
        },
        "id": "wvO80n0vMtl1",
        "outputId": "88fa78d2-625e-45b0-8d2b-1301a08e5132"
      },
      "source": [
        "for i in range(5) : #วนลูบ 5 รอบ แต่ละรอบจะมี 2 บรรทัด\n",
        "    print('hahaha')\n",
        "    x = i + 3 \n",
        "    print(f'i={i} x={x}')"
      ],
      "execution_count": 81,
      "outputs": [
        {
          "output_type": "stream",
          "text": [
            "hahaha\n",
            "i=0 x=3\n",
            "hahaha\n",
            "i=1 x=4\n",
            "hahaha\n",
            "i=2 x=5\n",
            "hahaha\n",
            "i=3 x=6\n",
            "hahaha\n",
            "i=4 x=7\n"
          ],
          "name": "stdout"
        }
      ]
    },
    {
      "cell_type": "markdown",
      "metadata": {
        "id": "JD9p2qFbPC9-"
      },
      "source": [
        "### Nested loop ลูบซ้อนลูบ"
      ]
    },
    {
      "cell_type": "code",
      "metadata": {
        "colab": {
          "base_uri": "https://localhost:8080/"
        },
        "id": "xU7EKFEXPHQd",
        "outputId": "acf7115b-88a8-4b5f-b746-516e2d0ba913"
      },
      "source": [
        "for i in range(3) :\n",
        "  print(f'now i = {i}')\n",
        "  print('start j loop')\n",
        "  for j in range(4) :\n",
        "            print(f'i = {i} j = {j} i+j = {i+j} ')\n",
        "  print('end j loop')"
      ],
      "execution_count": 82,
      "outputs": [
        {
          "output_type": "stream",
          "text": [
            "now i = 0\n",
            "start j loop\n",
            "i = 0 j = 0 i+j = 0 \n",
            "i = 0 j = 1 i+j = 1 \n",
            "i = 0 j = 2 i+j = 2 \n",
            "i = 0 j = 3 i+j = 3 \n",
            "end j loop\n",
            "now i = 1\n",
            "start j loop\n",
            "i = 1 j = 0 i+j = 1 \n",
            "i = 1 j = 1 i+j = 2 \n",
            "i = 1 j = 2 i+j = 3 \n",
            "i = 1 j = 3 i+j = 4 \n",
            "end j loop\n",
            "now i = 2\n",
            "start j loop\n",
            "i = 2 j = 0 i+j = 2 \n",
            "i = 2 j = 1 i+j = 3 \n",
            "i = 2 j = 2 i+j = 4 \n",
            "i = 2 j = 3 i+j = 5 \n",
            "end j loop\n"
          ],
          "name": "stdout"
        }
      ]
    },
    {
      "cell_type": "markdown",
      "metadata": {
        "id": "mdO2GFU1FPB9"
      },
      "source": [
        "# Condition (if statement)"
      ]
    },
    {
      "cell_type": "markdown",
      "metadata": {
        "id": "3Ros5uAsFbW9"
      },
      "source": [
        "``` python\n",
        "if   เงื่อนไขที่จะตรวจสอบ: (โดยใช้สัญลักษณ์ ==,!,<,>,<=,>=)\n",
        "     ถ้าเงื่อนไขเป็นจริง ทำงานที่  1 \n",
        "     ถ้าเงื่อนไขเป็นจริง ทำงานที่  2\n",
        "```\n",
        "\n"
      ]
    },
    {
      "cell_type": "code",
      "metadata": {
        "id": "BjX9kp1eFVUM",
        "outputId": "39b3f9f6-14ab-4a3c-bc9e-4079baf240db",
        "colab": {
          "base_uri": "https://localhost:8080/"
        }
      },
      "source": [
        "stringx = 'nuengaaaaaaaaaaaaaaaaaaaaaaaaaa'\n",
        "\n",
        "if len(stringx) > 30: #list ยาวเท่าไหร่\n",
        "    print(f'{stringx} is longer than 30 characters')"
      ],
      "execution_count": 85,
      "outputs": [
        {
          "output_type": "stream",
          "text": [
            "nuengaaaaaaaaaaaaaaaaaaaaaaaaaa is longer than 30 characters\n"
          ],
          "name": "stdout"
        }
      ]
    },
    {
      "cell_type": "code",
      "metadata": {
        "id": "XNGY1vS2GJSK"
      },
      "source": [
        "stringx = 'nuengaaaaaaaaaaaaaaaaaaaaaaaaaa'\n",
        "\n",
        "if len(stringx) > 100: #list ยาวเท่าไหร่\n",
        "    print(f'{stringx} is longer than 100 characters')"
      ],
      "execution_count": 87,
      "outputs": []
    },
    {
      "cell_type": "markdown",
      "metadata": {
        "id": "FNvI3UlNH8fu"
      },
      "source": [
        "```python\n",
        "if   เงื่อนไขที่จะตรวจสอบ: (โดยใช้สัญลักษณ์ ==,!,<,>,<=,>=)\n",
        "     ถ้าเงื่อนไขเป็นจริง ทำงานที่  1 \n",
        "     ถ้าเงื่อนไขเป็นจริง ทำงานที่  2\n",
        "else : #ตรวจสอบเงื่อนไขข้างล่างแล้วไม่เป็นจริง\n",
        "      ทำงานที่ X\n",
        "```\n",
        "\n"
      ]
    },
    {
      "cell_type": "code",
      "metadata": {
        "id": "QbB7DjCCGJQg",
        "outputId": "74417133-0092-4d66-feb9-c58c4f064f4e",
        "colab": {
          "base_uri": "https://localhost:8080/"
        }
      },
      "source": [
        "stringx = 'nuengaaaaaaaaaaaaaaaaaaaaaaaaaa'\n",
        "\n",
        "if len(stringx) > 100: #list ยาวเท่าไหร่\n",
        "    print(f'{stringx} is longer than 100 characters')\n",
        "else:\n",
        "    print(f'{stringx} in {len(stringx)} characters long') #ปริ้นแสดงจำนวนตัวอักษรออกมา"
      ],
      "execution_count": 88,
      "outputs": [
        {
          "output_type": "stream",
          "text": [
            "nuengaaaaaaaaaaaaaaaaaaaaaaaaaa in 31 characters long\n"
          ],
          "name": "stdout"
        }
      ]
    },
    {
      "cell_type": "markdown",
      "metadata": {
        "id": "zJhYIbz3JM4H"
      },
      "source": [
        "```python\n",
        "if   เงื่อนไขที่จะตรวจสอบ: (โดยใช้สัญลักษณ์ ==,!,<,>,<=,>=)\n",
        "     ถ้าเงื่อนไขเป็นจริง ทำงานที่  1 \n",
        "     ถ้าเงื่อนไขเป็นจริง ทำงานที่  2\n",
        "elif เงื่อนไขที่จะตรวจสอบต่อไปถ้าเงื่อนไขข้างบนไม่เป็นจริง:\n",
        "      ถ้าเงื่อนไขเป็นจริง ทำงานที่  a1 \n",
        "      ถ้าเงื่อนไขเป็นจริง ทำงานที่  a2\n",
        "elif เงื่อนไขที่จะตรวจสอบต่อไปถ้าเงื่อนไขข้างบนไม่เป็นจริง:\n",
        "      ถ้าเงื่อนไขเป็นจริง ทำงานที่  b1 \n",
        "      ถ้าเงื่อนไขเป็นจริง ทำงานที่  b2\n",
        "else : #ตรวจสอบเงื่อนไขข้างล่างแล้วไม่เป็นจริง\n",
        "      ทำงานที่ X\n",
        "```\n",
        "\n"
      ]
    },
    {
      "cell_type": "code",
      "metadata": {
        "id": "KXtydeoKGJMy",
        "outputId": "3db8b0da-f36c-423e-df5e-bbbae0612998",
        "colab": {
          "base_uri": "https://localhost:8080/"
        }
      },
      "source": [
        "password = '12345'\n",
        "\n",
        "input_pass = '123sf'\n",
        "if input_pass == password:\n",
        "    print('Welcome!')\n",
        "elif len(input_pass) > len(password) : #รหัสยาวไปกว่าที่เป็นจริงมันจะบอกว่ายาวไปลองใหม่\n",
        "    print('Too long, try again')\n",
        "elif len(input_pass) < len(password) :\n",
        "    print ('Too short, try again!')\n",
        "else:\n",
        "    print('Too short, try again') #รหัสสั้นไปกว่าที่เป็นจริงมันจะบอกว่ายาวไปลองใหม่"
      ],
      "execution_count": 90,
      "outputs": [
        {
          "output_type": "stream",
          "text": [
            "Too short, try again\n"
          ],
          "name": "stdout"
        }
      ]
    },
    {
      "cell_type": "markdown",
      "metadata": {
        "id": "rHN-qXL3K-_a"
      },
      "source": [
        "### Quiz 1 หา max"
      ]
    },
    {
      "cell_type": "code",
      "metadata": {
        "id": "rvG52LVCNjbF"
      },
      "source": [
        "list_ex = [1,5,9,-19,-2,0] #หาค่าน้อยที่สุดใน list_ex โดยไม่ใช้ function min"
      ],
      "execution_count": 91,
      "outputs": []
    },
    {
      "cell_type": "code",
      "metadata": {
        "id": "KEXoS_XXN57f",
        "outputId": "82985b81-6644-43d5-a9a6-144bf7c38702",
        "colab": {
          "base_uri": "https://localhost:8080/"
        }
      },
      "source": [
        "list_ex[3: 4 : 2]"
      ],
      "execution_count": 106,
      "outputs": [
        {
          "output_type": "execute_result",
          "data": {
            "text/plain": [
              "[-19]"
            ]
          },
          "metadata": {
            "tags": []
          },
          "execution_count": 106
        }
      ]
    },
    {
      "cell_type": "markdown",
      "metadata": {
        "id": "VODFv9_1MrGN"
      },
      "source": [
        "### Quiz 2 หาเกรด"
      ]
    },
    {
      "cell_type": "markdown",
      "metadata": {
        "id": "778mTbfUFYat"
      },
      "source": [
        "#Function"
      ]
    }
  ]
}