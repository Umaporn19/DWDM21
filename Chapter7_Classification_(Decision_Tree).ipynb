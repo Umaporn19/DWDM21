{
  "nbformat": 4,
  "nbformat_minor": 0,
  "metadata": {
    "colab": {
      "name": "Chapter7 Classification (Decision Tree).ipynb",
      "provenance": [],
      "authorship_tag": "ABX9TyNZ6oDPeUQS629S3+xfjxpC",
      "include_colab_link": true
    },
    "kernelspec": {
      "name": "python3",
      "display_name": "Python 3"
    },
    "language_info": {
      "name": "python"
    }
  },
  "cells": [
    {
      "cell_type": "markdown",
      "metadata": {
        "id": "view-in-github",
        "colab_type": "text"
      },
      "source": [
        "<a href=\"https://colab.research.google.com/github/Umaporn19/DWDM21/blob/main/Chapter7_Classification_(Decision_Tree).ipynb\" target=\"_parent\"><img src=\"https://colab.research.google.com/assets/colab-badge.svg\" alt=\"Open In Colab\"/></a>"
      ]
    },
    {
      "cell_type": "markdown",
      "metadata": {
        "id": "3ocpoGhr1t0n"
      },
      "source": [
        "# Load Data"
      ]
    },
    {
      "cell_type": "markdown",
      "metadata": {
        "id": "IGbk3gXZ1wt-"
      },
      "source": [
        "skcikit-learn คือ package ที่รวบรวมอัลกอริทึมที่เกี่ยวข้องกับ machine learning - data mining\n",
        "(Sklearn)"
      ]
    },
    {
      "cell_type": "code",
      "metadata": {
        "id": "C4iDQYE4zOYZ"
      },
      "source": [
        "from sklearn import datasets\n",
        "iris_data = datasets.load_iris()"
      ],
      "execution_count": 66,
      "outputs": []
    },
    {
      "cell_type": "code",
      "metadata": {
        "colab": {
          "base_uri": "https://localhost:8080/"
        },
        "id": "0p8Mz5LD1zI2",
        "outputId": "5c5f5d31-92b1-4fb9-e158-ccc2331193e5"
      },
      "source": [
        "iris_data"
      ],
      "execution_count": 67,
      "outputs": [
        {
          "output_type": "execute_result",
          "data": {
            "text/plain": [
              "{'DESCR': '.. _iris_dataset:\\n\\nIris plants dataset\\n--------------------\\n\\n**Data Set Characteristics:**\\n\\n    :Number of Instances: 150 (50 in each of three classes)\\n    :Number of Attributes: 4 numeric, predictive attributes and the class\\n    :Attribute Information:\\n        - sepal length in cm\\n        - sepal width in cm\\n        - petal length in cm\\n        - petal width in cm\\n        - class:\\n                - Iris-Setosa\\n                - Iris-Versicolour\\n                - Iris-Virginica\\n                \\n    :Summary Statistics:\\n\\n    ============== ==== ==== ======= ===== ====================\\n                    Min  Max   Mean    SD   Class Correlation\\n    ============== ==== ==== ======= ===== ====================\\n    sepal length:   4.3  7.9   5.84   0.83    0.7826\\n    sepal width:    2.0  4.4   3.05   0.43   -0.4194\\n    petal length:   1.0  6.9   3.76   1.76    0.9490  (high!)\\n    petal width:    0.1  2.5   1.20   0.76    0.9565  (high!)\\n    ============== ==== ==== ======= ===== ====================\\n\\n    :Missing Attribute Values: None\\n    :Class Distribution: 33.3% for each of 3 classes.\\n    :Creator: R.A. Fisher\\n    :Donor: Michael Marshall (MARSHALL%PLU@io.arc.nasa.gov)\\n    :Date: July, 1988\\n\\nThe famous Iris database, first used by Sir R.A. Fisher. The dataset is taken\\nfrom Fisher\\'s paper. Note that it\\'s the same as in R, but not as in the UCI\\nMachine Learning Repository, which has two wrong data points.\\n\\nThis is perhaps the best known database to be found in the\\npattern recognition literature.  Fisher\\'s paper is a classic in the field and\\nis referenced frequently to this day.  (See Duda & Hart, for example.)  The\\ndata set contains 3 classes of 50 instances each, where each class refers to a\\ntype of iris plant.  One class is linearly separable from the other 2; the\\nlatter are NOT linearly separable from each other.\\n\\n.. topic:: References\\n\\n   - Fisher, R.A. \"The use of multiple measurements in taxonomic problems\"\\n     Annual Eugenics, 7, Part II, 179-188 (1936); also in \"Contributions to\\n     Mathematical Statistics\" (John Wiley, NY, 1950).\\n   - Duda, R.O., & Hart, P.E. (1973) Pattern Classification and Scene Analysis.\\n     (Q327.D83) John Wiley & Sons.  ISBN 0-471-22361-1.  See page 218.\\n   - Dasarathy, B.V. (1980) \"Nosing Around the Neighborhood: A New System\\n     Structure and Classification Rule for Recognition in Partially Exposed\\n     Environments\".  IEEE Transactions on Pattern Analysis and Machine\\n     Intelligence, Vol. PAMI-2, No. 1, 67-71.\\n   - Gates, G.W. (1972) \"The Reduced Nearest Neighbor Rule\".  IEEE Transactions\\n     on Information Theory, May 1972, 431-433.\\n   - See also: 1988 MLC Proceedings, 54-64.  Cheeseman et al\"s AUTOCLASS II\\n     conceptual clustering system finds 3 classes in the data.\\n   - Many, many more ...',\n",
              " 'data': array([[5.1, 3.5, 1.4, 0.2],\n",
              "        [4.9, 3. , 1.4, 0.2],\n",
              "        [4.7, 3.2, 1.3, 0.2],\n",
              "        [4.6, 3.1, 1.5, 0.2],\n",
              "        [5. , 3.6, 1.4, 0.2],\n",
              "        [5.4, 3.9, 1.7, 0.4],\n",
              "        [4.6, 3.4, 1.4, 0.3],\n",
              "        [5. , 3.4, 1.5, 0.2],\n",
              "        [4.4, 2.9, 1.4, 0.2],\n",
              "        [4.9, 3.1, 1.5, 0.1],\n",
              "        [5.4, 3.7, 1.5, 0.2],\n",
              "        [4.8, 3.4, 1.6, 0.2],\n",
              "        [4.8, 3. , 1.4, 0.1],\n",
              "        [4.3, 3. , 1.1, 0.1],\n",
              "        [5.8, 4. , 1.2, 0.2],\n",
              "        [5.7, 4.4, 1.5, 0.4],\n",
              "        [5.4, 3.9, 1.3, 0.4],\n",
              "        [5.1, 3.5, 1.4, 0.3],\n",
              "        [5.7, 3.8, 1.7, 0.3],\n",
              "        [5.1, 3.8, 1.5, 0.3],\n",
              "        [5.4, 3.4, 1.7, 0.2],\n",
              "        [5.1, 3.7, 1.5, 0.4],\n",
              "        [4.6, 3.6, 1. , 0.2],\n",
              "        [5.1, 3.3, 1.7, 0.5],\n",
              "        [4.8, 3.4, 1.9, 0.2],\n",
              "        [5. , 3. , 1.6, 0.2],\n",
              "        [5. , 3.4, 1.6, 0.4],\n",
              "        [5.2, 3.5, 1.5, 0.2],\n",
              "        [5.2, 3.4, 1.4, 0.2],\n",
              "        [4.7, 3.2, 1.6, 0.2],\n",
              "        [4.8, 3.1, 1.6, 0.2],\n",
              "        [5.4, 3.4, 1.5, 0.4],\n",
              "        [5.2, 4.1, 1.5, 0.1],\n",
              "        [5.5, 4.2, 1.4, 0.2],\n",
              "        [4.9, 3.1, 1.5, 0.2],\n",
              "        [5. , 3.2, 1.2, 0.2],\n",
              "        [5.5, 3.5, 1.3, 0.2],\n",
              "        [4.9, 3.6, 1.4, 0.1],\n",
              "        [4.4, 3. , 1.3, 0.2],\n",
              "        [5.1, 3.4, 1.5, 0.2],\n",
              "        [5. , 3.5, 1.3, 0.3],\n",
              "        [4.5, 2.3, 1.3, 0.3],\n",
              "        [4.4, 3.2, 1.3, 0.2],\n",
              "        [5. , 3.5, 1.6, 0.6],\n",
              "        [5.1, 3.8, 1.9, 0.4],\n",
              "        [4.8, 3. , 1.4, 0.3],\n",
              "        [5.1, 3.8, 1.6, 0.2],\n",
              "        [4.6, 3.2, 1.4, 0.2],\n",
              "        [5.3, 3.7, 1.5, 0.2],\n",
              "        [5. , 3.3, 1.4, 0.2],\n",
              "        [7. , 3.2, 4.7, 1.4],\n",
              "        [6.4, 3.2, 4.5, 1.5],\n",
              "        [6.9, 3.1, 4.9, 1.5],\n",
              "        [5.5, 2.3, 4. , 1.3],\n",
              "        [6.5, 2.8, 4.6, 1.5],\n",
              "        [5.7, 2.8, 4.5, 1.3],\n",
              "        [6.3, 3.3, 4.7, 1.6],\n",
              "        [4.9, 2.4, 3.3, 1. ],\n",
              "        [6.6, 2.9, 4.6, 1.3],\n",
              "        [5.2, 2.7, 3.9, 1.4],\n",
              "        [5. , 2. , 3.5, 1. ],\n",
              "        [5.9, 3. , 4.2, 1.5],\n",
              "        [6. , 2.2, 4. , 1. ],\n",
              "        [6.1, 2.9, 4.7, 1.4],\n",
              "        [5.6, 2.9, 3.6, 1.3],\n",
              "        [6.7, 3.1, 4.4, 1.4],\n",
              "        [5.6, 3. , 4.5, 1.5],\n",
              "        [5.8, 2.7, 4.1, 1. ],\n",
              "        [6.2, 2.2, 4.5, 1.5],\n",
              "        [5.6, 2.5, 3.9, 1.1],\n",
              "        [5.9, 3.2, 4.8, 1.8],\n",
              "        [6.1, 2.8, 4. , 1.3],\n",
              "        [6.3, 2.5, 4.9, 1.5],\n",
              "        [6.1, 2.8, 4.7, 1.2],\n",
              "        [6.4, 2.9, 4.3, 1.3],\n",
              "        [6.6, 3. , 4.4, 1.4],\n",
              "        [6.8, 2.8, 4.8, 1.4],\n",
              "        [6.7, 3. , 5. , 1.7],\n",
              "        [6. , 2.9, 4.5, 1.5],\n",
              "        [5.7, 2.6, 3.5, 1. ],\n",
              "        [5.5, 2.4, 3.8, 1.1],\n",
              "        [5.5, 2.4, 3.7, 1. ],\n",
              "        [5.8, 2.7, 3.9, 1.2],\n",
              "        [6. , 2.7, 5.1, 1.6],\n",
              "        [5.4, 3. , 4.5, 1.5],\n",
              "        [6. , 3.4, 4.5, 1.6],\n",
              "        [6.7, 3.1, 4.7, 1.5],\n",
              "        [6.3, 2.3, 4.4, 1.3],\n",
              "        [5.6, 3. , 4.1, 1.3],\n",
              "        [5.5, 2.5, 4. , 1.3],\n",
              "        [5.5, 2.6, 4.4, 1.2],\n",
              "        [6.1, 3. , 4.6, 1.4],\n",
              "        [5.8, 2.6, 4. , 1.2],\n",
              "        [5. , 2.3, 3.3, 1. ],\n",
              "        [5.6, 2.7, 4.2, 1.3],\n",
              "        [5.7, 3. , 4.2, 1.2],\n",
              "        [5.7, 2.9, 4.2, 1.3],\n",
              "        [6.2, 2.9, 4.3, 1.3],\n",
              "        [5.1, 2.5, 3. , 1.1],\n",
              "        [5.7, 2.8, 4.1, 1.3],\n",
              "        [6.3, 3.3, 6. , 2.5],\n",
              "        [5.8, 2.7, 5.1, 1.9],\n",
              "        [7.1, 3. , 5.9, 2.1],\n",
              "        [6.3, 2.9, 5.6, 1.8],\n",
              "        [6.5, 3. , 5.8, 2.2],\n",
              "        [7.6, 3. , 6.6, 2.1],\n",
              "        [4.9, 2.5, 4.5, 1.7],\n",
              "        [7.3, 2.9, 6.3, 1.8],\n",
              "        [6.7, 2.5, 5.8, 1.8],\n",
              "        [7.2, 3.6, 6.1, 2.5],\n",
              "        [6.5, 3.2, 5.1, 2. ],\n",
              "        [6.4, 2.7, 5.3, 1.9],\n",
              "        [6.8, 3. , 5.5, 2.1],\n",
              "        [5.7, 2.5, 5. , 2. ],\n",
              "        [5.8, 2.8, 5.1, 2.4],\n",
              "        [6.4, 3.2, 5.3, 2.3],\n",
              "        [6.5, 3. , 5.5, 1.8],\n",
              "        [7.7, 3.8, 6.7, 2.2],\n",
              "        [7.7, 2.6, 6.9, 2.3],\n",
              "        [6. , 2.2, 5. , 1.5],\n",
              "        [6.9, 3.2, 5.7, 2.3],\n",
              "        [5.6, 2.8, 4.9, 2. ],\n",
              "        [7.7, 2.8, 6.7, 2. ],\n",
              "        [6.3, 2.7, 4.9, 1.8],\n",
              "        [6.7, 3.3, 5.7, 2.1],\n",
              "        [7.2, 3.2, 6. , 1.8],\n",
              "        [6.2, 2.8, 4.8, 1.8],\n",
              "        [6.1, 3. , 4.9, 1.8],\n",
              "        [6.4, 2.8, 5.6, 2.1],\n",
              "        [7.2, 3. , 5.8, 1.6],\n",
              "        [7.4, 2.8, 6.1, 1.9],\n",
              "        [7.9, 3.8, 6.4, 2. ],\n",
              "        [6.4, 2.8, 5.6, 2.2],\n",
              "        [6.3, 2.8, 5.1, 1.5],\n",
              "        [6.1, 2.6, 5.6, 1.4],\n",
              "        [7.7, 3. , 6.1, 2.3],\n",
              "        [6.3, 3.4, 5.6, 2.4],\n",
              "        [6.4, 3.1, 5.5, 1.8],\n",
              "        [6. , 3. , 4.8, 1.8],\n",
              "        [6.9, 3.1, 5.4, 2.1],\n",
              "        [6.7, 3.1, 5.6, 2.4],\n",
              "        [6.9, 3.1, 5.1, 2.3],\n",
              "        [5.8, 2.7, 5.1, 1.9],\n",
              "        [6.8, 3.2, 5.9, 2.3],\n",
              "        [6.7, 3.3, 5.7, 2.5],\n",
              "        [6.7, 3. , 5.2, 2.3],\n",
              "        [6.3, 2.5, 5. , 1.9],\n",
              "        [6.5, 3. , 5.2, 2. ],\n",
              "        [6.2, 3.4, 5.4, 2.3],\n",
              "        [5.9, 3. , 5.1, 1.8]]),\n",
              " 'feature_names': ['sepal length (cm)',\n",
              "  'sepal width (cm)',\n",
              "  'petal length (cm)',\n",
              "  'petal width (cm)'],\n",
              " 'filename': '/usr/local/lib/python3.7/dist-packages/sklearn/datasets/data/iris.csv',\n",
              " 'target': array([0, 0, 0, 0, 0, 0, 0, 0, 0, 0, 0, 0, 0, 0, 0, 0, 0, 0, 0, 0, 0, 0,\n",
              "        0, 0, 0, 0, 0, 0, 0, 0, 0, 0, 0, 0, 0, 0, 0, 0, 0, 0, 0, 0, 0, 0,\n",
              "        0, 0, 0, 0, 0, 0, 1, 1, 1, 1, 1, 1, 1, 1, 1, 1, 1, 1, 1, 1, 1, 1,\n",
              "        1, 1, 1, 1, 1, 1, 1, 1, 1, 1, 1, 1, 1, 1, 1, 1, 1, 1, 1, 1, 1, 1,\n",
              "        1, 1, 1, 1, 1, 1, 1, 1, 1, 1, 1, 1, 2, 2, 2, 2, 2, 2, 2, 2, 2, 2,\n",
              "        2, 2, 2, 2, 2, 2, 2, 2, 2, 2, 2, 2, 2, 2, 2, 2, 2, 2, 2, 2, 2, 2,\n",
              "        2, 2, 2, 2, 2, 2, 2, 2, 2, 2, 2, 2, 2, 2, 2, 2, 2, 2]),\n",
              " 'target_names': array(['setosa', 'versicolor', 'virginica'], dtype='<U10')}"
            ]
          },
          "metadata": {},
          "execution_count": 67
        }
      ]
    },
    {
      "cell_type": "code",
      "metadata": {
        "id": "sFUNLfdo1-G2"
      },
      "source": [
        "X = iris_data['data']\n",
        "Y = iris_data['target']"
      ],
      "execution_count": 68,
      "outputs": []
    },
    {
      "cell_type": "code",
      "metadata": {
        "colab": {
          "base_uri": "https://localhost:8080/"
        },
        "id": "d54CJaCH2Alu",
        "outputId": "56e063cb-f018-4ad4-fcd2-81682b9eed63"
      },
      "source": [
        "X"
      ],
      "execution_count": 69,
      "outputs": [
        {
          "output_type": "execute_result",
          "data": {
            "text/plain": [
              "array([[5.1, 3.5, 1.4, 0.2],\n",
              "       [4.9, 3. , 1.4, 0.2],\n",
              "       [4.7, 3.2, 1.3, 0.2],\n",
              "       [4.6, 3.1, 1.5, 0.2],\n",
              "       [5. , 3.6, 1.4, 0.2],\n",
              "       [5.4, 3.9, 1.7, 0.4],\n",
              "       [4.6, 3.4, 1.4, 0.3],\n",
              "       [5. , 3.4, 1.5, 0.2],\n",
              "       [4.4, 2.9, 1.4, 0.2],\n",
              "       [4.9, 3.1, 1.5, 0.1],\n",
              "       [5.4, 3.7, 1.5, 0.2],\n",
              "       [4.8, 3.4, 1.6, 0.2],\n",
              "       [4.8, 3. , 1.4, 0.1],\n",
              "       [4.3, 3. , 1.1, 0.1],\n",
              "       [5.8, 4. , 1.2, 0.2],\n",
              "       [5.7, 4.4, 1.5, 0.4],\n",
              "       [5.4, 3.9, 1.3, 0.4],\n",
              "       [5.1, 3.5, 1.4, 0.3],\n",
              "       [5.7, 3.8, 1.7, 0.3],\n",
              "       [5.1, 3.8, 1.5, 0.3],\n",
              "       [5.4, 3.4, 1.7, 0.2],\n",
              "       [5.1, 3.7, 1.5, 0.4],\n",
              "       [4.6, 3.6, 1. , 0.2],\n",
              "       [5.1, 3.3, 1.7, 0.5],\n",
              "       [4.8, 3.4, 1.9, 0.2],\n",
              "       [5. , 3. , 1.6, 0.2],\n",
              "       [5. , 3.4, 1.6, 0.4],\n",
              "       [5.2, 3.5, 1.5, 0.2],\n",
              "       [5.2, 3.4, 1.4, 0.2],\n",
              "       [4.7, 3.2, 1.6, 0.2],\n",
              "       [4.8, 3.1, 1.6, 0.2],\n",
              "       [5.4, 3.4, 1.5, 0.4],\n",
              "       [5.2, 4.1, 1.5, 0.1],\n",
              "       [5.5, 4.2, 1.4, 0.2],\n",
              "       [4.9, 3.1, 1.5, 0.2],\n",
              "       [5. , 3.2, 1.2, 0.2],\n",
              "       [5.5, 3.5, 1.3, 0.2],\n",
              "       [4.9, 3.6, 1.4, 0.1],\n",
              "       [4.4, 3. , 1.3, 0.2],\n",
              "       [5.1, 3.4, 1.5, 0.2],\n",
              "       [5. , 3.5, 1.3, 0.3],\n",
              "       [4.5, 2.3, 1.3, 0.3],\n",
              "       [4.4, 3.2, 1.3, 0.2],\n",
              "       [5. , 3.5, 1.6, 0.6],\n",
              "       [5.1, 3.8, 1.9, 0.4],\n",
              "       [4.8, 3. , 1.4, 0.3],\n",
              "       [5.1, 3.8, 1.6, 0.2],\n",
              "       [4.6, 3.2, 1.4, 0.2],\n",
              "       [5.3, 3.7, 1.5, 0.2],\n",
              "       [5. , 3.3, 1.4, 0.2],\n",
              "       [7. , 3.2, 4.7, 1.4],\n",
              "       [6.4, 3.2, 4.5, 1.5],\n",
              "       [6.9, 3.1, 4.9, 1.5],\n",
              "       [5.5, 2.3, 4. , 1.3],\n",
              "       [6.5, 2.8, 4.6, 1.5],\n",
              "       [5.7, 2.8, 4.5, 1.3],\n",
              "       [6.3, 3.3, 4.7, 1.6],\n",
              "       [4.9, 2.4, 3.3, 1. ],\n",
              "       [6.6, 2.9, 4.6, 1.3],\n",
              "       [5.2, 2.7, 3.9, 1.4],\n",
              "       [5. , 2. , 3.5, 1. ],\n",
              "       [5.9, 3. , 4.2, 1.5],\n",
              "       [6. , 2.2, 4. , 1. ],\n",
              "       [6.1, 2.9, 4.7, 1.4],\n",
              "       [5.6, 2.9, 3.6, 1.3],\n",
              "       [6.7, 3.1, 4.4, 1.4],\n",
              "       [5.6, 3. , 4.5, 1.5],\n",
              "       [5.8, 2.7, 4.1, 1. ],\n",
              "       [6.2, 2.2, 4.5, 1.5],\n",
              "       [5.6, 2.5, 3.9, 1.1],\n",
              "       [5.9, 3.2, 4.8, 1.8],\n",
              "       [6.1, 2.8, 4. , 1.3],\n",
              "       [6.3, 2.5, 4.9, 1.5],\n",
              "       [6.1, 2.8, 4.7, 1.2],\n",
              "       [6.4, 2.9, 4.3, 1.3],\n",
              "       [6.6, 3. , 4.4, 1.4],\n",
              "       [6.8, 2.8, 4.8, 1.4],\n",
              "       [6.7, 3. , 5. , 1.7],\n",
              "       [6. , 2.9, 4.5, 1.5],\n",
              "       [5.7, 2.6, 3.5, 1. ],\n",
              "       [5.5, 2.4, 3.8, 1.1],\n",
              "       [5.5, 2.4, 3.7, 1. ],\n",
              "       [5.8, 2.7, 3.9, 1.2],\n",
              "       [6. , 2.7, 5.1, 1.6],\n",
              "       [5.4, 3. , 4.5, 1.5],\n",
              "       [6. , 3.4, 4.5, 1.6],\n",
              "       [6.7, 3.1, 4.7, 1.5],\n",
              "       [6.3, 2.3, 4.4, 1.3],\n",
              "       [5.6, 3. , 4.1, 1.3],\n",
              "       [5.5, 2.5, 4. , 1.3],\n",
              "       [5.5, 2.6, 4.4, 1.2],\n",
              "       [6.1, 3. , 4.6, 1.4],\n",
              "       [5.8, 2.6, 4. , 1.2],\n",
              "       [5. , 2.3, 3.3, 1. ],\n",
              "       [5.6, 2.7, 4.2, 1.3],\n",
              "       [5.7, 3. , 4.2, 1.2],\n",
              "       [5.7, 2.9, 4.2, 1.3],\n",
              "       [6.2, 2.9, 4.3, 1.3],\n",
              "       [5.1, 2.5, 3. , 1.1],\n",
              "       [5.7, 2.8, 4.1, 1.3],\n",
              "       [6.3, 3.3, 6. , 2.5],\n",
              "       [5.8, 2.7, 5.1, 1.9],\n",
              "       [7.1, 3. , 5.9, 2.1],\n",
              "       [6.3, 2.9, 5.6, 1.8],\n",
              "       [6.5, 3. , 5.8, 2.2],\n",
              "       [7.6, 3. , 6.6, 2.1],\n",
              "       [4.9, 2.5, 4.5, 1.7],\n",
              "       [7.3, 2.9, 6.3, 1.8],\n",
              "       [6.7, 2.5, 5.8, 1.8],\n",
              "       [7.2, 3.6, 6.1, 2.5],\n",
              "       [6.5, 3.2, 5.1, 2. ],\n",
              "       [6.4, 2.7, 5.3, 1.9],\n",
              "       [6.8, 3. , 5.5, 2.1],\n",
              "       [5.7, 2.5, 5. , 2. ],\n",
              "       [5.8, 2.8, 5.1, 2.4],\n",
              "       [6.4, 3.2, 5.3, 2.3],\n",
              "       [6.5, 3. , 5.5, 1.8],\n",
              "       [7.7, 3.8, 6.7, 2.2],\n",
              "       [7.7, 2.6, 6.9, 2.3],\n",
              "       [6. , 2.2, 5. , 1.5],\n",
              "       [6.9, 3.2, 5.7, 2.3],\n",
              "       [5.6, 2.8, 4.9, 2. ],\n",
              "       [7.7, 2.8, 6.7, 2. ],\n",
              "       [6.3, 2.7, 4.9, 1.8],\n",
              "       [6.7, 3.3, 5.7, 2.1],\n",
              "       [7.2, 3.2, 6. , 1.8],\n",
              "       [6.2, 2.8, 4.8, 1.8],\n",
              "       [6.1, 3. , 4.9, 1.8],\n",
              "       [6.4, 2.8, 5.6, 2.1],\n",
              "       [7.2, 3. , 5.8, 1.6],\n",
              "       [7.4, 2.8, 6.1, 1.9],\n",
              "       [7.9, 3.8, 6.4, 2. ],\n",
              "       [6.4, 2.8, 5.6, 2.2],\n",
              "       [6.3, 2.8, 5.1, 1.5],\n",
              "       [6.1, 2.6, 5.6, 1.4],\n",
              "       [7.7, 3. , 6.1, 2.3],\n",
              "       [6.3, 3.4, 5.6, 2.4],\n",
              "       [6.4, 3.1, 5.5, 1.8],\n",
              "       [6. , 3. , 4.8, 1.8],\n",
              "       [6.9, 3.1, 5.4, 2.1],\n",
              "       [6.7, 3.1, 5.6, 2.4],\n",
              "       [6.9, 3.1, 5.1, 2.3],\n",
              "       [5.8, 2.7, 5.1, 1.9],\n",
              "       [6.8, 3.2, 5.9, 2.3],\n",
              "       [6.7, 3.3, 5.7, 2.5],\n",
              "       [6.7, 3. , 5.2, 2.3],\n",
              "       [6.3, 2.5, 5. , 1.9],\n",
              "       [6.5, 3. , 5.2, 2. ],\n",
              "       [6.2, 3.4, 5.4, 2.3],\n",
              "       [5.9, 3. , 5.1, 1.8]])"
            ]
          },
          "metadata": {},
          "execution_count": 69
        }
      ]
    },
    {
      "cell_type": "code",
      "metadata": {
        "colab": {
          "base_uri": "https://localhost:8080/"
        },
        "id": "72jkE_j-2B4G",
        "outputId": "0dabc6a2-9a93-455d-b16e-61f718295da2"
      },
      "source": [
        "Y"
      ],
      "execution_count": 70,
      "outputs": [
        {
          "output_type": "execute_result",
          "data": {
            "text/plain": [
              "array([0, 0, 0, 0, 0, 0, 0, 0, 0, 0, 0, 0, 0, 0, 0, 0, 0, 0, 0, 0, 0, 0,\n",
              "       0, 0, 0, 0, 0, 0, 0, 0, 0, 0, 0, 0, 0, 0, 0, 0, 0, 0, 0, 0, 0, 0,\n",
              "       0, 0, 0, 0, 0, 0, 1, 1, 1, 1, 1, 1, 1, 1, 1, 1, 1, 1, 1, 1, 1, 1,\n",
              "       1, 1, 1, 1, 1, 1, 1, 1, 1, 1, 1, 1, 1, 1, 1, 1, 1, 1, 1, 1, 1, 1,\n",
              "       1, 1, 1, 1, 1, 1, 1, 1, 1, 1, 1, 1, 2, 2, 2, 2, 2, 2, 2, 2, 2, 2,\n",
              "       2, 2, 2, 2, 2, 2, 2, 2, 2, 2, 2, 2, 2, 2, 2, 2, 2, 2, 2, 2, 2, 2,\n",
              "       2, 2, 2, 2, 2, 2, 2, 2, 2, 2, 2, 2, 2, 2, 2, 2, 2, 2])"
            ]
          },
          "metadata": {},
          "execution_count": 70
        }
      ]
    },
    {
      "cell_type": "markdown",
      "metadata": {
        "id": "RYBHgVZf2GLW"
      },
      "source": [
        "# Train Model"
      ]
    },
    {
      "cell_type": "markdown",
      "metadata": {
        "id": "CHROt4Vz2Ijg"
      },
      "source": [
        "## import (เรียกใช้ algorithm ที่เราต้องการ)"
      ]
    },
    {
      "cell_type": "code",
      "metadata": {
        "id": "MH-2Vhvo2Equ"
      },
      "source": [
        "from sklearn.tree import DecisionTreeClassifier "
      ],
      "execution_count": 71,
      "outputs": []
    },
    {
      "cell_type": "markdown",
      "metadata": {
        "id": "vl4fhKYp2MS-"
      },
      "source": [
        "## Define (กำหนด parameters ให้กับ model)"
      ]
    },
    {
      "cell_type": "code",
      "metadata": {
        "id": "a90xKoeM2Ku_"
      },
      "source": [
        "mytree = DecisionTreeClassifier(max_depth=2) # กำหนดชั้นของ decision tree"
      ],
      "execution_count": 72,
      "outputs": []
    },
    {
      "cell_type": "markdown",
      "metadata": {
        "id": "E95xQ0gx2RV-"
      },
      "source": [
        "## train (ฝึกสอนตัวแบบ)"
      ]
    },
    {
      "cell_type": "code",
      "metadata": {
        "colab": {
          "base_uri": "https://localhost:8080/"
        },
        "id": "kaXV0yfu2OVe",
        "outputId": "a8e2b766-0442-4a1f-8e34-4544a891e6d1"
      },
      "source": [
        "mytree.fit(X,Y) # สร้าง model ขึ้นมา"
      ],
      "execution_count": 73,
      "outputs": [
        {
          "output_type": "execute_result",
          "data": {
            "text/plain": [
              "DecisionTreeClassifier(ccp_alpha=0.0, class_weight=None, criterion='gini',\n",
              "                       max_depth=2, max_features=None, max_leaf_nodes=None,\n",
              "                       min_impurity_decrease=0.0, min_impurity_split=None,\n",
              "                       min_samples_leaf=1, min_samples_split=2,\n",
              "                       min_weight_fraction_leaf=0.0, presort='deprecated',\n",
              "                       random_state=None, splitter='best')"
            ]
          },
          "metadata": {},
          "execution_count": 73
        }
      ]
    },
    {
      "cell_type": "markdown",
      "metadata": {
        "id": "SUfC80v42VGG"
      },
      "source": [
        "# plot tree"
      ]
    },
    {
      "cell_type": "code",
      "metadata": {
        "id": "Z1f1qKiE2TeW"
      },
      "source": [
        "from sklearn.tree import plot_tree"
      ],
      "execution_count": 74,
      "outputs": []
    },
    {
      "cell_type": "code",
      "metadata": {
        "colab": {
          "base_uri": "https://localhost:8080/",
          "height": 248
        },
        "id": "m0edekIn2Xc1",
        "outputId": "ac811346-2814-437f-b4cc-786fdb678935"
      },
      "source": [
        "plot_tree(mytree);"
      ],
      "execution_count": 75,
      "outputs": [
        {
          "output_type": "display_data",
          "data": {
            "image/png": "[encoded data removed]",
            "text/plain": [
              "<Figure size 432x288 with 1 Axes>"
            ]
          },
          "metadata": {
            "needs_background": "light"
          }
        }
      ]
    },
    {
      "cell_type": "markdown",
      "metadata": {
        "id": "CNxlGLyJ2dee"
      },
      "source": [
        "- root node คือ x[2] < 2.45 หรือเปล่า\n",
        "\n",
        "- information grain = 0.667 \n",
        "\n",
        "- มี data ที่เข้ามา 150 ตัว\n",
        "\n",
        "- เเบ่งเป็น 3 class คือ 50 , 50 ,  50\n"
      ]
    },
    {
      "cell_type": "markdown",
      "metadata": {
        "id": "xYBNW8en2i0W"
      },
      "source": [
        "# Evaluation"
      ]
    },
    {
      "cell_type": "code",
      "metadata": {
        "colab": {
          "base_uri": "https://localhost:8080/"
        },
        "id": "z7PnAYAO2Yyd",
        "outputId": "97309323-d2aa-4222-9711-8a12eb817ce2"
      },
      "source": [
        "mytree.predict([[6.3, 2.5, 5. , 1.9]]) # ดูที่  X2 คือ 5. "
      ],
      "execution_count": 76,
      "outputs": [
        {
          "output_type": "execute_result",
          "data": {
            "text/plain": [
              "array([2])"
            ]
          },
          "metadata": {},
          "execution_count": 76
        }
      ]
    },
    {
      "cell_type": "markdown",
      "metadata": {
        "id": "pedE6qGlUpFT"
      },
      "source": [
        "### Random"
      ]
    },
    {
      "cell_type": "code",
      "metadata": {
        "id": "cP_t4MF72kxm"
      },
      "source": [
        "import numpy as np"
      ],
      "execution_count": 77,
      "outputs": []
    },
    {
      "cell_type": "code",
      "metadata": {
        "id": "K4xM5O9yUrtk"
      },
      "source": [
        "np.random.seed(6)"
      ],
      "execution_count": 78,
      "outputs": []
    },
    {
      "cell_type": "code",
      "metadata": {
        "id": "V0BvyRufUtB7",
        "colab": {
          "base_uri": "https://localhost:8080/",
          "height": 0
        },
        "outputId": "f9e03bf4-f3d2-494d-e31c-6c8281bd7a03"
      },
      "source": [
        "np.random.choice(['a','b','c','d'])"
      ],
      "execution_count": 79,
      "outputs": [
        {
          "output_type": "execute_result",
          "data": {
            "application/vnd.google.colaboratory.intrinsic+json": {
              "type": "string"
            },
            "text/plain": [
              "'c'"
            ]
          },
          "metadata": {},
          "execution_count": 79
        }
      ]
    },
    {
      "cell_type": "markdown",
      "metadata": {
        "id": "YZslY2XHUv60"
      },
      "source": [
        "# Advanced Tree"
      ]
    },
    {
      "cell_type": "markdown",
      "metadata": {
        "id": "oAHsyZ0CUyYj"
      },
      "source": [
        "### Import"
      ]
    },
    {
      "cell_type": "code",
      "metadata": {
        "id": "4S4LgDJbUuTj"
      },
      "source": [
        "from sklearn.tree import DecisionTreeClassifier"
      ],
      "execution_count": 80,
      "outputs": []
    },
    {
      "cell_type": "markdown",
      "metadata": {
        "id": "347WlJQRU19z"
      },
      "source": [
        "### Define"
      ]
    },
    {
      "cell_type": "markdown",
      "metadata": {
        "id": "LaHTn75IU4vb"
      },
      "source": [
        "- ต้นไม้ที่มีใบ 5 ใบ  และใช้ entropy  เป็นเกณฑ์"
      ]
    },
    {
      "cell_type": "code",
      "metadata": {
        "id": "vMAaFX1rU0Ob"
      },
      "source": [
        "mytree = DecisionTreeClassifier(max_leaf_nodes=5,criterion='entropy')"
      ],
      "execution_count": 81,
      "outputs": []
    },
    {
      "cell_type": "markdown",
      "metadata": {
        "id": "m7VO_NTNU8uL"
      },
      "source": [
        "### Train"
      ]
    },
    {
      "cell_type": "code",
      "metadata": {
        "id": "JzXIaUToU6vb",
        "colab": {
          "base_uri": "https://localhost:8080/"
        },
        "outputId": "a13a249b-4a64-469c-85b6-94318911aefd"
      },
      "source": [
        "mytree.fit(X,Y)"
      ],
      "execution_count": 82,
      "outputs": [
        {
          "output_type": "execute_result",
          "data": {
            "text/plain": [
              "DecisionTreeClassifier(ccp_alpha=0.0, class_weight=None, criterion='entropy',\n",
              "                       max_depth=None, max_features=None, max_leaf_nodes=5,\n",
              "                       min_impurity_decrease=0.0, min_impurity_split=None,\n",
              "                       min_samples_leaf=1, min_samples_split=2,\n",
              "                       min_weight_fraction_leaf=0.0, presort='deprecated',\n",
              "                       random_state=None, splitter='best')"
            ]
          },
          "metadata": {},
          "execution_count": 82
        }
      ]
    },
    {
      "cell_type": "code",
      "metadata": {
        "id": "brlNHAFAU-ss",
        "colab": {
          "base_uri": "https://localhost:8080/",
          "height": 0
        },
        "outputId": "16358cda-f970-4da0-93e0-3e4bad42e921"
      },
      "source": [
        "plot_tree(mytree)"
      ],
      "execution_count": 83,
      "outputs": [
        {
          "output_type": "execute_result",
          "data": {
            "text/plain": [
              "[Text(167.4, 195.696, 'X[3] <= 0.8\\nentropy = 1.585\\nsamples = 150\\nvalue = [50, 50, 50]'),\n",
              " Text(111.60000000000001, 152.208, 'entropy = 0.0\\nsamples = 50\\nvalue = [50, 0, 0]'),\n",
              " Text(223.20000000000002, 152.208, 'X[3] <= 1.75\\nentropy = 1.0\\nsamples = 100\\nvalue = [0, 50, 50]'),\n",
              " Text(167.4, 108.72, 'X[2] <= 4.95\\nentropy = 0.445\\nsamples = 54\\nvalue = [0, 49, 5]'),\n",
              " Text(111.60000000000001, 65.232, 'X[3] <= 1.65\\nentropy = 0.146\\nsamples = 48\\nvalue = [0, 47, 1]'),\n",
              " Text(55.800000000000004, 21.744, 'entropy = 0.0\\nsamples = 47\\nvalue = [0, 47, 0]'),\n",
              " Text(167.4, 21.744, 'entropy = 0.0\\nsamples = 1\\nvalue = [0, 0, 1]'),\n",
              " Text(223.20000000000002, 65.232, 'entropy = 0.918\\nsamples = 6\\nvalue = [0, 2, 4]'),\n",
              " Text(279.0, 108.72, 'entropy = 0.151\\nsamples = 46\\nvalue = [0, 1, 45]')]"
            ]
          },
          "metadata": {},
          "execution_count": 83
        },
        {
          "output_type": "display_data",
          "data": {
            "image/png": "[encoded data removed]",
            "text/plain": [
              "<Figure size 432x288 with 1 Axes>"
            ]
          },
          "metadata": {
            "needs_background": "light"
          }
        }
      ]
    },
    {
      "cell_type": "markdown",
      "metadata": {
        "id": "D0bvRWASVB3r"
      },
      "source": [
        "# TEST"
      ]
    },
    {
      "cell_type": "code",
      "metadata": {
        "id": "U0SLe7v8VAF1"
      },
      "source": [
        "from sklearn import datasets\n",
        "\n",
        "digit_data = datasets.load_digits()"
      ],
      "execution_count": 84,
      "outputs": []
    },
    {
      "cell_type": "code",
      "metadata": {
        "id": "XQAT9bhQVDtM",
        "colab": {
          "base_uri": "https://localhost:8080/"
        },
        "outputId": "60d77669-8bb4-4618-f0f4-226d01ae8f26"
      },
      "source": [
        "X = digit_data['data']\n",
        "X.shape"
      ],
      "execution_count": 85,
      "outputs": [
        {
          "output_type": "execute_result",
          "data": {
            "text/plain": [
              "(1797, 64)"
            ]
          },
          "metadata": {},
          "execution_count": 85
        }
      ]
    },
    {
      "cell_type": "code",
      "metadata": {
        "id": "5svIKGYSVFBD",
        "colab": {
          "base_uri": "https://localhost:8080/"
        },
        "outputId": "1b0532ed-94e2-413d-c971-02faeab628a2"
      },
      "source": [
        "X[0,:]"
      ],
      "execution_count": 86,
      "outputs": [
        {
          "output_type": "execute_result",
          "data": {
            "text/plain": [
              "array([ 0.,  0.,  5., 13.,  9.,  1.,  0.,  0.,  0.,  0., 13., 15., 10.,\n",
              "       15.,  5.,  0.,  0.,  3., 15.,  2.,  0., 11.,  8.,  0.,  0.,  4.,\n",
              "       12.,  0.,  0.,  8.,  8.,  0.,  0.,  5.,  8.,  0.,  0.,  9.,  8.,\n",
              "        0.,  0.,  4., 11.,  0.,  1., 12.,  7.,  0.,  0.,  2., 14.,  5.,\n",
              "       10., 12.,  0.,  0.,  0.,  0.,  6., 13., 10.,  0.,  0.,  0.])"
            ]
          },
          "metadata": {},
          "execution_count": 86
        }
      ]
    },
    {
      "cell_type": "code",
      "metadata": {
        "id": "OEeXt1w_VGX0"
      },
      "source": [
        "from matplotlib import pyplot as plt"
      ],
      "execution_count": 87,
      "outputs": []
    },
    {
      "cell_type": "code",
      "metadata": {
        "id": "zhYsW7HRVH90",
        "colab": {
          "base_uri": "https://localhost:8080/",
          "height": 282
        },
        "outputId": "6b7f1428-f665-4c88-bcbe-3be778eb210e"
      },
      "source": [
        "plt.imshow(np.reshape(X[0,:],(8,8)))"
      ],
      "execution_count": 88,
      "outputs": [
        {
          "output_type": "execute_result",
          "data": {
            "text/plain": [
              "<matplotlib.image.AxesImage at 0x7fe48dff7ed0>"
            ]
          },
          "metadata": {},
          "execution_count": 88
        },
        {
          "output_type": "display_data",
          "data": {
            "image/png": "[encoded data removed]",
            "text/plain": [
              "<Figure size 432x288 with 1 Axes>"
            ]
          },
          "metadata": {
            "needs_background": "light"
          }
        }
      ]
    },
    {
      "cell_type": "code",
      "metadata": {
        "id": "2HsN4LIQVJlk",
        "colab": {
          "base_uri": "https://localhost:8080/",
          "height": 282
        },
        "outputId": "92392091-9981-4b86-84f2-756042b36b1a"
      },
      "source": [
        "plt.imshow(np.reshape(X[1,:],(8,8)))"
      ],
      "execution_count": 89,
      "outputs": [
        {
          "output_type": "execute_result",
          "data": {
            "text/plain": [
              "<matplotlib.image.AxesImage at 0x7fe48df9d810>"
            ]
          },
          "metadata": {},
          "execution_count": 89
        },
        {
          "output_type": "display_data",
          "data": {
            "image/png": "[encoded data removed]",
            "text/plain": [
              "<Figure size 432x288 with 1 Axes>"
            ]
          },
          "metadata": {
            "needs_background": "light"
          }
        }
      ]
    },
    {
      "cell_type": "code",
      "metadata": {
        "id": "e-v5O_cwVLB9"
      },
      "source": [
        "y = digit_data['target']"
      ],
      "execution_count": 90,
      "outputs": []
    },
    {
      "cell_type": "code",
      "metadata": {
        "id": "s0wiyNsGVMfL",
        "colab": {
          "base_uri": "https://localhost:8080/"
        },
        "outputId": "df5f9ffa-f7fc-4250-9d36-fd35cddf68ef"
      },
      "source": [
        "y"
      ],
      "execution_count": 91,
      "outputs": [
        {
          "output_type": "execute_result",
          "data": {
            "text/plain": [
              "array([0, 1, 2, ..., 8, 9, 8])"
            ]
          },
          "metadata": {},
          "execution_count": 91
        }
      ]
    },
    {
      "cell_type": "markdown",
      "metadata": {
        "id": "vvJ-hy2LVPjr"
      },
      "source": [
        "# Start here"
      ]
    },
    {
      "cell_type": "code",
      "metadata": {
        "id": "9xjRgL8PVN-L"
      },
      "source": [
        "from sklearn.model_selection import train_test_split"
      ],
      "execution_count": 92,
      "outputs": []
    },
    {
      "cell_type": "code",
      "metadata": {
        "id": "nRDzNwYmVRZt"
      },
      "source": [
        ""
      ],
      "execution_count": 92,
      "outputs": []
    },
    {
      "cell_type": "markdown",
      "metadata": {
        "id": "la9OnXiOVS_j"
      },
      "source": [
        "#### Train - Test"
      ]
    },
    {
      "cell_type": "code",
      "metadata": {
        "id": "NcdghlnkVVZ8"
      },
      "source": [
        "X_train, X_test, y_train, y_test = train_test_split(X, y, test_size=0.5, random_state=6)"
      ],
      "execution_count": 93,
      "outputs": []
    },
    {
      "cell_type": "code",
      "metadata": {
        "id": "0cesSdw9VWqb",
        "colab": {
          "base_uri": "https://localhost:8080/"
        },
        "outputId": "451d9ffa-f588-4496-ad9e-b2303f97279c"
      },
      "source": [
        "X_train.shape"
      ],
      "execution_count": 94,
      "outputs": [
        {
          "output_type": "execute_result",
          "data": {
            "text/plain": [
              "(898, 64)"
            ]
          },
          "metadata": {},
          "execution_count": 94
        }
      ]
    },
    {
      "cell_type": "markdown",
      "metadata": {
        "id": "4anxh05EVZbI"
      },
      "source": [
        "#### Train - Validation"
      ]
    },
    {
      "cell_type": "code",
      "metadata": {
        "id": "qA5UjCBVVX2T"
      },
      "source": [
        "X_train2, X_val, y_train2, y_val = train_test_split(X_train, y_train, test_size=0.3, random_state=6)"
      ],
      "execution_count": 95,
      "outputs": []
    },
    {
      "cell_type": "code",
      "metadata": {
        "id": "C-s0QsaAVcmr",
        "colab": {
          "base_uri": "https://localhost:8080/"
        },
        "outputId": "cfcee65e-8507-46d5-b1fc-26d038b2ce66"
      },
      "source": [
        "X_train2.shape"
      ],
      "execution_count": 96,
      "outputs": [
        {
          "output_type": "execute_result",
          "data": {
            "text/plain": [
              "(628, 64)"
            ]
          },
          "metadata": {},
          "execution_count": 96
        }
      ]
    },
    {
      "cell_type": "markdown",
      "metadata": {
        "id": "nWE3C4NuVfjw"
      },
      "source": [
        "#### Import"
      ]
    },
    {
      "cell_type": "code",
      "metadata": {
        "id": "FBG_DR2eVd3j"
      },
      "source": [
        "from sklearn.tree import DecisionTreeClassifier"
      ],
      "execution_count": 97,
      "outputs": []
    },
    {
      "cell_type": "markdown",
      "metadata": {
        "id": "La2P-MZRVkIP"
      },
      "source": [
        "#### Define"
      ]
    },
    {
      "cell_type": "code",
      "metadata": {
        "id": "DvRXKnw8Vh9d"
      },
      "source": [
        "mytree1 = DecisionTreeClassifier()"
      ],
      "execution_count": 98,
      "outputs": []
    },
    {
      "cell_type": "markdown",
      "metadata": {
        "id": "toJPijf4Vocz"
      },
      "source": [
        "#### Train"
      ]
    },
    {
      "cell_type": "code",
      "metadata": {
        "id": "relNOA6VVmGb",
        "colab": {
          "base_uri": "https://localhost:8080/"
        },
        "outputId": "07ecdd8a-23c8-4b6f-9c02-2b5ec81dbe05"
      },
      "source": [
        "mytree1.fit(X_train2,y_train2)"
      ],
      "execution_count": 99,
      "outputs": [
        {
          "output_type": "execute_result",
          "data": {
            "text/plain": [
              "DecisionTreeClassifier(ccp_alpha=0.0, class_weight=None, criterion='gini',\n",
              "                       max_depth=None, max_features=None, max_leaf_nodes=None,\n",
              "                       min_impurity_decrease=0.0, min_impurity_split=None,\n",
              "                       min_samples_leaf=1, min_samples_split=2,\n",
              "                       min_weight_fraction_leaf=0.0, presort='deprecated',\n",
              "                       random_state=None, splitter='best')"
            ]
          },
          "metadata": {},
          "execution_count": 99
        }
      ]
    },
    {
      "cell_type": "markdown",
      "metadata": {
        "id": "WG_xPDMaVrnz"
      },
      "source": [
        "# การบ้านครั้งที่ 16\n",
        "\n",
        "1. ต้นไม้ที่ใช้เกณฑ์ Entropy มีความสูงไม่เกิน 4 ชั้น\n",
        "2. ต้นไม้ที่ใช้เกณฑ์ Gini มีใบไม่เกิน 25 ใบ\n",
        "3. ต้นไม้ที่ใช้เกณฑ์ Entropy และใช้การ split แบบ random\n",
        "4. ต้นไม้ที่เราคิดเอง"
      ]
    },
    {
      "cell_type": "markdown",
      "metadata": {
        "id": "qQOlQ9X86-ai"
      },
      "source": [
        "### ข้อ  1. ต้นไม้ที่ใช้เกณฑ์ Entropy มีความสูงไม่เกิน 4 ชั้น"
      ]
    },
    {
      "cell_type": "markdown",
      "metadata": {
        "id": "RkI6YOW_5jap"
      },
      "source": [
        "#### Import"
      ]
    },
    {
      "cell_type": "code",
      "metadata": {
        "id": "6Pd5rg6CVqEj"
      },
      "source": [
        "from sklearn.tree import DecisionTreeClassifier"
      ],
      "execution_count": 106,
      "outputs": []
    },
    {
      "cell_type": "markdown",
      "metadata": {
        "id": "EgDo2yw-5nbh"
      },
      "source": [
        "#### Difine "
      ]
    },
    {
      "cell_type": "code",
      "metadata": {
        "id": "mFbZ4F375f2O"
      },
      "source": [
        "mytree1 = DecisionTreeClassifier(criterion='entropy',max_depth=4)"
      ],
      "execution_count": 107,
      "outputs": []
    },
    {
      "cell_type": "markdown",
      "metadata": {
        "id": "4CgrY1sS55B-"
      },
      "source": [
        "#### Train"
      ]
    },
    {
      "cell_type": "code",
      "metadata": {
        "id": "YxZ2SD0S51Tu",
        "colab": {
          "base_uri": "https://localhost:8080/"
        },
        "outputId": "08c7c316-705f-4dcb-ecc7-73cdea77f91d"
      },
      "source": [
        "mytree1.fit(X_train2,y_train2)"
      ],
      "execution_count": 108,
      "outputs": [
        {
          "output_type": "execute_result",
          "data": {
            "text/plain": [
              "DecisionTreeClassifier(ccp_alpha=0.0, class_weight=None, criterion='entropy',\n",
              "                       max_depth=4, max_features=None, max_leaf_nodes=None,\n",
              "                       min_impurity_decrease=0.0, min_impurity_split=None,\n",
              "                       min_samples_leaf=1, min_samples_split=2,\n",
              "                       min_weight_fraction_leaf=0.0, presort='deprecated',\n",
              "                       random_state=None, splitter='best')"
            ]
          },
          "metadata": {},
          "execution_count": 108
        }
      ]
    },
    {
      "cell_type": "markdown",
      "metadata": {
        "id": "EQLDdP_Hpm1H"
      },
      "source": [
        "#### Evaluate\n",
        " - Test"
      ]
    },
    {
      "cell_type": "code",
      "metadata": {
        "id": "i3XlQdWDpt2Y"
      },
      "source": [
        "mytree1_result = mytree1.predict(X_val)"
      ],
      "execution_count": 109,
      "outputs": []
    },
    {
      "cell_type": "code",
      "metadata": {
        "id": "W4o31QClpqe7",
        "outputId": "22842a3e-79ba-4201-949f-48abc3561035",
        "colab": {
          "base_uri": "https://localhost:8080/"
        }
      },
      "source": [
        "accuracy_score(y_val, mytree1_result)"
      ],
      "execution_count": 117,
      "outputs": [
        {
          "output_type": "execute_result",
          "data": {
            "text/plain": [
              "0.6814814814814815"
            ]
          },
          "metadata": {},
          "execution_count": 117
        }
      ]
    },
    {
      "cell_type": "markdown",
      "metadata": {
        "id": "V3d3qpt-7FtT"
      },
      "source": [
        "### ข้อ 2 ต้นไม้ที่ใช้เกณฑ์ Gini มีใบไม่เกิน 25 ใบ"
      ]
    },
    {
      "cell_type": "code",
      "metadata": {
        "id": "SXt1oCc-6qf8"
      },
      "source": [
        "from sklearn.tree import DecisionTreeClassifier"
      ],
      "execution_count": 118,
      "outputs": []
    },
    {
      "cell_type": "code",
      "metadata": {
        "id": "eABTAGDz7RQ3"
      },
      "source": [
        "mytree2 = DecisionTreeClassifier(criterion='gini',max_leaf_nodes=25)"
      ],
      "execution_count": 119,
      "outputs": []
    },
    {
      "cell_type": "code",
      "metadata": {
        "id": "MQZkXFTfotqU",
        "outputId": "3281c5eb-8f49-43fc-f086-5a0db90db7b2",
        "colab": {
          "base_uri": "https://localhost:8080/"
        }
      },
      "source": [
        "mytree2.fit(X_train2,y_train2)"
      ],
      "execution_count": 120,
      "outputs": [
        {
          "output_type": "execute_result",
          "data": {
            "text/plain": [
              "DecisionTreeClassifier(ccp_alpha=0.0, class_weight=None, criterion='gini',\n",
              "                       max_depth=None, max_features=None, max_leaf_nodes=25,\n",
              "                       min_impurity_decrease=0.0, min_impurity_split=None,\n",
              "                       min_samples_leaf=1, min_samples_split=2,\n",
              "                       min_weight_fraction_leaf=0.0, presort='deprecated',\n",
              "                       random_state=None, splitter='best')"
            ]
          },
          "metadata": {},
          "execution_count": 120
        }
      ]
    },
    {
      "cell_type": "code",
      "metadata": {
        "id": "Wvs3ipiK7W1-"
      },
      "source": [
        "from sklearn.metrics import accuracy_score"
      ],
      "execution_count": 121,
      "outputs": []
    },
    {
      "cell_type": "code",
      "metadata": {
        "id": "tvsEpQFCqmYz"
      },
      "source": [
        "mytree2_hw_result = mytree2.predict(X_val)"
      ],
      "execution_count": 122,
      "outputs": []
    },
    {
      "cell_type": "code",
      "metadata": {
        "id": "qjOtOffiqoyK",
        "outputId": "bea5e0bb-0e94-4c30-d224-3c3522bb1ef9",
        "colab": {
          "base_uri": "https://localhost:8080/"
        }
      },
      "source": [
        "accuracy_score(y_val, mytree2_result )"
      ],
      "execution_count": 123,
      "outputs": [
        {
          "output_type": "execute_result",
          "data": {
            "text/plain": [
              "0.6851851851851852"
            ]
          },
          "metadata": {},
          "execution_count": 123
        }
      ]
    },
    {
      "cell_type": "code",
      "metadata": {
        "id": "tAhhAkJSq3OH",
        "outputId": "1ef5d80b-1372-45b5-c7e1-ce76b98e60b4",
        "colab": {
          "base_uri": "https://localhost:8080/",
          "height": 1000
        }
      },
      "source": [
        "plot_tree(mytree2)"
      ],
      "execution_count": 124,
      "outputs": [
        {
          "output_type": "execute_result",
          "data": {
            "text/plain": [
              "[Text(185.5717105263158, 203.85, 'X[30] <= 0.5\\ngini = 0.899\\nsamples = 628\\nvalue = [57, 70, 56, 74, 54, 61, 62, 61, 64, 69]'),\n",
              " Text(93.61184210526316, 176.67000000000002, 'X[20] <= 3.5\\ngini = 0.857\\nsamples = 383\\nvalue = [0, 62, 54, 68, 11, 54, 61, 12, 51, 10]'),\n",
              " Text(44.05263157894737, 149.49, 'X[42] <= 11.5\\ngini = 0.641\\nsamples = 122\\nvalue = [0, 3, 1, 1, 4, 43, 58, 1, 10, 1]'),\n",
              " Text(26.431578947368422, 122.31, 'X[21] <= 7.0\\ngini = 0.449\\nsamples = 56\\nvalue = [0, 3, 1, 1, 0, 41, 3, 1, 5, 1]'),\n",
              " Text(17.621052631578948, 95.13, 'X[62] <= 7.0\\ngini = 0.231\\nsamples = 47\\nvalue = [0, 3, 0, 0, 0, 41, 3, 0, 0, 0]'),\n",
              " Text(8.810526315789474, 67.94999999999999, 'gini = 0.046\\nsamples = 42\\nvalue = [0, 0, 0, 0, 0, 41, 1, 0, 0, 0]'),\n",
              " Text(26.431578947368422, 67.94999999999999, 'gini = 0.48\\nsamples = 5\\nvalue = [0, 3, 0, 0, 0, 0, 2, 0, 0, 0]'),\n",
              " Text(35.242105263157896, 95.13, 'gini = 0.642\\nsamples = 9\\nvalue = [0, 0, 1, 1, 0, 0, 0, 1, 5, 1]'),\n",
              " Text(61.67368421052632, 122.31, 'X[21] <= 0.5\\ngini = 0.295\\nsamples = 66\\nvalue = [0, 0, 0, 0, 4, 2, 55, 0, 5, 0]'),\n",
              " Text(52.863157894736844, 95.13, 'X[61] <= 6.5\\ngini = 0.156\\nsamples = 60\\nvalue = [0, 0, 0, 0, 3, 2, 55, 0, 0, 0]'),\n",
              " Text(44.05263157894737, 67.94999999999999, 'gini = 0.48\\nsamples = 5\\nvalue = [0, 0, 0, 0, 3, 2, 0, 0, 0, 0]'),\n",
              " Text(61.67368421052632, 67.94999999999999, 'gini = 0.0\\nsamples = 55\\nvalue = [0, 0, 0, 0, 0, 0, 55, 0, 0, 0]'),\n",
              " Text(70.48421052631579, 95.13, 'gini = 0.278\\nsamples = 6\\nvalue = [0, 0, 0, 0, 1, 0, 0, 0, 5, 0]'),\n",
              " Text(143.17105263157896, 149.49, 'X[43] <= 1.5\\ngini = 0.811\\nsamples = 261\\nvalue = [0, 59, 53, 67, 7, 11, 3, 11, 41, 9]'),\n",
              " Text(96.91578947368421, 122.31, 'X[26] <= 3.5\\ngini = 0.521\\nsamples = 91\\nvalue = [0, 10, 0, 61, 0, 9, 0, 0, 6, 5]'),\n",
              " Text(88.10526315789474, 95.13, 'gini = 0.103\\nsamples = 56\\nvalue = [0, 2, 0, 53, 0, 0, 0, 0, 1, 0]'),\n",
              " Text(105.72631578947369, 95.13, 'X[10] <= 9.0\\ngini = 0.789\\nsamples = 35\\nvalue = [0, 8, 0, 8, 0, 9, 0, 0, 5, 5]'),\n",
              " Text(96.91578947368421, 67.94999999999999, 'gini = 0.34\\nsamples = 10\\nvalue = [0, 8, 0, 1, 0, 0, 0, 0, 0, 1]'),\n",
              " Text(114.53684210526316, 67.94999999999999, 'X[26] <= 14.5\\ngini = 0.726\\nsamples = 25\\nvalue = [0, 0, 0, 7, 0, 9, 0, 0, 5, 4]'),\n",
              " Text(105.72631578947369, 40.77000000000001, 'gini = 0.71\\nsamples = 18\\nvalue = [0, 0, 0, 7, 0, 2, 0, 0, 5, 4]'),\n",
              " Text(123.34736842105264, 40.77000000000001, 'gini = 0.0\\nsamples = 7\\nvalue = [0, 0, 0, 0, 0, 7, 0, 0, 0, 0]'),\n",
              " Text(189.42631578947368, 122.31, 'X[19] <= 15.5\\ngini = 0.769\\nsamples = 170\\nvalue = [0, 49, 53, 6, 7, 2, 3, 11, 35, 4]'),\n",
              " Text(167.4, 95.13, 'X[54] <= 1.5\\ngini = 0.717\\nsamples = 117\\nvalue = [0, 8, 51, 5, 5, 1, 0, 11, 32, 4]'),\n",
              " Text(149.77894736842106, 67.94999999999999, 'X[50] <= 7.5\\ngini = 0.75\\nsamples = 57\\nvalue = [0, 8, 2, 4, 5, 1, 0, 11, 24, 2]'),\n",
              " Text(140.96842105263158, 40.77000000000001, 'X[38] <= 0.5\\ngini = 0.768\\nsamples = 27\\nvalue = [0, 8, 1, 3, 3, 1, 0, 9, 0, 2]'),\n",
              " Text(132.1578947368421, 13.590000000000003, 'gini = 0.688\\nsamples = 16\\nvalue = [0, 8, 1, 3, 1, 1, 0, 0, 0, 2]'),\n",
              " Text(149.77894736842106, 13.590000000000003, 'gini = 0.298\\nsamples = 11\\nvalue = [0, 0, 0, 0, 2, 0, 0, 9, 0, 0]'),\n",
              " Text(158.58947368421053, 40.77000000000001, 'gini = 0.349\\nsamples = 30\\nvalue = [0, 0, 1, 1, 2, 0, 0, 2, 24, 0]'),\n",
              " Text(185.02105263157895, 67.94999999999999, 'X[45] <= 8.5\\ngini = 0.314\\nsamples = 60\\nvalue = [0, 0, 49, 1, 0, 0, 0, 0, 8, 2]'),\n",
              " Text(176.21052631578948, 40.77000000000001, 'gini = 0.0\\nsamples = 47\\nvalue = [0, 0, 47, 0, 0, 0, 0, 0, 0, 0]'),\n",
              " Text(193.83157894736843, 40.77000000000001, 'gini = 0.568\\nsamples = 13\\nvalue = [0, 0, 2, 1, 0, 0, 0, 0, 8, 2]'),\n",
              " Text(211.45263157894738, 95.13, 'X[46] <= 1.0\\ngini = 0.392\\nsamples = 53\\nvalue = [0, 41, 2, 1, 2, 1, 3, 0, 3, 0]'),\n",
              " Text(202.6421052631579, 67.94999999999999, 'gini = 0.2\\nsamples = 46\\nvalue = [0, 41, 1, 0, 0, 1, 0, 0, 3, 0]'),\n",
              " Text(220.26315789473685, 67.94999999999999, 'gini = 0.694\\nsamples = 7\\nvalue = [0, 0, 1, 1, 2, 0, 3, 0, 0, 0]'),\n",
              " Text(277.5315789473684, 176.67000000000002, 'X[33] <= 2.5\\ngini = 0.812\\nsamples = 245\\nvalue = [57, 8, 2, 6, 43, 7, 1, 49, 13, 59]'),\n",
              " Text(255.50526315789475, 149.49, 'X[43] <= 2.5\\ngini = 0.694\\nsamples = 130\\nvalue = [1, 5, 2, 6, 1, 4, 1, 38, 13, 59]'),\n",
              " Text(237.8842105263158, 122.31, 'X[21] <= 10.5\\ngini = 0.402\\nsamples = 72\\nvalue = [0, 4, 0, 6, 0, 4, 0, 2, 1, 55]'),\n",
              " Text(229.07368421052632, 95.13, 'gini = 0.694\\nsamples = 11\\nvalue = [0, 0, 0, 4, 0, 4, 0, 2, 0, 1]'),\n",
              " Text(246.69473684210527, 95.13, 'gini = 0.211\\nsamples = 61\\nvalue = [0, 4, 0, 2, 0, 0, 0, 0, 1, 54]'),\n",
              " Text(273.12631578947367, 122.31, 'X[61] <= 0.5\\ngini = 0.565\\nsamples = 58\\nvalue = [1, 1, 2, 0, 1, 0, 1, 36, 12, 4]'),\n",
              " Text(264.3157894736842, 95.13, 'gini = 0.1\\nsamples = 38\\nvalue = [0, 0, 0, 0, 0, 0, 0, 36, 0, 2]'),\n",
              " Text(281.93684210526317, 95.13, 'gini = 0.61\\nsamples = 20\\nvalue = [1, 1, 2, 0, 1, 0, 1, 0, 12, 2]'),\n",
              " Text(299.5578947368421, 149.49, 'X[36] <= 0.5\\ngini = 0.619\\nsamples = 115\\nvalue = [56, 3, 0, 0, 42, 3, 0, 11, 0, 0]'),\n",
              " Text(290.74736842105267, 122.31, 'gini = 0.098\\nsamples = 59\\nvalue = [56, 0, 0, 0, 2, 1, 0, 0, 0, 0]'),\n",
              " Text(308.36842105263156, 122.31, 'X[19] <= 1.5\\ngini = 0.447\\nsamples = 56\\nvalue = [0, 3, 0, 0, 40, 2, 0, 11, 0, 0]'),\n",
              " Text(299.5578947368421, 95.13, 'gini = 0.0\\nsamples = 10\\nvalue = [0, 0, 0, 0, 0, 0, 0, 10, 0, 0]'),\n",
              " Text(317.17894736842106, 95.13, 'X[5] <= 12.0\\ngini = 0.237\\nsamples = 46\\nvalue = [0, 3, 0, 0, 40, 2, 0, 1, 0, 0]'),\n",
              " Text(308.36842105263156, 67.94999999999999, 'gini = 0.092\\nsamples = 42\\nvalue = [0, 0, 0, 0, 40, 1, 0, 1, 0, 0]'),\n",
              " Text(325.98947368421057, 67.94999999999999, 'gini = 0.375\\nsamples = 4\\nvalue = [0, 3, 0, 0, 0, 1, 0, 0, 0, 0]')]"
            ]
          },
          "metadata": {},
          "execution_count": 124
        },
        {
          "output_type": "display_data",
          "data": {
            "image/png": "[encoded data removed]",
            "text/plain": [
              "<Figure size 432x288 with 1 Axes>"
            ]
          },
          "metadata": {
            "needs_background": "light"
          }
        }
      ]
    },
    {
      "cell_type": "markdown",
      "metadata": {
        "id": "Y0r4eoW-7i6A"
      },
      "source": [
        "### ข้อ 3 ต้นไม้ที่ใช้เกณฑ์ Entropy และใช้การ split แบบ random"
      ]
    },
    {
      "cell_type": "code",
      "metadata": {
        "id": "sFvJ1K6Q7aQ1"
      },
      "source": [
        "from sklearn.tree import DecisionTreeClassifier"
      ],
      "execution_count": 125,
      "outputs": []
    },
    {
      "cell_type": "code",
      "metadata": {
        "id": "C41myQz-8Fd5"
      },
      "source": [
        "mytree3 = DecisionTreeClassifier(criterion='entropy',splitter='random')"
      ],
      "execution_count": 133,
      "outputs": []
    },
    {
      "cell_type": "code",
      "metadata": {
        "id": "5a7lkb6M8Q93",
        "colab": {
          "base_uri": "https://localhost:8080/"
        },
        "outputId": "921d0229-51ad-4a53-e349-c7a6426b0f62"
      },
      "source": [
        "mytree3.fit(X_train2,y_train2)"
      ],
      "execution_count": 134,
      "outputs": [
        {
          "output_type": "execute_result",
          "data": {
            "text/plain": [
              "DecisionTreeClassifier(ccp_alpha=0.0, class_weight=None, criterion='entropy',\n",
              "                       max_depth=None, max_features=None, max_leaf_nodes=None,\n",
              "                       min_impurity_decrease=0.0, min_impurity_split=None,\n",
              "                       min_samples_leaf=1, min_samples_split=2,\n",
              "                       min_weight_fraction_leaf=0.0, presort='deprecated',\n",
              "                       random_state=None, splitter='random')"
            ]
          },
          "metadata": {},
          "execution_count": 134
        }
      ]
    },
    {
      "cell_type": "code",
      "metadata": {
        "id": "1DghvGANrDa9"
      },
      "source": [
        "from sklearn.metrics import accuracy_score"
      ],
      "execution_count": 135,
      "outputs": []
    },
    {
      "cell_type": "code",
      "metadata": {
        "id": "IUYbWdG6rFSh"
      },
      "source": [
        "mytree3_result = mytree3.predict(X_val)"
      ],
      "execution_count": 136,
      "outputs": []
    },
    {
      "cell_type": "code",
      "metadata": {
        "id": "tsiQZtURrHBH",
        "outputId": "b0881156-492c-4849-8e32-4504efae9281",
        "colab": {
          "base_uri": "https://localhost:8080/"
        }
      },
      "source": [
        "accuracy_score(y_val, mytree3_hw_result )"
      ],
      "execution_count": 138,
      "outputs": [
        {
          "output_type": "execute_result",
          "data": {
            "text/plain": [
              "0.837037037037037"
            ]
          },
          "metadata": {},
          "execution_count": 138
        }
      ]
    },
    {
      "cell_type": "code",
      "metadata": {
        "id": "RWJBIee-rIyp",
        "outputId": "943922dc-12dd-4186-ba24-0433e784ed4c",
        "colab": {
          "base_uri": "https://localhost:8080/",
          "height": 1000
        }
      },
      "source": [
        "plot_tree(mytree3_hw)"
      ],
      "execution_count": 132,
      "outputs": [
        {
          "output_type": "execute_result",
          "data": {
            "text/plain": [
              "[Text(134.42993697478994, 207.55636363636364, 'X[21] <= 7.037\\nentropy = 3.315\\nsamples = 628\\nvalue = [57, 70, 56, 74, 54, 61, 62, 61, 64, 69]'),\n",
              " Text(79.47983193277311, 187.7890909090909, 'X[10] <= 11.394\\nentropy = 2.875\\nsamples = 287\\nvalue = [2, 37, 35, 26, 40, 59, 62, 16, 9, 1]'),\n",
              " Text(45.36680672268908, 168.0218181818182, 'X[54] <= 2.467\\nentropy = 2.248\\nsamples = 143\\nvalue = [0, 34, 0, 6, 40, 6, 47, 7, 3, 0]'),\n",
              " Text(25.321008403361347, 148.25454545454545, 'X[37] <= 8.823\\nentropy = 1.856\\nsamples = 75\\nvalue = [0, 19, 0, 0, 40, 4, 3, 7, 2, 0]'),\n",
              " Text(14.067226890756304, 128.48727272727274, 'X[27] <= 9.902\\nentropy = 1.441\\nsamples = 27\\nvalue = [0, 19, 0, 0, 3, 1, 2, 0, 2, 0]'),\n",
              " Text(8.440336134453782, 108.72, 'X[19] <= 10.921\\nentropy = 1.522\\nsamples = 5\\nvalue = [0, 0, 0, 0, 2, 1, 2, 0, 0, 0]'),\n",
              " Text(5.6268907563025214, 88.95272727272729, 'X[61] <= 3.618\\nentropy = 0.918\\nsamples = 3\\nvalue = [0, 0, 0, 0, 0, 1, 2, 0, 0, 0]'),\n",
              " Text(2.8134453781512607, 69.18545454545455, 'entropy = 0.0\\nsamples = 1\\nvalue = [0, 0, 0, 0, 0, 1, 0, 0, 0, 0]'),\n",
              " Text(8.440336134453782, 69.18545454545455, 'entropy = 0.0\\nsamples = 2\\nvalue = [0, 0, 0, 0, 0, 0, 2, 0, 0, 0]'),\n",
              " Text(11.253781512605043, 88.95272727272729, 'entropy = 0.0\\nsamples = 2\\nvalue = [0, 0, 0, 0, 2, 0, 0, 0, 0, 0]'),\n",
              " Text(19.694117647058825, 108.72, 'X[51] <= 9.595\\nentropy = 0.7\\nsamples = 22\\nvalue = [0, 19, 0, 0, 1, 0, 0, 0, 2, 0]'),\n",
              " Text(16.880672268907563, 88.95272727272729, 'X[42] <= 9.826\\nentropy = 1.522\\nsamples = 5\\nvalue = [0, 2, 0, 0, 1, 0, 0, 0, 2, 0]'),\n",
              " Text(14.067226890756304, 69.18545454545455, 'entropy = 0.0\\nsamples = 2\\nvalue = [0, 2, 0, 0, 0, 0, 0, 0, 0, 0]'),\n",
              " Text(19.694117647058825, 69.18545454545455, 'X[44] <= 14.533\\nentropy = 0.918\\nsamples = 3\\nvalue = [0, 0, 0, 0, 1, 0, 0, 0, 2, 0]'),\n",
              " Text(16.880672268907563, 49.418181818181836, 'entropy = 0.0\\nsamples = 2\\nvalue = [0, 0, 0, 0, 0, 0, 0, 0, 2, 0]'),\n",
              " Text(22.507563025210086, 49.418181818181836, 'entropy = 0.0\\nsamples = 1\\nvalue = [0, 0, 0, 0, 1, 0, 0, 0, 0, 0]'),\n",
              " Text(22.507563025210086, 88.95272727272729, 'entropy = 0.0\\nsamples = 17\\nvalue = [0, 17, 0, 0, 0, 0, 0, 0, 0, 0]'),\n",
              " Text(36.57478991596639, 128.48727272727274, 'X[10] <= 6.765\\nentropy = 1.061\\nsamples = 48\\nvalue = [0, 0, 0, 0, 37, 3, 1, 7, 0, 0]'),\n",
              " Text(30.94789915966387, 108.72, 'X[14] <= 12.485\\nentropy = 0.485\\nsamples = 38\\nvalue = [0, 0, 0, 0, 34, 0, 0, 4, 0, 0]'),\n",
              " Text(28.134453781512608, 88.95272727272729, 'X[18] <= 1.469\\nentropy = 0.187\\nsamples = 35\\nvalue = [0, 0, 0, 0, 34, 0, 0, 1, 0, 0]'),\n",
              " Text(25.321008403361347, 69.18545454545455, 'entropy = 0.0\\nsamples = 1\\nvalue = [0, 0, 0, 0, 0, 0, 0, 1, 0, 0]'),\n",
              " Text(30.94789915966387, 69.18545454545455, 'entropy = 0.0\\nsamples = 34\\nvalue = [0, 0, 0, 0, 34, 0, 0, 0, 0, 0]'),\n",
              " Text(33.76134453781513, 88.95272727272729, 'entropy = 0.0\\nsamples = 3\\nvalue = [0, 0, 0, 0, 0, 0, 0, 3, 0, 0]'),\n",
              " Text(42.201680672268914, 108.72, 'X[5] <= 13.773\\nentropy = 1.895\\nsamples = 10\\nvalue = [0, 0, 0, 0, 3, 3, 1, 3, 0, 0]'),\n",
              " Text(39.38823529411765, 88.95272727272729, 'X[12] <= 7.647\\nentropy = 1.449\\nsamples = 7\\nvalue = [0, 0, 0, 0, 3, 0, 1, 3, 0, 0]'),\n",
              " Text(36.57478991596639, 69.18545454545455, 'entropy = 0.0\\nsamples = 3\\nvalue = [0, 0, 0, 0, 3, 0, 0, 0, 0, 0]'),\n",
              " Text(42.201680672268914, 69.18545454545455, 'X[61] <= 3.285\\nentropy = 0.811\\nsamples = 4\\nvalue = [0, 0, 0, 0, 0, 0, 1, 3, 0, 0]'),\n",
              " Text(39.38823529411765, 49.418181818181836, 'entropy = 0.0\\nsamples = 3\\nvalue = [0, 0, 0, 0, 0, 0, 0, 3, 0, 0]'),\n",
              " Text(45.01512605042017, 49.418181818181836, 'entropy = 0.0\\nsamples = 1\\nvalue = [0, 0, 0, 0, 0, 0, 1, 0, 0, 0]'),\n",
              " Text(45.01512605042017, 88.95272727272729, 'entropy = 0.0\\nsamples = 3\\nvalue = [0, 0, 0, 0, 0, 3, 0, 0, 0, 0]'),\n",
              " Text(65.4126050420168, 148.25454545454545, 'X[42] <= 1.494\\nentropy = 1.436\\nsamples = 68\\nvalue = [0, 15, 0, 6, 0, 2, 44, 0, 1, 0]'),\n",
              " Text(56.268907563025216, 128.48727272727274, 'X[55] <= 0.533\\nentropy = 1.086\\nsamples = 17\\nvalue = [0, 12, 0, 4, 0, 1, 0, 0, 0, 0]'),\n",
              " Text(53.45546218487395, 108.72, 'X[62] <= 2.923\\nentropy = 0.722\\nsamples = 5\\nvalue = [0, 0, 0, 4, 0, 1, 0, 0, 0, 0]'),\n",
              " Text(50.642016806722694, 88.95272727272729, 'entropy = 0.0\\nsamples = 4\\nvalue = [0, 0, 0, 4, 0, 0, 0, 0, 0, 0]'),\n",
              " Text(56.268907563025216, 88.95272727272729, 'entropy = 0.0\\nsamples = 1\\nvalue = [0, 0, 0, 0, 0, 1, 0, 0, 0, 0]'),\n",
              " Text(59.082352941176474, 108.72, 'entropy = 0.0\\nsamples = 12\\nvalue = [0, 12, 0, 0, 0, 0, 0, 0, 0, 0]'),\n",
              " Text(74.5563025210084, 128.48727272727274, 'X[21] <= 1.995\\nentropy = 0.83\\nsamples = 51\\nvalue = [0, 3, 0, 2, 0, 1, 44, 0, 1, 0]'),\n",
              " Text(67.52268907563025, 108.72, 'X[42] <= 4.237\\nentropy = 0.401\\nsamples = 47\\nvalue = [0, 2, 0, 0, 0, 1, 44, 0, 0, 0]'),\n",
              " Text(61.89579831932774, 88.95272727272729, 'X[62] <= 4.536\\nentropy = 1.0\\nsamples = 2\\nvalue = [0, 1, 0, 0, 0, 1, 0, 0, 0, 0]'),\n",
              " Text(59.082352941176474, 69.18545454545455, 'entropy = 0.0\\nsamples = 1\\nvalue = [0, 0, 0, 0, 0, 1, 0, 0, 0, 0]'),\n",
              " Text(64.709243697479, 69.18545454545455, 'entropy = 0.0\\nsamples = 1\\nvalue = [0, 1, 0, 0, 0, 0, 0, 0, 0, 0]'),\n",
              " Text(73.14957983193278, 88.95272727272729, 'X[55] <= 7.981\\nentropy = 0.154\\nsamples = 45\\nvalue = [0, 1, 0, 0, 0, 0, 44, 0, 0, 0]'),\n",
              " Text(70.33613445378151, 69.18545454545455, 'entropy = 0.0\\nsamples = 44\\nvalue = [0, 0, 0, 0, 0, 0, 44, 0, 0, 0]'),\n",
              " Text(75.96302521008404, 69.18545454545455, 'entropy = 0.0\\nsamples = 1\\nvalue = [0, 1, 0, 0, 0, 0, 0, 0, 0, 0]'),\n",
              " Text(81.58991596638656, 108.72, 'X[18] <= 3.291\\nentropy = 1.5\\nsamples = 4\\nvalue = [0, 1, 0, 2, 0, 0, 0, 0, 1, 0]'),\n",
              " Text(78.7764705882353, 88.95272727272729, 'entropy = 0.0\\nsamples = 2\\nvalue = [0, 0, 0, 2, 0, 0, 0, 0, 0, 0]'),\n",
              " Text(84.40336134453783, 88.95272727272729, 'X[62] <= 1.686\\nentropy = 1.0\\nsamples = 2\\nvalue = [0, 1, 0, 0, 0, 0, 0, 0, 1, 0]'),\n",
              " Text(81.58991596638656, 69.18545454545455, 'entropy = 0.0\\nsamples = 1\\nvalue = [0, 0, 0, 0, 0, 0, 0, 0, 1, 0]'),\n",
              " Text(87.21680672268909, 69.18545454545455, 'entropy = 0.0\\nsamples = 1\\nvalue = [0, 1, 0, 0, 0, 0, 0, 0, 0, 0]'),\n",
              " Text(113.59285714285716, 168.0218181818182, 'X[20] <= 4.322\\nentropy = 2.455\\nsamples = 144\\nvalue = [2, 3, 35, 20, 0, 53, 15, 9, 6, 1]'),\n",
              " Text(101.28403361344539, 148.25454545454545, 'X[58] <= 7.97\\nentropy = 1.112\\nsamples = 61\\nvalue = [2, 0, 1, 0, 0, 43, 15, 0, 0, 0]'),\n",
              " Text(95.65714285714286, 128.48727272727274, 'X[42] <= 12.245\\nentropy = 1.272\\nsamples = 26\\nvalue = [2, 0, 0, 0, 0, 9, 15, 0, 0, 0]'),\n",
              " Text(92.8436974789916, 108.72, 'X[50] <= 8.38\\nentropy = 0.684\\nsamples = 11\\nvalue = [2, 0, 0, 0, 0, 9, 0, 0, 0, 0]'),\n",
              " Text(90.03025210084034, 88.95272727272729, 'entropy = 0.0\\nsamples = 9\\nvalue = [0, 0, 0, 0, 0, 9, 0, 0, 0, 0]'),\n",
              " Text(95.65714285714286, 88.95272727272729, 'entropy = 0.0\\nsamples = 2\\nvalue = [2, 0, 0, 0, 0, 0, 0, 0, 0, 0]'),\n",
              " Text(98.47058823529413, 108.72, 'entropy = 0.0\\nsamples = 15\\nvalue = [0, 0, 0, 0, 0, 0, 15, 0, 0, 0]'),\n",
              " Text(106.9109243697479, 128.48727272727274, 'X[26] <= 2.6\\nentropy = 0.187\\nsamples = 35\\nvalue = [0, 0, 1, 0, 0, 34, 0, 0, 0, 0]'),\n",
              " Text(104.09747899159665, 108.72, 'entropy = 0.0\\nsamples = 1\\nvalue = [0, 0, 1, 0, 0, 0, 0, 0, 0, 0]'),\n",
              " Text(109.72436974789917, 108.72, 'entropy = 0.0\\nsamples = 34\\nvalue = [0, 0, 0, 0, 0, 34, 0, 0, 0, 0]'),\n",
              " Text(125.90168067226892, 148.25454545454545, 'X[43] <= 3.954\\nentropy = 2.261\\nsamples = 83\\nvalue = [0, 3, 34, 20, 0, 10, 0, 9, 6, 1]'),\n",
              " Text(118.16470588235295, 128.48727272727274, 'X[25] <= 1.801\\nentropy = 1.438\\nsamples = 32\\nvalue = [0, 0, 0, 19, 0, 9, 0, 0, 3, 1]'),\n",
              " Text(115.35126050420169, 108.72, 'X[34] <= 7.106\\nentropy = 0.808\\nsamples = 23\\nvalue = [0, 0, 0, 19, 0, 0, 0, 0, 3, 1]'),\n",
              " Text(112.53781512605043, 88.95272727272729, 'X[55] <= 0.157\\nentropy = 0.286\\nsamples = 20\\nvalue = [0, 0, 0, 19, 0, 0, 0, 0, 0, 1]'),\n",
              " Text(109.72436974789917, 69.18545454545455, 'entropy = 0.0\\nsamples = 19\\nvalue = [0, 0, 0, 19, 0, 0, 0, 0, 0, 0]'),\n",
              " Text(115.35126050420169, 69.18545454545455, 'entropy = 0.0\\nsamples = 1\\nvalue = [0, 0, 0, 0, 0, 0, 0, 0, 0, 1]'),\n",
              " Text(118.16470588235295, 88.95272727272729, 'entropy = 0.0\\nsamples = 3\\nvalue = [0, 0, 0, 0, 0, 0, 0, 0, 3, 0]'),\n",
              " Text(120.9781512605042, 108.72, 'entropy = 0.0\\nsamples = 9\\nvalue = [0, 0, 0, 0, 0, 9, 0, 0, 0, 0]'),\n",
              " Text(133.6386554621849, 128.48727272727274, 'X[61] <= 3.596\\nentropy = 1.535\\nsamples = 51\\nvalue = [0, 3, 34, 1, 0, 1, 0, 9, 3, 0]'),\n",
              " Text(126.60504201680673, 108.72, 'X[38] <= 1.636\\nentropy = 1.627\\nsamples = 14\\nvalue = [0, 1, 1, 0, 0, 1, 0, 9, 2, 0]'),\n",
              " Text(123.79159663865548, 88.95272727272729, 'X[28] <= 10.556\\nentropy = 1.922\\nsamples = 5\\nvalue = [0, 1, 1, 0, 0, 1, 0, 0, 2, 0]'),\n",
              " Text(120.9781512605042, 69.18545454545455, 'entropy = 0.0\\nsamples = 2\\nvalue = [0, 0, 0, 0, 0, 0, 0, 0, 2, 0]'),\n",
              " Text(126.60504201680673, 69.18545454545455, 'X[43] <= 9.599\\nentropy = 1.585\\nsamples = 3\\nvalue = [0, 1, 1, 0, 0, 1, 0, 0, 0, 0]'),\n",
              " Text(123.79159663865548, 49.418181818181836, 'entropy = 0.0\\nsamples = 1\\nvalue = [0, 0, 0, 0, 0, 1, 0, 0, 0, 0]'),\n",
              " Text(129.418487394958, 49.418181818181836, 'X[57] <= 4.536\\nentropy = 1.0\\nsamples = 2\\nvalue = [0, 1, 1, 0, 0, 0, 0, 0, 0, 0]'),\n",
              " Text(126.60504201680673, 29.650909090909096, 'entropy = 0.0\\nsamples = 1\\nvalue = [0, 1, 0, 0, 0, 0, 0, 0, 0, 0]'),\n",
              " Text(132.23193277310926, 29.650909090909096, 'entropy = 0.0\\nsamples = 1\\nvalue = [0, 0, 1, 0, 0, 0, 0, 0, 0, 0]'),\n",
              " Text(129.418487394958, 88.95272727272729, 'entropy = 0.0\\nsamples = 9\\nvalue = [0, 0, 0, 0, 0, 0, 0, 9, 0, 0]'),\n",
              " Text(140.67226890756302, 108.72, 'X[26] <= 14.552\\nentropy = 0.656\\nsamples = 37\\nvalue = [0, 2, 33, 1, 0, 0, 0, 0, 1, 0]'),\n",
              " Text(135.0453781512605, 88.95272727272729, 'X[30] <= 0.855\\nentropy = 0.191\\nsamples = 34\\nvalue = [0, 0, 33, 0, 0, 0, 0, 0, 1, 0]'),\n",
              " Text(132.23193277310926, 69.18545454545455, 'entropy = 0.0\\nsamples = 33\\nvalue = [0, 0, 33, 0, 0, 0, 0, 0, 0, 0]'),\n",
              " Text(137.85882352941178, 69.18545454545455, 'entropy = 0.0\\nsamples = 1\\nvalue = [0, 0, 0, 0, 0, 0, 0, 0, 1, 0]'),\n",
              " Text(146.29915966386557, 88.95272727272729, 'X[51] <= 9.234\\nentropy = 0.918\\nsamples = 3\\nvalue = [0, 2, 0, 1, 0, 0, 0, 0, 0, 0]'),\n",
              " Text(143.4857142857143, 69.18545454545455, 'entropy = 0.0\\nsamples = 1\\nvalue = [0, 0, 0, 1, 0, 0, 0, 0, 0, 0]'),\n",
              " Text(149.1126050420168, 69.18545454545455, 'entropy = 0.0\\nsamples = 2\\nvalue = [0, 2, 0, 0, 0, 0, 0, 0, 0, 0]'),\n",
              " Text(189.38004201680673, 187.7890909090909, 'X[36] <= 0.028\\nentropy = 2.903\\nsamples = 341\\nvalue = [55, 33, 21, 48, 14, 2, 0, 45, 55, 68]'),\n",
              " Text(151.92605042016808, 168.0218181818182, 'X[42] <= 5.492\\nentropy = 1.063\\nsamples = 77\\nvalue = [55, 0, 0, 1, 0, 0, 0, 0, 2, 19]'),\n",
              " Text(146.29915966386557, 148.25454545454545, 'X[1] <= 1.463\\nentropy = 0.286\\nsamples = 20\\nvalue = [0, 0, 0, 1, 0, 0, 0, 0, 0, 19]'),\n",
              " Text(143.4857142857143, 128.48727272727274, 'entropy = 0.0\\nsamples = 19\\nvalue = [0, 0, 0, 0, 0, 0, 0, 0, 0, 19]'),\n",
              " Text(149.1126050420168, 128.48727272727274, 'entropy = 0.0\\nsamples = 1\\nvalue = [0, 0, 0, 1, 0, 0, 0, 0, 0, 0]'),\n",
              " Text(157.5529411764706, 148.25454545454545, 'X[28] <= 4.148\\nentropy = 0.219\\nsamples = 57\\nvalue = [55, 0, 0, 0, 0, 0, 0, 0, 2, 0]'),\n",
              " Text(154.73949579831935, 128.48727272727274, 'entropy = 0.0\\nsamples = 55\\nvalue = [55, 0, 0, 0, 0, 0, 0, 0, 0, 0]'),\n",
              " Text(160.36638655462187, 128.48727272727274, 'entropy = 0.0\\nsamples = 2\\nvalue = [0, 0, 0, 0, 0, 0, 0, 0, 2, 0]'),\n",
              " Text(226.8340336134454, 168.0218181818182, 'X[26] <= 4.417\\nentropy = 2.738\\nsamples = 264\\nvalue = [0, 33, 21, 47, 14, 2, 0, 45, 53, 49]'),\n",
              " Text(182.17058823529413, 148.25454545454545, 'X[43] <= 2.02\\nentropy = 2.126\\nsamples = 110\\nvalue = [0, 3, 19, 44, 0, 0, 0, 27, 14, 3]'),\n",
              " Text(165.99327731092438, 128.48727272727274, 'X[19] <= 8.313\\nentropy = 1.01\\nsamples = 49\\nvalue = [0, 1, 1, 40, 0, 0, 0, 0, 4, 3]'),\n",
              " Text(160.36638655462187, 108.72, 'X[42] <= 13.874\\nentropy = 0.324\\nsamples = 42\\nvalue = [0, 0, 1, 40, 0, 0, 0, 0, 1, 0]'),\n",
              " Text(157.5529411764706, 88.95272727272729, 'X[63] <= 4.516\\nentropy = 0.165\\nsamples = 41\\nvalue = [0, 0, 1, 40, 0, 0, 0, 0, 0, 0]'),\n",
              " Text(154.73949579831935, 69.18545454545455, 'entropy = 0.0\\nsamples = 40\\nvalue = [0, 0, 0, 40, 0, 0, 0, 0, 0, 0]'),\n",
              " Text(160.36638655462187, 69.18545454545455, 'entropy = 0.0\\nsamples = 1\\nvalue = [0, 0, 1, 0, 0, 0, 0, 0, 0, 0]'),\n",
              " Text(163.1798319327731, 88.95272727272729, 'entropy = 0.0\\nsamples = 1\\nvalue = [0, 0, 0, 0, 0, 0, 0, 0, 1, 0]'),\n",
              " Text(171.6201680672269, 108.72, 'X[60] <= 13.725\\nentropy = 1.449\\nsamples = 7\\nvalue = [0, 1, 0, 0, 0, 0, 0, 0, 3, 3]'),\n",
              " Text(168.80672268907566, 88.95272727272729, 'entropy = 0.0\\nsamples = 3\\nvalue = [0, 0, 0, 0, 0, 0, 0, 0, 3, 0]'),\n",
              " Text(174.43361344537817, 88.95272727272729, 'X[59] <= 7.551\\nentropy = 0.811\\nsamples = 4\\nvalue = [0, 1, 0, 0, 0, 0, 0, 0, 0, 3]'),\n",
              " Text(171.6201680672269, 69.18545454545455, 'entropy = 0.0\\nsamples = 1\\nvalue = [0, 1, 0, 0, 0, 0, 0, 0, 0, 0]'),\n",
              " Text(177.24705882352941, 69.18545454545455, 'entropy = 0.0\\nsamples = 3\\nvalue = [0, 0, 0, 0, 0, 0, 0, 0, 0, 3]'),\n",
              " Text(198.34789915966388, 128.48727272727274, 'X[38] <= 1.643\\nentropy = 1.887\\nsamples = 61\\nvalue = [0, 2, 18, 4, 0, 0, 0, 27, 10, 0]'),\n",
              " Text(191.31428571428572, 108.72, 'X[19] <= 9.825\\nentropy = 1.915\\nsamples = 38\\nvalue = [0, 2, 18, 3, 0, 0, 0, 5, 10, 0]'),\n",
              " Text(185.6873949579832, 88.95272727272729, 'X[38] <= 0.766\\nentropy = 1.398\\nsamples = 26\\nvalue = [0, 0, 17, 3, 0, 0, 0, 5, 1, 0]'),\n",
              " Text(182.87394957983196, 69.18545454545455, 'X[12] <= 11.212\\nentropy = 0.857\\nsamples = 21\\nvalue = [0, 0, 17, 3, 0, 0, 0, 0, 1, 0]'),\n",
              " Text(180.0605042016807, 49.418181818181836, 'X[44] <= 14.414\\nentropy = 1.371\\nsamples = 5\\nvalue = [0, 0, 1, 3, 0, 0, 0, 0, 1, 0]'),\n",
              " Text(177.24705882352941, 29.650909090909096, 'X[13] <= 13.755\\nentropy = 1.0\\nsamples = 2\\nvalue = [0, 0, 1, 0, 0, 0, 0, 0, 1, 0]'),\n",
              " Text(174.43361344537817, 9.883636363636384, 'entropy = 0.0\\nsamples = 1\\nvalue = [0, 0, 0, 0, 0, 0, 0, 0, 1, 0]'),\n",
              " Text(180.0605042016807, 9.883636363636384, 'entropy = 0.0\\nsamples = 1\\nvalue = [0, 0, 1, 0, 0, 0, 0, 0, 0, 0]'),\n",
              " Text(182.87394957983196, 29.650909090909096, 'entropy = 0.0\\nsamples = 3\\nvalue = [0, 0, 0, 3, 0, 0, 0, 0, 0, 0]'),\n",
              " Text(185.6873949579832, 49.418181818181836, 'entropy = 0.0\\nsamples = 16\\nvalue = [0, 0, 16, 0, 0, 0, 0, 0, 0, 0]'),\n",
              " Text(188.50084033613447, 69.18545454545455, 'entropy = 0.0\\nsamples = 5\\nvalue = [0, 0, 0, 0, 0, 0, 0, 5, 0, 0]'),\n",
              " Text(196.94117647058826, 88.95272727272729, 'X[12] <= 15.045\\nentropy = 1.041\\nsamples = 12\\nvalue = [0, 2, 1, 0, 0, 0, 0, 0, 9, 0]'),\n",
              " Text(194.127731092437, 69.18545454545455, 'entropy = 0.0\\nsamples = 8\\nvalue = [0, 0, 0, 0, 0, 0, 0, 0, 8, 0]'),\n",
              " Text(199.7546218487395, 69.18545454545455, 'X[44] <= 13.949\\nentropy = 1.5\\nsamples = 4\\nvalue = [0, 2, 1, 0, 0, 0, 0, 0, 1, 0]'),\n",
              " Text(196.94117647058826, 49.418181818181836, 'X[4] <= 12.304\\nentropy = 1.0\\nsamples = 2\\nvalue = [0, 0, 1, 0, 0, 0, 0, 0, 1, 0]'),\n",
              " Text(194.127731092437, 29.650909090909096, 'entropy = 0.0\\nsamples = 1\\nvalue = [0, 0, 1, 0, 0, 0, 0, 0, 0, 0]'),\n",
              " Text(199.7546218487395, 29.650909090909096, 'entropy = 0.0\\nsamples = 1\\nvalue = [0, 0, 0, 0, 0, 0, 0, 0, 1, 0]'),\n",
              " Text(202.56806722689078, 49.418181818181836, 'entropy = 0.0\\nsamples = 2\\nvalue = [0, 2, 0, 0, 0, 0, 0, 0, 0, 0]'),\n",
              " Text(205.38151260504202, 108.72, 'X[54] <= 1.008\\nentropy = 0.258\\nsamples = 23\\nvalue = [0, 0, 0, 1, 0, 0, 0, 22, 0, 0]'),\n",
              " Text(202.56806722689078, 88.95272727272729, 'entropy = 0.0\\nsamples = 22\\nvalue = [0, 0, 0, 0, 0, 0, 0, 22, 0, 0]'),\n",
              " Text(208.1949579831933, 88.95272727272729, 'entropy = 0.0\\nsamples = 1\\nvalue = [0, 0, 0, 1, 0, 0, 0, 0, 0, 0]'),\n",
              " Text(271.49747899159667, 148.25454545454545, 'X[43] <= 9.766\\nentropy = 2.432\\nsamples = 154\\nvalue = [0, 30, 2, 3, 14, 2, 0, 18, 39, 46]'),\n",
              " Text(239.14285714285717, 128.48727272727274, 'X[50] <= 3.692\\nentropy = 1.891\\nsamples = 82\\nvalue = [0, 14, 1, 2, 0, 2, 0, 3, 16, 44]'),\n",
              " Text(220.85546218487397, 108.72, 'X[59] <= 6.237\\nentropy = 1.418\\nsamples = 40\\nvalue = [0, 14, 1, 0, 0, 0, 0, 3, 0, 22]'),\n",
              " Text(213.8218487394958, 88.95272727272729, 'X[53] <= 10.159\\nentropy = 0.881\\nsamples = 20\\nvalue = [0, 14, 0, 0, 0, 0, 0, 0, 0, 6]'),\n",
              " Text(211.00840336134456, 69.18545454545455, 'X[12] <= 13.585\\nentropy = 0.811\\nsamples = 8\\nvalue = [0, 2, 0, 0, 0, 0, 0, 0, 0, 6]'),\n",
              " Text(208.1949579831933, 49.418181818181836, 'entropy = 0.0\\nsamples = 6\\nvalue = [0, 0, 0, 0, 0, 0, 0, 0, 0, 6]'),\n",
              " Text(213.8218487394958, 49.418181818181836, 'entropy = 0.0\\nsamples = 2\\nvalue = [0, 2, 0, 0, 0, 0, 0, 0, 0, 0]'),\n",
              " Text(216.63529411764708, 69.18545454545455, 'entropy = 0.0\\nsamples = 12\\nvalue = [0, 12, 0, 0, 0, 0, 0, 0, 0, 0]'),\n",
              " Text(227.8890756302521, 88.95272727272729, 'X[6] <= 2.09\\nentropy = 0.884\\nsamples = 20\\nvalue = [0, 0, 1, 0, 0, 0, 0, 3, 0, 16]'),\n",
              " Text(222.2621848739496, 69.18545454545455, 'X[63] <= 6.435\\nentropy = 0.337\\nsamples = 16\\nvalue = [0, 0, 1, 0, 0, 0, 0, 0, 0, 15]'),\n",
              " Text(219.44873949579835, 49.418181818181836, 'entropy = 0.0\\nsamples = 15\\nvalue = [0, 0, 0, 0, 0, 0, 0, 0, 0, 15]'),\n",
              " Text(225.07563025210086, 49.418181818181836, 'entropy = 0.0\\nsamples = 1\\nvalue = [0, 0, 1, 0, 0, 0, 0, 0, 0, 0]'),\n",
              " Text(233.51596638655465, 69.18545454545455, 'X[30] <= 0.286\\nentropy = 0.811\\nsamples = 4\\nvalue = [0, 0, 0, 0, 0, 0, 0, 3, 0, 1]'),\n",
              " Text(230.70252100840338, 49.418181818181836, 'entropy = 0.0\\nsamples = 1\\nvalue = [0, 0, 0, 0, 0, 0, 0, 0, 0, 1]'),\n",
              " Text(236.3294117647059, 49.418181818181836, 'entropy = 0.0\\nsamples = 3\\nvalue = [0, 0, 0, 0, 0, 0, 0, 3, 0, 0]'),\n",
              " Text(257.43025210084033, 108.72, 'X[29] <= 7.065\\nentropy = 1.437\\nsamples = 42\\nvalue = [0, 0, 0, 2, 0, 2, 0, 0, 16, 22]'),\n",
              " Text(250.3966386554622, 88.95272727272729, 'X[35] <= 5.725\\nentropy = 1.198\\nsamples = 13\\nvalue = [0, 0, 0, 2, 0, 2, 0, 0, 9, 0]'),\n",
              " Text(244.76974789915968, 69.18545454545455, 'X[18] <= 12.075\\nentropy = 0.918\\nsamples = 3\\nvalue = [0, 0, 0, 2, 0, 1, 0, 0, 0, 0]'),\n",
              " Text(241.9563025210084, 49.418181818181836, 'entropy = 0.0\\nsamples = 2\\nvalue = [0, 0, 0, 2, 0, 0, 0, 0, 0, 0]'),\n",
              " Text(247.58319327731095, 49.418181818181836, 'entropy = 0.0\\nsamples = 1\\nvalue = [0, 0, 0, 0, 0, 1, 0, 0, 0, 0]'),\n",
              " Text(256.02352941176474, 69.18545454545455, 'X[4] <= 3.696\\nentropy = 0.469\\nsamples = 10\\nvalue = [0, 0, 0, 0, 0, 1, 0, 0, 9, 0]'),\n",
              " Text(253.21008403361347, 49.418181818181836, 'entropy = 0.0\\nsamples = 1\\nvalue = [0, 0, 0, 0, 0, 1, 0, 0, 0, 0]'),\n",
              " Text(258.836974789916, 49.418181818181836, 'entropy = 0.0\\nsamples = 9\\nvalue = [0, 0, 0, 0, 0, 0, 0, 0, 9, 0]'),\n",
              " Text(264.4638655462185, 88.95272727272729, 'X[42] <= 6.048\\nentropy = 0.797\\nsamples = 29\\nvalue = [0, 0, 0, 0, 0, 0, 0, 0, 7, 22]'),\n",
              " Text(261.6504201680672, 69.18545454545455, 'entropy = 0.0\\nsamples = 22\\nvalue = [0, 0, 0, 0, 0, 0, 0, 0, 0, 22]'),\n",
              " Text(267.2773109243698, 69.18545454545455, 'entropy = 0.0\\nsamples = 7\\nvalue = [0, 0, 0, 0, 0, 0, 0, 0, 7, 0]'),\n",
              " Text(303.85210084033616, 128.48727272727274, 'X[10] <= 10.213\\nentropy = 2.254\\nsamples = 72\\nvalue = [0, 16, 1, 1, 14, 0, 0, 15, 23, 2]'),\n",
              " Text(288.37815126050424, 108.72, 'X[19] <= 5.967\\nentropy = 1.864\\nsamples = 34\\nvalue = [0, 12, 0, 1, 11, 0, 0, 9, 1, 0]'),\n",
              " Text(278.5310924369748, 88.95272727272729, 'X[26] <= 10.404\\nentropy = 1.14\\nsamples = 13\\nvalue = [0, 0, 0, 1, 3, 0, 0, 9, 0, 0]'),\n",
              " Text(272.9042016806723, 69.18545454545455, 'X[1] <= 0.691\\nentropy = 0.544\\nsamples = 8\\nvalue = [0, 0, 0, 1, 0, 0, 0, 7, 0, 0]'),\n",
              " Text(270.090756302521, 49.418181818181836, 'entropy = 0.0\\nsamples = 7\\nvalue = [0, 0, 0, 0, 0, 0, 0, 7, 0, 0]'),\n",
              " Text(275.71764705882356, 49.418181818181836, 'entropy = 0.0\\nsamples = 1\\nvalue = [0, 0, 0, 1, 0, 0, 0, 0, 0, 0]'),\n",
              " Text(284.15798319327735, 69.18545454545455, 'X[18] <= 1.538\\nentropy = 0.971\\nsamples = 5\\nvalue = [0, 0, 0, 0, 3, 0, 0, 2, 0, 0]'),\n",
              " Text(281.34453781512605, 49.418181818181836, 'entropy = 0.0\\nsamples = 2\\nvalue = [0, 0, 0, 0, 0, 0, 0, 2, 0, 0]'),\n",
              " Text(286.9714285714286, 49.418181818181836, 'entropy = 0.0\\nsamples = 3\\nvalue = [0, 0, 0, 0, 3, 0, 0, 0, 0, 0]'),\n",
              " Text(298.2252100840336, 88.95272727272729, 'X[33] <= 4.835\\nentropy = 1.201\\nsamples = 21\\nvalue = [0, 12, 0, 0, 8, 0, 0, 0, 1, 0]'),\n",
              " Text(295.4117647058824, 69.18545454545455, 'X[12] <= 13.343\\nentropy = 0.391\\nsamples = 13\\nvalue = [0, 12, 0, 0, 0, 0, 0, 0, 1, 0]'),\n",
              " Text(292.59831932773113, 49.418181818181836, 'entropy = 0.0\\nsamples = 1\\nvalue = [0, 0, 0, 0, 0, 0, 0, 0, 1, 0]'),\n",
              " Text(298.2252100840336, 49.418181818181836, 'entropy = 0.0\\nsamples = 12\\nvalue = [0, 12, 0, 0, 0, 0, 0, 0, 0, 0]'),\n",
              " Text(301.0386554621849, 69.18545454545455, 'entropy = 0.0\\nsamples = 8\\nvalue = [0, 0, 0, 0, 8, 0, 0, 0, 0, 0]'),\n",
              " Text(319.3260504201681, 108.72, 'X[60] <= 4.941\\nentropy = 1.87\\nsamples = 38\\nvalue = [0, 4, 1, 0, 3, 0, 0, 6, 22, 2]'),\n",
              " Text(312.29243697478995, 88.95272727272729, 'X[26] <= 10.865\\nentropy = 2.217\\nsamples = 14\\nvalue = [0, 1, 1, 0, 3, 0, 0, 6, 1, 2]'),\n",
              " Text(306.6655462184874, 69.18545454545455, 'X[36] <= 15.361\\nentropy = 0.592\\nsamples = 7\\nvalue = [0, 0, 1, 0, 0, 0, 0, 6, 0, 0]'),\n",
              " Text(303.85210084033616, 49.418181818181836, 'entropy = 0.0\\nsamples = 6\\nvalue = [0, 0, 0, 0, 0, 0, 0, 6, 0, 0]'),\n",
              " Text(309.4789915966387, 49.418181818181836, 'entropy = 0.0\\nsamples = 1\\nvalue = [0, 0, 1, 0, 0, 0, 0, 0, 0, 0]'),\n",
              " Text(317.91932773109244, 69.18545454545455, 'X[4] <= 9.82\\nentropy = 1.842\\nsamples = 7\\nvalue = [0, 1, 0, 0, 3, 0, 0, 0, 1, 2]'),\n",
              " Text(315.1058823529412, 49.418181818181836, 'entropy = 0.0\\nsamples = 3\\nvalue = [0, 0, 0, 0, 3, 0, 0, 0, 0, 0]'),\n",
              " Text(320.73277310924374, 49.418181818181836, 'X[50] <= 4.646\\nentropy = 1.5\\nsamples = 4\\nvalue = [0, 1, 0, 0, 0, 0, 0, 0, 1, 2]'),\n",
              " Text(317.91932773109244, 29.650909090909096, 'entropy = 0.0\\nsamples = 2\\nvalue = [0, 0, 0, 0, 0, 0, 0, 0, 0, 2]'),\n",
              " Text(323.546218487395, 29.650909090909096, 'X[26] <= 11.755\\nentropy = 1.0\\nsamples = 2\\nvalue = [0, 1, 0, 0, 0, 0, 0, 0, 1, 0]'),\n",
              " Text(320.73277310924374, 9.883636363636384, 'entropy = 0.0\\nsamples = 1\\nvalue = [0, 0, 0, 0, 0, 0, 0, 0, 1, 0]'),\n",
              " Text(326.3596638655462, 9.883636363636384, 'entropy = 0.0\\nsamples = 1\\nvalue = [0, 1, 0, 0, 0, 0, 0, 0, 0, 0]'),\n",
              " Text(326.3596638655462, 88.95272727272729, 'X[12] <= 12.422\\nentropy = 0.544\\nsamples = 24\\nvalue = [0, 3, 0, 0, 0, 0, 0, 0, 21, 0]'),\n",
              " Text(323.546218487395, 69.18545454545455, 'entropy = 0.0\\nsamples = 20\\nvalue = [0, 0, 0, 0, 0, 0, 0, 0, 20, 0]'),\n",
              " Text(329.1731092436975, 69.18545454545455, 'X[43] <= 14.26\\nentropy = 0.811\\nsamples = 4\\nvalue = [0, 3, 0, 0, 0, 0, 0, 0, 1, 0]'),\n",
              " Text(326.3596638655462, 49.418181818181836, 'entropy = 0.0\\nsamples = 1\\nvalue = [0, 0, 0, 0, 0, 0, 0, 0, 1, 0]'),\n",
              " Text(331.98655462184877, 49.418181818181836, 'entropy = 0.0\\nsamples = 3\\nvalue = [0, 3, 0, 0, 0, 0, 0, 0, 0, 0]')]"
            ]
          },
          "metadata": {},
          "execution_count": 132
        },
        {
          "output_type": "display_data",
          "data": {
            "image/png": "[encoded data removed]",
            "text/plain": [
              "<Figure size 432x288 with 1 Axes>"
            ]
          },
          "metadata": {
            "needs_background": "light"
          }
        }
      ]
    },
    {
      "cell_type": "markdown",
      "metadata": {
        "id": "pi890fs_7qZG"
      },
      "source": [
        "### ข้อ 4 ต้นไม้ที่เราคิดเอง"
      ]
    },
    {
      "cell_type": "code",
      "metadata": {
        "id": "m5D6CgP38dfl"
      },
      "source": [
        "from sklearn.tree import DecisionTreeClassifier"
      ],
      "execution_count": 139,
      "outputs": []
    },
    {
      "cell_type": "code",
      "metadata": {
        "id": "_hidEM6p8lSW"
      },
      "source": [
        "mytree_umaporn = DecisionTreeClassifier(criterion='entropy',splitter='random', min_samples_leaf=1, random_state=5)"
      ],
      "execution_count": 140,
      "outputs": []
    },
    {
      "cell_type": "code",
      "metadata": {
        "id": "wZExLOv88qMd",
        "colab": {
          "base_uri": "https://localhost:8080/"
        },
        "outputId": "98629841-a813-443e-e7c1-a57a19355049"
      },
      "source": [
        "mytree_umaporn.fit(X_train2,y_train2)"
      ],
      "execution_count": 141,
      "outputs": [
        {
          "output_type": "execute_result",
          "data": {
            "text/plain": [
              "DecisionTreeClassifier(ccp_alpha=0.0, class_weight=None, criterion='entropy',\n",
              "                       max_depth=None, max_features=None, max_leaf_nodes=None,\n",
              "                       min_impurity_decrease=0.0, min_impurity_split=None,\n",
              "                       min_samples_leaf=1, min_samples_split=2,\n",
              "                       min_weight_fraction_leaf=0.0, presort='deprecated',\n",
              "                       random_state=5, splitter='random')"
            ]
          },
          "metadata": {},
          "execution_count": 141
        }
      ]
    },
    {
      "cell_type": "code",
      "metadata": {
        "id": "yDWARBAYrnRq"
      },
      "source": [
        "from sklearn.metrics import accuracy_score"
      ],
      "execution_count": 142,
      "outputs": []
    },
    {
      "cell_type": "code",
      "metadata": {
        "id": "gRyLILWlrp82"
      },
      "source": [
        "mytree_umaporn_result = mytree_umaporn.predict(X_val)"
      ],
      "execution_count": 144,
      "outputs": []
    },
    {
      "cell_type": "code",
      "metadata": {
        "id": "QBreZMnNrvOZ",
        "outputId": "097ab2fa-b472-473b-f9c7-ed6a7f70f743",
        "colab": {
          "base_uri": "https://localhost:8080/"
        }
      },
      "source": [
        "accuracy_score(y_val, mytree_umaporn_result )"
      ],
      "execution_count": 145,
      "outputs": [
        {
          "output_type": "execute_result",
          "data": {
            "text/plain": [
              "0.8296296296296296"
            ]
          },
          "metadata": {},
          "execution_count": 145
        }
      ]
    },
    {
      "cell_type": "code",
      "metadata": {
        "id": "F0jvwr1Ur09u",
        "outputId": "575cb1f2-95bf-416c-e407-0fe94d91a384",
        "colab": {
          "base_uri": "https://localhost:8080/",
          "height": 248
        }
      },
      "source": [
        "plot_tree(mytree_umaporn);"
      ],
      "execution_count": 146,
      "outputs": [
        {
          "output_type": "display_data",
          "data": {
            "image/png": "[encoded data removed]",
            "text/plain": [
              "<Figure size 432x288 with 1 Axes>"
            ]
          },
          "metadata": {
            "needs_background": "light"
          }
        }
      ]
    },
    {
      "cell_type": "code",
      "metadata": {
        "id": "TZ31gMhNsIGZ"
      },
      "source": [
        ""
      ],
      "execution_count": null,
      "outputs": []
    }
  ]
}