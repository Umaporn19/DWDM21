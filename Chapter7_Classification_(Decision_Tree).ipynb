{
  "nbformat": 4,
  "nbformat_minor": 0,
  "metadata": {
    "colab": {
      "name": "Chapter7 Classification (Decision Tree).ipynb",
      "provenance": [],
      "authorship_tag": "ABX9TyNUyp/4CvJBCUZ2R9xCEnL6",
      "include_colab_link": true
    },
    "kernelspec": {
      "name": "python3",
      "display_name": "Python 3"
    },
    "language_info": {
      "name": "python"
    }
  },
  "cells": [
    {
      "cell_type": "markdown",
      "metadata": {
        "id": "view-in-github",
        "colab_type": "text"
      },
      "source": [
        "<a href=\"https://colab.research.google.com/github/Umaporn19/DWDM21/blob/main/Chapter7_Classification_(Decision_Tree).ipynb\" target=\"_parent\"><img src=\"https://colab.research.google.com/assets/colab-badge.svg\" alt=\"Open In Colab\"/></a>"
      ]
    },
    {
      "cell_type": "markdown",
      "metadata": {
        "id": "3ocpoGhr1t0n"
      },
      "source": [
        "# Load Data"
      ]
    },
    {
      "cell_type": "markdown",
      "metadata": {
        "id": "IGbk3gXZ1wt-"
      },
      "source": [
        "skcikit-learn คือ package ที่รวบรวมอัลกอริทึมที่เกี่ยวข้องกับ machine learning - data mining\n",
        "(Sklearn)"
      ]
    },
    {
      "cell_type": "code",
      "metadata": {
        "id": "C4iDQYE4zOYZ"
      },
      "source": [
        "from sklearn import datasets\n",
        "iris_data = datasets.load_iris()"
      ],
      "execution_count": 1,
      "outputs": []
    },
    {
      "cell_type": "code",
      "metadata": {
        "colab": {
          "base_uri": "https://localhost:8080/"
        },
        "id": "0p8Mz5LD1zI2",
        "outputId": "5f4516cc-b15e-4067-84d2-47ff24e2792d"
      },
      "source": [
        "iris_data"
      ],
      "execution_count": 2,
      "outputs": [
        {
          "output_type": "execute_result",
          "data": {
            "text/plain": [
              "{'DESCR': '.. _iris_dataset:\\n\\nIris plants dataset\\n--------------------\\n\\n**Data Set Characteristics:**\\n\\n    :Number of Instances: 150 (50 in each of three classes)\\n    :Number of Attributes: 4 numeric, predictive attributes and the class\\n    :Attribute Information:\\n        - sepal length in cm\\n        - sepal width in cm\\n        - petal length in cm\\n        - petal width in cm\\n        - class:\\n                - Iris-Setosa\\n                - Iris-Versicolour\\n                - Iris-Virginica\\n                \\n    :Summary Statistics:\\n\\n    ============== ==== ==== ======= ===== ====================\\n                    Min  Max   Mean    SD   Class Correlation\\n    ============== ==== ==== ======= ===== ====================\\n    sepal length:   4.3  7.9   5.84   0.83    0.7826\\n    sepal width:    2.0  4.4   3.05   0.43   -0.4194\\n    petal length:   1.0  6.9   3.76   1.76    0.9490  (high!)\\n    petal width:    0.1  2.5   1.20   0.76    0.9565  (high!)\\n    ============== ==== ==== ======= ===== ====================\\n\\n    :Missing Attribute Values: None\\n    :Class Distribution: 33.3% for each of 3 classes.\\n    :Creator: R.A. Fisher\\n    :Donor: Michael Marshall (MARSHALL%PLU@io.arc.nasa.gov)\\n    :Date: July, 1988\\n\\nThe famous Iris database, first used by Sir R.A. Fisher. The dataset is taken\\nfrom Fisher\\'s paper. Note that it\\'s the same as in R, but not as in the UCI\\nMachine Learning Repository, which has two wrong data points.\\n\\nThis is perhaps the best known database to be found in the\\npattern recognition literature.  Fisher\\'s paper is a classic in the field and\\nis referenced frequently to this day.  (See Duda & Hart, for example.)  The\\ndata set contains 3 classes of 50 instances each, where each class refers to a\\ntype of iris plant.  One class is linearly separable from the other 2; the\\nlatter are NOT linearly separable from each other.\\n\\n.. topic:: References\\n\\n   - Fisher, R.A. \"The use of multiple measurements in taxonomic problems\"\\n     Annual Eugenics, 7, Part II, 179-188 (1936); also in \"Contributions to\\n     Mathematical Statistics\" (John Wiley, NY, 1950).\\n   - Duda, R.O., & Hart, P.E. (1973) Pattern Classification and Scene Analysis.\\n     (Q327.D83) John Wiley & Sons.  ISBN 0-471-22361-1.  See page 218.\\n   - Dasarathy, B.V. (1980) \"Nosing Around the Neighborhood: A New System\\n     Structure and Classification Rule for Recognition in Partially Exposed\\n     Environments\".  IEEE Transactions on Pattern Analysis and Machine\\n     Intelligence, Vol. PAMI-2, No. 1, 67-71.\\n   - Gates, G.W. (1972) \"The Reduced Nearest Neighbor Rule\".  IEEE Transactions\\n     on Information Theory, May 1972, 431-433.\\n   - See also: 1988 MLC Proceedings, 54-64.  Cheeseman et al\"s AUTOCLASS II\\n     conceptual clustering system finds 3 classes in the data.\\n   - Many, many more ...',\n",
              " 'data': array([[5.1, 3.5, 1.4, 0.2],\n",
              "        [4.9, 3. , 1.4, 0.2],\n",
              "        [4.7, 3.2, 1.3, 0.2],\n",
              "        [4.6, 3.1, 1.5, 0.2],\n",
              "        [5. , 3.6, 1.4, 0.2],\n",
              "        [5.4, 3.9, 1.7, 0.4],\n",
              "        [4.6, 3.4, 1.4, 0.3],\n",
              "        [5. , 3.4, 1.5, 0.2],\n",
              "        [4.4, 2.9, 1.4, 0.2],\n",
              "        [4.9, 3.1, 1.5, 0.1],\n",
              "        [5.4, 3.7, 1.5, 0.2],\n",
              "        [4.8, 3.4, 1.6, 0.2],\n",
              "        [4.8, 3. , 1.4, 0.1],\n",
              "        [4.3, 3. , 1.1, 0.1],\n",
              "        [5.8, 4. , 1.2, 0.2],\n",
              "        [5.7, 4.4, 1.5, 0.4],\n",
              "        [5.4, 3.9, 1.3, 0.4],\n",
              "        [5.1, 3.5, 1.4, 0.3],\n",
              "        [5.7, 3.8, 1.7, 0.3],\n",
              "        [5.1, 3.8, 1.5, 0.3],\n",
              "        [5.4, 3.4, 1.7, 0.2],\n",
              "        [5.1, 3.7, 1.5, 0.4],\n",
              "        [4.6, 3.6, 1. , 0.2],\n",
              "        [5.1, 3.3, 1.7, 0.5],\n",
              "        [4.8, 3.4, 1.9, 0.2],\n",
              "        [5. , 3. , 1.6, 0.2],\n",
              "        [5. , 3.4, 1.6, 0.4],\n",
              "        [5.2, 3.5, 1.5, 0.2],\n",
              "        [5.2, 3.4, 1.4, 0.2],\n",
              "        [4.7, 3.2, 1.6, 0.2],\n",
              "        [4.8, 3.1, 1.6, 0.2],\n",
              "        [5.4, 3.4, 1.5, 0.4],\n",
              "        [5.2, 4.1, 1.5, 0.1],\n",
              "        [5.5, 4.2, 1.4, 0.2],\n",
              "        [4.9, 3.1, 1.5, 0.2],\n",
              "        [5. , 3.2, 1.2, 0.2],\n",
              "        [5.5, 3.5, 1.3, 0.2],\n",
              "        [4.9, 3.6, 1.4, 0.1],\n",
              "        [4.4, 3. , 1.3, 0.2],\n",
              "        [5.1, 3.4, 1.5, 0.2],\n",
              "        [5. , 3.5, 1.3, 0.3],\n",
              "        [4.5, 2.3, 1.3, 0.3],\n",
              "        [4.4, 3.2, 1.3, 0.2],\n",
              "        [5. , 3.5, 1.6, 0.6],\n",
              "        [5.1, 3.8, 1.9, 0.4],\n",
              "        [4.8, 3. , 1.4, 0.3],\n",
              "        [5.1, 3.8, 1.6, 0.2],\n",
              "        [4.6, 3.2, 1.4, 0.2],\n",
              "        [5.3, 3.7, 1.5, 0.2],\n",
              "        [5. , 3.3, 1.4, 0.2],\n",
              "        [7. , 3.2, 4.7, 1.4],\n",
              "        [6.4, 3.2, 4.5, 1.5],\n",
              "        [6.9, 3.1, 4.9, 1.5],\n",
              "        [5.5, 2.3, 4. , 1.3],\n",
              "        [6.5, 2.8, 4.6, 1.5],\n",
              "        [5.7, 2.8, 4.5, 1.3],\n",
              "        [6.3, 3.3, 4.7, 1.6],\n",
              "        [4.9, 2.4, 3.3, 1. ],\n",
              "        [6.6, 2.9, 4.6, 1.3],\n",
              "        [5.2, 2.7, 3.9, 1.4],\n",
              "        [5. , 2. , 3.5, 1. ],\n",
              "        [5.9, 3. , 4.2, 1.5],\n",
              "        [6. , 2.2, 4. , 1. ],\n",
              "        [6.1, 2.9, 4.7, 1.4],\n",
              "        [5.6, 2.9, 3.6, 1.3],\n",
              "        [6.7, 3.1, 4.4, 1.4],\n",
              "        [5.6, 3. , 4.5, 1.5],\n",
              "        [5.8, 2.7, 4.1, 1. ],\n",
              "        [6.2, 2.2, 4.5, 1.5],\n",
              "        [5.6, 2.5, 3.9, 1.1],\n",
              "        [5.9, 3.2, 4.8, 1.8],\n",
              "        [6.1, 2.8, 4. , 1.3],\n",
              "        [6.3, 2.5, 4.9, 1.5],\n",
              "        [6.1, 2.8, 4.7, 1.2],\n",
              "        [6.4, 2.9, 4.3, 1.3],\n",
              "        [6.6, 3. , 4.4, 1.4],\n",
              "        [6.8, 2.8, 4.8, 1.4],\n",
              "        [6.7, 3. , 5. , 1.7],\n",
              "        [6. , 2.9, 4.5, 1.5],\n",
              "        [5.7, 2.6, 3.5, 1. ],\n",
              "        [5.5, 2.4, 3.8, 1.1],\n",
              "        [5.5, 2.4, 3.7, 1. ],\n",
              "        [5.8, 2.7, 3.9, 1.2],\n",
              "        [6. , 2.7, 5.1, 1.6],\n",
              "        [5.4, 3. , 4.5, 1.5],\n",
              "        [6. , 3.4, 4.5, 1.6],\n",
              "        [6.7, 3.1, 4.7, 1.5],\n",
              "        [6.3, 2.3, 4.4, 1.3],\n",
              "        [5.6, 3. , 4.1, 1.3],\n",
              "        [5.5, 2.5, 4. , 1.3],\n",
              "        [5.5, 2.6, 4.4, 1.2],\n",
              "        [6.1, 3. , 4.6, 1.4],\n",
              "        [5.8, 2.6, 4. , 1.2],\n",
              "        [5. , 2.3, 3.3, 1. ],\n",
              "        [5.6, 2.7, 4.2, 1.3],\n",
              "        [5.7, 3. , 4.2, 1.2],\n",
              "        [5.7, 2.9, 4.2, 1.3],\n",
              "        [6.2, 2.9, 4.3, 1.3],\n",
              "        [5.1, 2.5, 3. , 1.1],\n",
              "        [5.7, 2.8, 4.1, 1.3],\n",
              "        [6.3, 3.3, 6. , 2.5],\n",
              "        [5.8, 2.7, 5.1, 1.9],\n",
              "        [7.1, 3. , 5.9, 2.1],\n",
              "        [6.3, 2.9, 5.6, 1.8],\n",
              "        [6.5, 3. , 5.8, 2.2],\n",
              "        [7.6, 3. , 6.6, 2.1],\n",
              "        [4.9, 2.5, 4.5, 1.7],\n",
              "        [7.3, 2.9, 6.3, 1.8],\n",
              "        [6.7, 2.5, 5.8, 1.8],\n",
              "        [7.2, 3.6, 6.1, 2.5],\n",
              "        [6.5, 3.2, 5.1, 2. ],\n",
              "        [6.4, 2.7, 5.3, 1.9],\n",
              "        [6.8, 3. , 5.5, 2.1],\n",
              "        [5.7, 2.5, 5. , 2. ],\n",
              "        [5.8, 2.8, 5.1, 2.4],\n",
              "        [6.4, 3.2, 5.3, 2.3],\n",
              "        [6.5, 3. , 5.5, 1.8],\n",
              "        [7.7, 3.8, 6.7, 2.2],\n",
              "        [7.7, 2.6, 6.9, 2.3],\n",
              "        [6. , 2.2, 5. , 1.5],\n",
              "        [6.9, 3.2, 5.7, 2.3],\n",
              "        [5.6, 2.8, 4.9, 2. ],\n",
              "        [7.7, 2.8, 6.7, 2. ],\n",
              "        [6.3, 2.7, 4.9, 1.8],\n",
              "        [6.7, 3.3, 5.7, 2.1],\n",
              "        [7.2, 3.2, 6. , 1.8],\n",
              "        [6.2, 2.8, 4.8, 1.8],\n",
              "        [6.1, 3. , 4.9, 1.8],\n",
              "        [6.4, 2.8, 5.6, 2.1],\n",
              "        [7.2, 3. , 5.8, 1.6],\n",
              "        [7.4, 2.8, 6.1, 1.9],\n",
              "        [7.9, 3.8, 6.4, 2. ],\n",
              "        [6.4, 2.8, 5.6, 2.2],\n",
              "        [6.3, 2.8, 5.1, 1.5],\n",
              "        [6.1, 2.6, 5.6, 1.4],\n",
              "        [7.7, 3. , 6.1, 2.3],\n",
              "        [6.3, 3.4, 5.6, 2.4],\n",
              "        [6.4, 3.1, 5.5, 1.8],\n",
              "        [6. , 3. , 4.8, 1.8],\n",
              "        [6.9, 3.1, 5.4, 2.1],\n",
              "        [6.7, 3.1, 5.6, 2.4],\n",
              "        [6.9, 3.1, 5.1, 2.3],\n",
              "        [5.8, 2.7, 5.1, 1.9],\n",
              "        [6.8, 3.2, 5.9, 2.3],\n",
              "        [6.7, 3.3, 5.7, 2.5],\n",
              "        [6.7, 3. , 5.2, 2.3],\n",
              "        [6.3, 2.5, 5. , 1.9],\n",
              "        [6.5, 3. , 5.2, 2. ],\n",
              "        [6.2, 3.4, 5.4, 2.3],\n",
              "        [5.9, 3. , 5.1, 1.8]]),\n",
              " 'feature_names': ['sepal length (cm)',\n",
              "  'sepal width (cm)',\n",
              "  'petal length (cm)',\n",
              "  'petal width (cm)'],\n",
              " 'filename': '/usr/local/lib/python3.7/dist-packages/sklearn/datasets/data/iris.csv',\n",
              " 'target': array([0, 0, 0, 0, 0, 0, 0, 0, 0, 0, 0, 0, 0, 0, 0, 0, 0, 0, 0, 0, 0, 0,\n",
              "        0, 0, 0, 0, 0, 0, 0, 0, 0, 0, 0, 0, 0, 0, 0, 0, 0, 0, 0, 0, 0, 0,\n",
              "        0, 0, 0, 0, 0, 0, 1, 1, 1, 1, 1, 1, 1, 1, 1, 1, 1, 1, 1, 1, 1, 1,\n",
              "        1, 1, 1, 1, 1, 1, 1, 1, 1, 1, 1, 1, 1, 1, 1, 1, 1, 1, 1, 1, 1, 1,\n",
              "        1, 1, 1, 1, 1, 1, 1, 1, 1, 1, 1, 1, 2, 2, 2, 2, 2, 2, 2, 2, 2, 2,\n",
              "        2, 2, 2, 2, 2, 2, 2, 2, 2, 2, 2, 2, 2, 2, 2, 2, 2, 2, 2, 2, 2, 2,\n",
              "        2, 2, 2, 2, 2, 2, 2, 2, 2, 2, 2, 2, 2, 2, 2, 2, 2, 2]),\n",
              " 'target_names': array(['setosa', 'versicolor', 'virginica'], dtype='<U10')}"
            ]
          },
          "metadata": {},
          "execution_count": 2
        }
      ]
    },
    {
      "cell_type": "code",
      "metadata": {
        "id": "sFUNLfdo1-G2"
      },
      "source": [
        "X = iris_data['data']\n",
        "Y = iris_data['target']"
      ],
      "execution_count": 3,
      "outputs": []
    },
    {
      "cell_type": "code",
      "metadata": {
        "colab": {
          "base_uri": "https://localhost:8080/"
        },
        "id": "d54CJaCH2Alu",
        "outputId": "e544164d-5704-463e-8f0f-bacd20eaa19f"
      },
      "source": [
        "X"
      ],
      "execution_count": 4,
      "outputs": [
        {
          "output_type": "execute_result",
          "data": {
            "text/plain": [
              "array([[5.1, 3.5, 1.4, 0.2],\n",
              "       [4.9, 3. , 1.4, 0.2],\n",
              "       [4.7, 3.2, 1.3, 0.2],\n",
              "       [4.6, 3.1, 1.5, 0.2],\n",
              "       [5. , 3.6, 1.4, 0.2],\n",
              "       [5.4, 3.9, 1.7, 0.4],\n",
              "       [4.6, 3.4, 1.4, 0.3],\n",
              "       [5. , 3.4, 1.5, 0.2],\n",
              "       [4.4, 2.9, 1.4, 0.2],\n",
              "       [4.9, 3.1, 1.5, 0.1],\n",
              "       [5.4, 3.7, 1.5, 0.2],\n",
              "       [4.8, 3.4, 1.6, 0.2],\n",
              "       [4.8, 3. , 1.4, 0.1],\n",
              "       [4.3, 3. , 1.1, 0.1],\n",
              "       [5.8, 4. , 1.2, 0.2],\n",
              "       [5.7, 4.4, 1.5, 0.4],\n",
              "       [5.4, 3.9, 1.3, 0.4],\n",
              "       [5.1, 3.5, 1.4, 0.3],\n",
              "       [5.7, 3.8, 1.7, 0.3],\n",
              "       [5.1, 3.8, 1.5, 0.3],\n",
              "       [5.4, 3.4, 1.7, 0.2],\n",
              "       [5.1, 3.7, 1.5, 0.4],\n",
              "       [4.6, 3.6, 1. , 0.2],\n",
              "       [5.1, 3.3, 1.7, 0.5],\n",
              "       [4.8, 3.4, 1.9, 0.2],\n",
              "       [5. , 3. , 1.6, 0.2],\n",
              "       [5. , 3.4, 1.6, 0.4],\n",
              "       [5.2, 3.5, 1.5, 0.2],\n",
              "       [5.2, 3.4, 1.4, 0.2],\n",
              "       [4.7, 3.2, 1.6, 0.2],\n",
              "       [4.8, 3.1, 1.6, 0.2],\n",
              "       [5.4, 3.4, 1.5, 0.4],\n",
              "       [5.2, 4.1, 1.5, 0.1],\n",
              "       [5.5, 4.2, 1.4, 0.2],\n",
              "       [4.9, 3.1, 1.5, 0.2],\n",
              "       [5. , 3.2, 1.2, 0.2],\n",
              "       [5.5, 3.5, 1.3, 0.2],\n",
              "       [4.9, 3.6, 1.4, 0.1],\n",
              "       [4.4, 3. , 1.3, 0.2],\n",
              "       [5.1, 3.4, 1.5, 0.2],\n",
              "       [5. , 3.5, 1.3, 0.3],\n",
              "       [4.5, 2.3, 1.3, 0.3],\n",
              "       [4.4, 3.2, 1.3, 0.2],\n",
              "       [5. , 3.5, 1.6, 0.6],\n",
              "       [5.1, 3.8, 1.9, 0.4],\n",
              "       [4.8, 3. , 1.4, 0.3],\n",
              "       [5.1, 3.8, 1.6, 0.2],\n",
              "       [4.6, 3.2, 1.4, 0.2],\n",
              "       [5.3, 3.7, 1.5, 0.2],\n",
              "       [5. , 3.3, 1.4, 0.2],\n",
              "       [7. , 3.2, 4.7, 1.4],\n",
              "       [6.4, 3.2, 4.5, 1.5],\n",
              "       [6.9, 3.1, 4.9, 1.5],\n",
              "       [5.5, 2.3, 4. , 1.3],\n",
              "       [6.5, 2.8, 4.6, 1.5],\n",
              "       [5.7, 2.8, 4.5, 1.3],\n",
              "       [6.3, 3.3, 4.7, 1.6],\n",
              "       [4.9, 2.4, 3.3, 1. ],\n",
              "       [6.6, 2.9, 4.6, 1.3],\n",
              "       [5.2, 2.7, 3.9, 1.4],\n",
              "       [5. , 2. , 3.5, 1. ],\n",
              "       [5.9, 3. , 4.2, 1.5],\n",
              "       [6. , 2.2, 4. , 1. ],\n",
              "       [6.1, 2.9, 4.7, 1.4],\n",
              "       [5.6, 2.9, 3.6, 1.3],\n",
              "       [6.7, 3.1, 4.4, 1.4],\n",
              "       [5.6, 3. , 4.5, 1.5],\n",
              "       [5.8, 2.7, 4.1, 1. ],\n",
              "       [6.2, 2.2, 4.5, 1.5],\n",
              "       [5.6, 2.5, 3.9, 1.1],\n",
              "       [5.9, 3.2, 4.8, 1.8],\n",
              "       [6.1, 2.8, 4. , 1.3],\n",
              "       [6.3, 2.5, 4.9, 1.5],\n",
              "       [6.1, 2.8, 4.7, 1.2],\n",
              "       [6.4, 2.9, 4.3, 1.3],\n",
              "       [6.6, 3. , 4.4, 1.4],\n",
              "       [6.8, 2.8, 4.8, 1.4],\n",
              "       [6.7, 3. , 5. , 1.7],\n",
              "       [6. , 2.9, 4.5, 1.5],\n",
              "       [5.7, 2.6, 3.5, 1. ],\n",
              "       [5.5, 2.4, 3.8, 1.1],\n",
              "       [5.5, 2.4, 3.7, 1. ],\n",
              "       [5.8, 2.7, 3.9, 1.2],\n",
              "       [6. , 2.7, 5.1, 1.6],\n",
              "       [5.4, 3. , 4.5, 1.5],\n",
              "       [6. , 3.4, 4.5, 1.6],\n",
              "       [6.7, 3.1, 4.7, 1.5],\n",
              "       [6.3, 2.3, 4.4, 1.3],\n",
              "       [5.6, 3. , 4.1, 1.3],\n",
              "       [5.5, 2.5, 4. , 1.3],\n",
              "       [5.5, 2.6, 4.4, 1.2],\n",
              "       [6.1, 3. , 4.6, 1.4],\n",
              "       [5.8, 2.6, 4. , 1.2],\n",
              "       [5. , 2.3, 3.3, 1. ],\n",
              "       [5.6, 2.7, 4.2, 1.3],\n",
              "       [5.7, 3. , 4.2, 1.2],\n",
              "       [5.7, 2.9, 4.2, 1.3],\n",
              "       [6.2, 2.9, 4.3, 1.3],\n",
              "       [5.1, 2.5, 3. , 1.1],\n",
              "       [5.7, 2.8, 4.1, 1.3],\n",
              "       [6.3, 3.3, 6. , 2.5],\n",
              "       [5.8, 2.7, 5.1, 1.9],\n",
              "       [7.1, 3. , 5.9, 2.1],\n",
              "       [6.3, 2.9, 5.6, 1.8],\n",
              "       [6.5, 3. , 5.8, 2.2],\n",
              "       [7.6, 3. , 6.6, 2.1],\n",
              "       [4.9, 2.5, 4.5, 1.7],\n",
              "       [7.3, 2.9, 6.3, 1.8],\n",
              "       [6.7, 2.5, 5.8, 1.8],\n",
              "       [7.2, 3.6, 6.1, 2.5],\n",
              "       [6.5, 3.2, 5.1, 2. ],\n",
              "       [6.4, 2.7, 5.3, 1.9],\n",
              "       [6.8, 3. , 5.5, 2.1],\n",
              "       [5.7, 2.5, 5. , 2. ],\n",
              "       [5.8, 2.8, 5.1, 2.4],\n",
              "       [6.4, 3.2, 5.3, 2.3],\n",
              "       [6.5, 3. , 5.5, 1.8],\n",
              "       [7.7, 3.8, 6.7, 2.2],\n",
              "       [7.7, 2.6, 6.9, 2.3],\n",
              "       [6. , 2.2, 5. , 1.5],\n",
              "       [6.9, 3.2, 5.7, 2.3],\n",
              "       [5.6, 2.8, 4.9, 2. ],\n",
              "       [7.7, 2.8, 6.7, 2. ],\n",
              "       [6.3, 2.7, 4.9, 1.8],\n",
              "       [6.7, 3.3, 5.7, 2.1],\n",
              "       [7.2, 3.2, 6. , 1.8],\n",
              "       [6.2, 2.8, 4.8, 1.8],\n",
              "       [6.1, 3. , 4.9, 1.8],\n",
              "       [6.4, 2.8, 5.6, 2.1],\n",
              "       [7.2, 3. , 5.8, 1.6],\n",
              "       [7.4, 2.8, 6.1, 1.9],\n",
              "       [7.9, 3.8, 6.4, 2. ],\n",
              "       [6.4, 2.8, 5.6, 2.2],\n",
              "       [6.3, 2.8, 5.1, 1.5],\n",
              "       [6.1, 2.6, 5.6, 1.4],\n",
              "       [7.7, 3. , 6.1, 2.3],\n",
              "       [6.3, 3.4, 5.6, 2.4],\n",
              "       [6.4, 3.1, 5.5, 1.8],\n",
              "       [6. , 3. , 4.8, 1.8],\n",
              "       [6.9, 3.1, 5.4, 2.1],\n",
              "       [6.7, 3.1, 5.6, 2.4],\n",
              "       [6.9, 3.1, 5.1, 2.3],\n",
              "       [5.8, 2.7, 5.1, 1.9],\n",
              "       [6.8, 3.2, 5.9, 2.3],\n",
              "       [6.7, 3.3, 5.7, 2.5],\n",
              "       [6.7, 3. , 5.2, 2.3],\n",
              "       [6.3, 2.5, 5. , 1.9],\n",
              "       [6.5, 3. , 5.2, 2. ],\n",
              "       [6.2, 3.4, 5.4, 2.3],\n",
              "       [5.9, 3. , 5.1, 1.8]])"
            ]
          },
          "metadata": {},
          "execution_count": 4
        }
      ]
    },
    {
      "cell_type": "code",
      "metadata": {
        "colab": {
          "base_uri": "https://localhost:8080/"
        },
        "id": "72jkE_j-2B4G",
        "outputId": "4a036e78-632f-4adc-ee3e-d3e4b1ff6c0c"
      },
      "source": [
        "Y"
      ],
      "execution_count": 5,
      "outputs": [
        {
          "output_type": "execute_result",
          "data": {
            "text/plain": [
              "array([0, 0, 0, 0, 0, 0, 0, 0, 0, 0, 0, 0, 0, 0, 0, 0, 0, 0, 0, 0, 0, 0,\n",
              "       0, 0, 0, 0, 0, 0, 0, 0, 0, 0, 0, 0, 0, 0, 0, 0, 0, 0, 0, 0, 0, 0,\n",
              "       0, 0, 0, 0, 0, 0, 1, 1, 1, 1, 1, 1, 1, 1, 1, 1, 1, 1, 1, 1, 1, 1,\n",
              "       1, 1, 1, 1, 1, 1, 1, 1, 1, 1, 1, 1, 1, 1, 1, 1, 1, 1, 1, 1, 1, 1,\n",
              "       1, 1, 1, 1, 1, 1, 1, 1, 1, 1, 1, 1, 2, 2, 2, 2, 2, 2, 2, 2, 2, 2,\n",
              "       2, 2, 2, 2, 2, 2, 2, 2, 2, 2, 2, 2, 2, 2, 2, 2, 2, 2, 2, 2, 2, 2,\n",
              "       2, 2, 2, 2, 2, 2, 2, 2, 2, 2, 2, 2, 2, 2, 2, 2, 2, 2])"
            ]
          },
          "metadata": {},
          "execution_count": 5
        }
      ]
    },
    {
      "cell_type": "markdown",
      "metadata": {
        "id": "RYBHgVZf2GLW"
      },
      "source": [
        "# Train Model"
      ]
    },
    {
      "cell_type": "markdown",
      "metadata": {
        "id": "CHROt4Vz2Ijg"
      },
      "source": [
        "## import (เรียกใช้ algorithm ที่เราต้องการ)"
      ]
    },
    {
      "cell_type": "code",
      "metadata": {
        "id": "MH-2Vhvo2Equ"
      },
      "source": [
        "from sklearn.tree import DecisionTreeClassifier "
      ],
      "execution_count": 6,
      "outputs": []
    },
    {
      "cell_type": "markdown",
      "metadata": {
        "id": "vl4fhKYp2MS-"
      },
      "source": [
        "## Define (กำหนด parameters ให้กับ model)"
      ]
    },
    {
      "cell_type": "code",
      "metadata": {
        "id": "a90xKoeM2Ku_"
      },
      "source": [
        "mytree = DecisionTreeClassifier(max_depth=2) # กำหนดชั้นของ decision tree"
      ],
      "execution_count": 7,
      "outputs": []
    },
    {
      "cell_type": "markdown",
      "metadata": {
        "id": "E95xQ0gx2RV-"
      },
      "source": [
        "## train (ฝึกสอนตัวแบบ)"
      ]
    },
    {
      "cell_type": "code",
      "metadata": {
        "colab": {
          "base_uri": "https://localhost:8080/"
        },
        "id": "kaXV0yfu2OVe",
        "outputId": "3377f67f-95d7-442b-af25-44da34768305"
      },
      "source": [
        "mytree.fit(X,Y) # สร้าง model ขึ้นมา"
      ],
      "execution_count": 8,
      "outputs": [
        {
          "output_type": "execute_result",
          "data": {
            "text/plain": [
              "DecisionTreeClassifier(ccp_alpha=0.0, class_weight=None, criterion='gini',\n",
              "                       max_depth=2, max_features=None, max_leaf_nodes=None,\n",
              "                       min_impurity_decrease=0.0, min_impurity_split=None,\n",
              "                       min_samples_leaf=1, min_samples_split=2,\n",
              "                       min_weight_fraction_leaf=0.0, presort='deprecated',\n",
              "                       random_state=None, splitter='best')"
            ]
          },
          "metadata": {},
          "execution_count": 8
        }
      ]
    },
    {
      "cell_type": "markdown",
      "metadata": {
        "id": "SUfC80v42VGG"
      },
      "source": [
        "# plot tree"
      ]
    },
    {
      "cell_type": "code",
      "metadata": {
        "id": "Z1f1qKiE2TeW"
      },
      "source": [
        "from sklearn.tree import plot_tree"
      ],
      "execution_count": 9,
      "outputs": []
    },
    {
      "cell_type": "code",
      "metadata": {
        "colab": {
          "base_uri": "https://localhost:8080/",
          "height": 248
        },
        "id": "m0edekIn2Xc1",
        "outputId": "a5743562-ba2d-41fa-f6a3-44d7a931330d"
      },
      "source": [
        "plot_tree(mytree);"
      ],
      "execution_count": 10,
      "outputs": [
        {
          "output_type": "display_data",
          "data": {
            "image/png": "[encoded data removed]",
            "text/plain": [
              "<Figure size 432x288 with 1 Axes>"
            ]
          },
          "metadata": {
            "needs_background": "light"
          }
        }
      ]
    },
    {
      "cell_type": "markdown",
      "metadata": {
        "id": "CNxlGLyJ2dee"
      },
      "source": [
        "- root node คือ x[2] < 2.45 หรือเปล่า\n",
        "\n",
        "- information grain = 0.667 \n",
        "\n",
        "- มี data ที่เข้ามา 150 ตัว\n",
        "\n",
        "- เเบ่งเป็น 3 class คือ 50 , 50 ,  50\n"
      ]
    },
    {
      "cell_type": "markdown",
      "metadata": {
        "id": "xYBNW8en2i0W"
      },
      "source": [
        "# Evaluation"
      ]
    },
    {
      "cell_type": "code",
      "metadata": {
        "colab": {
          "base_uri": "https://localhost:8080/"
        },
        "id": "z7PnAYAO2Yyd",
        "outputId": "69e7b27a-19b8-4283-fe2e-913c5d685660"
      },
      "source": [
        "mytree.predict([[6.3, 2.5, 5. , 1.9]]) # ดูที่  X2 คือ 5. "
      ],
      "execution_count": 11,
      "outputs": [
        {
          "output_type": "execute_result",
          "data": {
            "text/plain": [
              "array([2])"
            ]
          },
          "metadata": {},
          "execution_count": 11
        }
      ]
    },
    {
      "cell_type": "markdown",
      "metadata": {
        "id": "pedE6qGlUpFT"
      },
      "source": [
        "### Random"
      ]
    },
    {
      "cell_type": "code",
      "metadata": {
        "id": "cP_t4MF72kxm"
      },
      "source": [
        "import numpy as np"
      ],
      "execution_count": 12,
      "outputs": []
    },
    {
      "cell_type": "code",
      "metadata": {
        "id": "K4xM5O9yUrtk"
      },
      "source": [
        "np.random.seed(6)"
      ],
      "execution_count": 13,
      "outputs": []
    },
    {
      "cell_type": "code",
      "metadata": {
        "id": "V0BvyRufUtB7",
        "colab": {
          "base_uri": "https://localhost:8080/",
          "height": 35
        },
        "outputId": "22c9dd84-4007-4c22-ca9f-daf90cbe6c4f"
      },
      "source": [
        "np.random.choice(['a','b','c','d'])"
      ],
      "execution_count": 14,
      "outputs": [
        {
          "output_type": "execute_result",
          "data": {
            "application/vnd.google.colaboratory.intrinsic+json": {
              "type": "string"
            },
            "text/plain": [
              "'c'"
            ]
          },
          "metadata": {},
          "execution_count": 14
        }
      ]
    },
    {
      "cell_type": "markdown",
      "metadata": {
        "id": "YZslY2XHUv60"
      },
      "source": [
        "# Advanced Tree"
      ]
    },
    {
      "cell_type": "markdown",
      "metadata": {
        "id": "oAHsyZ0CUyYj"
      },
      "source": [
        "### Import"
      ]
    },
    {
      "cell_type": "code",
      "metadata": {
        "id": "4S4LgDJbUuTj"
      },
      "source": [
        "from sklearn.tree import DecisionTreeClassifier"
      ],
      "execution_count": 15,
      "outputs": []
    },
    {
      "cell_type": "markdown",
      "metadata": {
        "id": "347WlJQRU19z"
      },
      "source": [
        "### Define"
      ]
    },
    {
      "cell_type": "markdown",
      "metadata": {
        "id": "LaHTn75IU4vb"
      },
      "source": [
        "- ต้นไม้ที่มีใบ 5 ใบ  และใช้ entropy  เป็นเกณฑ์"
      ]
    },
    {
      "cell_type": "code",
      "metadata": {
        "id": "vMAaFX1rU0Ob"
      },
      "source": [
        "mytree = DecisionTreeClassifier(max_leaf_nodes=5,criterion='entropy')"
      ],
      "execution_count": 16,
      "outputs": []
    },
    {
      "cell_type": "markdown",
      "metadata": {
        "id": "m7VO_NTNU8uL"
      },
      "source": [
        "### Train"
      ]
    },
    {
      "cell_type": "code",
      "metadata": {
        "id": "JzXIaUToU6vb",
        "colab": {
          "base_uri": "https://localhost:8080/"
        },
        "outputId": "8895d587-7a91-4759-febe-d01cba47e6ae"
      },
      "source": [
        "mytree.fit(X,Y)"
      ],
      "execution_count": 17,
      "outputs": [
        {
          "output_type": "execute_result",
          "data": {
            "text/plain": [
              "DecisionTreeClassifier(ccp_alpha=0.0, class_weight=None, criterion='entropy',\n",
              "                       max_depth=None, max_features=None, max_leaf_nodes=5,\n",
              "                       min_impurity_decrease=0.0, min_impurity_split=None,\n",
              "                       min_samples_leaf=1, min_samples_split=2,\n",
              "                       min_weight_fraction_leaf=0.0, presort='deprecated',\n",
              "                       random_state=None, splitter='best')"
            ]
          },
          "metadata": {},
          "execution_count": 17
        }
      ]
    },
    {
      "cell_type": "code",
      "metadata": {
        "id": "brlNHAFAU-ss",
        "colab": {
          "base_uri": "https://localhost:8080/",
          "height": 399
        },
        "outputId": "429286e5-6e73-43e4-82f2-54b2af31c459"
      },
      "source": [
        "plot_tree(mytree)"
      ],
      "execution_count": 18,
      "outputs": [
        {
          "output_type": "execute_result",
          "data": {
            "text/plain": [
              "[Text(167.4, 195.696, 'X[3] <= 0.8\\nentropy = 1.585\\nsamples = 150\\nvalue = [50, 50, 50]'),\n",
              " Text(111.60000000000001, 152.208, 'entropy = 0.0\\nsamples = 50\\nvalue = [50, 0, 0]'),\n",
              " Text(223.20000000000002, 152.208, 'X[3] <= 1.75\\nentropy = 1.0\\nsamples = 100\\nvalue = [0, 50, 50]'),\n",
              " Text(167.4, 108.72, 'X[2] <= 4.95\\nentropy = 0.445\\nsamples = 54\\nvalue = [0, 49, 5]'),\n",
              " Text(111.60000000000001, 65.232, 'X[3] <= 1.65\\nentropy = 0.146\\nsamples = 48\\nvalue = [0, 47, 1]'),\n",
              " Text(55.800000000000004, 21.744, 'entropy = 0.0\\nsamples = 47\\nvalue = [0, 47, 0]'),\n",
              " Text(167.4, 21.744, 'entropy = 0.0\\nsamples = 1\\nvalue = [0, 0, 1]'),\n",
              " Text(223.20000000000002, 65.232, 'entropy = 0.918\\nsamples = 6\\nvalue = [0, 2, 4]'),\n",
              " Text(279.0, 108.72, 'entropy = 0.151\\nsamples = 46\\nvalue = [0, 1, 45]')]"
            ]
          },
          "metadata": {},
          "execution_count": 18
        },
        {
          "output_type": "display_data",
          "data": {
            "image/png": "[encoded data removed]",
            "text/plain": [
              "<Figure size 432x288 with 1 Axes>"
            ]
          },
          "metadata": {
            "needs_background": "light"
          }
        }
      ]
    },
    {
      "cell_type": "markdown",
      "metadata": {
        "id": "D0bvRWASVB3r"
      },
      "source": [
        "# TEST"
      ]
    },
    {
      "cell_type": "code",
      "metadata": {
        "id": "U0SLe7v8VAF1"
      },
      "source": [
        "from sklearn import datasets\n",
        "\n",
        "digit_data = datasets.load_digits()"
      ],
      "execution_count": 19,
      "outputs": []
    },
    {
      "cell_type": "code",
      "metadata": {
        "id": "XQAT9bhQVDtM",
        "colab": {
          "base_uri": "https://localhost:8080/"
        },
        "outputId": "55ea0b9e-7084-459e-a9fc-3d8240d92b72"
      },
      "source": [
        "X = digit_data['data']\n",
        "X.shape"
      ],
      "execution_count": 20,
      "outputs": [
        {
          "output_type": "execute_result",
          "data": {
            "text/plain": [
              "(1797, 64)"
            ]
          },
          "metadata": {},
          "execution_count": 20
        }
      ]
    },
    {
      "cell_type": "code",
      "metadata": {
        "id": "5svIKGYSVFBD",
        "colab": {
          "base_uri": "https://localhost:8080/"
        },
        "outputId": "24336944-df13-4d21-cc4c-12c6589385a8"
      },
      "source": [
        "X[0,:]"
      ],
      "execution_count": 21,
      "outputs": [
        {
          "output_type": "execute_result",
          "data": {
            "text/plain": [
              "array([ 0.,  0.,  5., 13.,  9.,  1.,  0.,  0.,  0.,  0., 13., 15., 10.,\n",
              "       15.,  5.,  0.,  0.,  3., 15.,  2.,  0., 11.,  8.,  0.,  0.,  4.,\n",
              "       12.,  0.,  0.,  8.,  8.,  0.,  0.,  5.,  8.,  0.,  0.,  9.,  8.,\n",
              "        0.,  0.,  4., 11.,  0.,  1., 12.,  7.,  0.,  0.,  2., 14.,  5.,\n",
              "       10., 12.,  0.,  0.,  0.,  0.,  6., 13., 10.,  0.,  0.,  0.])"
            ]
          },
          "metadata": {},
          "execution_count": 21
        }
      ]
    },
    {
      "cell_type": "code",
      "metadata": {
        "id": "OEeXt1w_VGX0"
      },
      "source": [
        "from matplotlib import pyplot as plt"
      ],
      "execution_count": 22,
      "outputs": []
    },
    {
      "cell_type": "code",
      "metadata": {
        "id": "zhYsW7HRVH90",
        "colab": {
          "base_uri": "https://localhost:8080/",
          "height": 282
        },
        "outputId": "8a6fc65d-2d91-4fac-f67e-fbd86864d17f"
      },
      "source": [
        "plt.imshow(np.reshape(X[0,:],(8,8)))"
      ],
      "execution_count": 23,
      "outputs": [
        {
          "output_type": "execute_result",
          "data": {
            "text/plain": [
              "<matplotlib.image.AxesImage at 0x7f6c8c84cbd0>"
            ]
          },
          "metadata": {},
          "execution_count": 23
        },
        {
          "output_type": "display_data",
          "data": {
            "image/png": "[encoded data removed]",
            "text/plain": [
              "<Figure size 432x288 with 1 Axes>"
            ]
          },
          "metadata": {
            "needs_background": "light"
          }
        }
      ]
    },
    {
      "cell_type": "code",
      "metadata": {
        "id": "2HsN4LIQVJlk",
        "colab": {
          "base_uri": "https://localhost:8080/",
          "height": 282
        },
        "outputId": "26a1e9a5-45e8-4ab6-aba7-ebef7c692f04"
      },
      "source": [
        "plt.imshow(np.reshape(X[1,:],(8,8)))"
      ],
      "execution_count": 24,
      "outputs": [
        {
          "output_type": "execute_result",
          "data": {
            "text/plain": [
              "<matplotlib.image.AxesImage at 0x7f6c8cacc890>"
            ]
          },
          "metadata": {},
          "execution_count": 24
        },
        {
          "output_type": "display_data",
          "data": {
            "image/png": "[encoded data removed]",
            "text/plain": [
              "<Figure size 432x288 with 1 Axes>"
            ]
          },
          "metadata": {
            "needs_background": "light"
          }
        }
      ]
    },
    {
      "cell_type": "code",
      "metadata": {
        "id": "e-v5O_cwVLB9"
      },
      "source": [
        "y = digit_data['target']"
      ],
      "execution_count": 25,
      "outputs": []
    },
    {
      "cell_type": "code",
      "metadata": {
        "id": "s0wiyNsGVMfL",
        "colab": {
          "base_uri": "https://localhost:8080/"
        },
        "outputId": "7d9fe17c-f68b-44ad-f926-d4a1e2374dfc"
      },
      "source": [
        "y"
      ],
      "execution_count": 26,
      "outputs": [
        {
          "output_type": "execute_result",
          "data": {
            "text/plain": [
              "array([0, 1, 2, ..., 8, 9, 8])"
            ]
          },
          "metadata": {},
          "execution_count": 26
        }
      ]
    },
    {
      "cell_type": "markdown",
      "metadata": {
        "id": "vvJ-hy2LVPjr"
      },
      "source": [
        "# Start here"
      ]
    },
    {
      "cell_type": "code",
      "metadata": {
        "id": "9xjRgL8PVN-L"
      },
      "source": [
        "from sklearn.model_selection import train_test_split"
      ],
      "execution_count": 27,
      "outputs": []
    },
    {
      "cell_type": "code",
      "metadata": {
        "id": "nRDzNwYmVRZt"
      },
      "source": [
        ""
      ],
      "execution_count": 27,
      "outputs": []
    },
    {
      "cell_type": "markdown",
      "metadata": {
        "id": "la9OnXiOVS_j"
      },
      "source": [
        "#### Train - Test"
      ]
    },
    {
      "cell_type": "code",
      "metadata": {
        "id": "NcdghlnkVVZ8"
      },
      "source": [
        "X_train, X_test, y_train, y_test = train_test_split(X, y, test_size=0.5, random_state=6)"
      ],
      "execution_count": 28,
      "outputs": []
    },
    {
      "cell_type": "code",
      "metadata": {
        "id": "0cesSdw9VWqb",
        "colab": {
          "base_uri": "https://localhost:8080/"
        },
        "outputId": "353303ea-4216-41cf-9c1b-671c894ee6a3"
      },
      "source": [
        "X_train.shape"
      ],
      "execution_count": 29,
      "outputs": [
        {
          "output_type": "execute_result",
          "data": {
            "text/plain": [
              "(898, 64)"
            ]
          },
          "metadata": {},
          "execution_count": 29
        }
      ]
    },
    {
      "cell_type": "markdown",
      "metadata": {
        "id": "4anxh05EVZbI"
      },
      "source": [
        "#### Train - Validation"
      ]
    },
    {
      "cell_type": "code",
      "metadata": {
        "id": "qA5UjCBVVX2T"
      },
      "source": [
        "X_train2, X_val, y_train2, y_val = train_test_split(X_train, y_train, test_size=0.3, random_state=6)"
      ],
      "execution_count": 30,
      "outputs": []
    },
    {
      "cell_type": "code",
      "metadata": {
        "id": "C-s0QsaAVcmr",
        "colab": {
          "base_uri": "https://localhost:8080/"
        },
        "outputId": "dbc01975-e630-4fec-b9fd-14712284f8de"
      },
      "source": [
        "X_train2.shape"
      ],
      "execution_count": 31,
      "outputs": [
        {
          "output_type": "execute_result",
          "data": {
            "text/plain": [
              "(628, 64)"
            ]
          },
          "metadata": {},
          "execution_count": 31
        }
      ]
    },
    {
      "cell_type": "markdown",
      "metadata": {
        "id": "nWE3C4NuVfjw"
      },
      "source": [
        "#### Import"
      ]
    },
    {
      "cell_type": "code",
      "metadata": {
        "id": "FBG_DR2eVd3j"
      },
      "source": [
        "from sklearn.tree import DecisionTreeClassifier"
      ],
      "execution_count": 32,
      "outputs": []
    },
    {
      "cell_type": "markdown",
      "metadata": {
        "id": "La2P-MZRVkIP"
      },
      "source": [
        "#### Define"
      ]
    },
    {
      "cell_type": "code",
      "metadata": {
        "id": "DvRXKnw8Vh9d"
      },
      "source": [
        "mytree1 = DecisionTreeClassifier()"
      ],
      "execution_count": 33,
      "outputs": []
    },
    {
      "cell_type": "markdown",
      "metadata": {
        "id": "toJPijf4Vocz"
      },
      "source": [
        "#### Train"
      ]
    },
    {
      "cell_type": "code",
      "metadata": {
        "id": "relNOA6VVmGb",
        "colab": {
          "base_uri": "https://localhost:8080/"
        },
        "outputId": "18daac6e-4ca5-43cd-b23f-cb5090da7a03"
      },
      "source": [
        "mytree1.fit(X_train2,y_train2)"
      ],
      "execution_count": 34,
      "outputs": [
        {
          "output_type": "execute_result",
          "data": {
            "text/plain": [
              "DecisionTreeClassifier(ccp_alpha=0.0, class_weight=None, criterion='gini',\n",
              "                       max_depth=None, max_features=None, max_leaf_nodes=None,\n",
              "                       min_impurity_decrease=0.0, min_impurity_split=None,\n",
              "                       min_samples_leaf=1, min_samples_split=2,\n",
              "                       min_weight_fraction_leaf=0.0, presort='deprecated',\n",
              "                       random_state=None, splitter='best')"
            ]
          },
          "metadata": {},
          "execution_count": 34
        }
      ]
    },
    {
      "cell_type": "markdown",
      "metadata": {
        "id": "WG_xPDMaVrnz"
      },
      "source": [
        "# การบ้านครั้งที่ 16\n",
        "\n",
        "1. ต้นไม้ที่ใช้เกณฑ์ Entropy มีความสูงไม่เกิน 4 ชั้น\n",
        "2. ต้นไม้ที่ใช้เกณฑ์ Gini มีใบไม่เกิน 25 ใบ\n",
        "3. ต้นไม้ที่ใช้เกณฑ์ Entropy และใช้การ split แบบ random\n",
        "4. ต้นไม้ที่เราคิดเอง"
      ]
    },
    {
      "cell_type": "markdown",
      "metadata": {
        "id": "qQOlQ9X86-ai"
      },
      "source": [
        "### ข้อ  1. ต้นไม้ที่ใช้เกณฑ์ Entropy มีความสูงไม่เกิน 4 ชั้น"
      ]
    },
    {
      "cell_type": "markdown",
      "metadata": {
        "id": "RkI6YOW_5jap"
      },
      "source": [
        "#### Import"
      ]
    },
    {
      "cell_type": "code",
      "metadata": {
        "id": "6Pd5rg6CVqEj"
      },
      "source": [
        "from sklearn.tree import DecisionTreeClassifier"
      ],
      "execution_count": 43,
      "outputs": []
    },
    {
      "cell_type": "markdown",
      "metadata": {
        "id": "EgDo2yw-5nbh"
      },
      "source": [
        "#### Difine "
      ]
    },
    {
      "cell_type": "code",
      "metadata": {
        "id": "mFbZ4F375f2O"
      },
      "source": [
        "mytree1 = DecisionTreeClassifier(max_leaf_nodes=4,criterion='entropy')  "
      ],
      "execution_count": 44,
      "outputs": []
    },
    {
      "cell_type": "markdown",
      "metadata": {
        "id": "4CgrY1sS55B-"
      },
      "source": [
        "#### Train"
      ]
    },
    {
      "cell_type": "code",
      "metadata": {
        "id": "YxZ2SD0S51Tu",
        "outputId": "b8c1877d-a9cc-46a7-d67c-6d68bea44a5e",
        "colab": {
          "base_uri": "https://localhost:8080/"
        }
      },
      "source": [
        "mytree1.fit(X_train2,y_train2)"
      ],
      "execution_count": 45,
      "outputs": [
        {
          "output_type": "execute_result",
          "data": {
            "text/plain": [
              "DecisionTreeClassifier(ccp_alpha=0.0, class_weight=None, criterion='entropy',\n",
              "                       max_depth=None, max_features=None, max_leaf_nodes=4,\n",
              "                       min_impurity_decrease=0.0, min_impurity_split=None,\n",
              "                       min_samples_leaf=1, min_samples_split=2,\n",
              "                       min_weight_fraction_leaf=0.0, presort='deprecated',\n",
              "                       random_state=None, splitter='best')"
            ]
          },
          "metadata": {},
          "execution_count": 45
        }
      ]
    },
    {
      "cell_type": "code",
      "metadata": {
        "id": "xi8zwEhX59y2",
        "outputId": "0d3d7bad-c90b-4017-9727-960c673c4be4",
        "colab": {
          "base_uri": "https://localhost:8080/",
          "height": 366
        }
      },
      "source": [
        "plot_tree(mytree1)"
      ],
      "execution_count": 47,
      "outputs": [
        {
          "output_type": "execute_result",
          "data": {
            "text/plain": [
              "[Text(167.4, 181.2, 'X[30] <= 0.5\\nentropy = 3.315\\nsamples = 628\\nvalue = [57, 70, 56, 74, 54, 61, 62, 61, 64, 69]'),\n",
              " Text(83.7, 108.72, 'X[20] <= 3.5\\nentropy = 2.915\\nsamples = 383\\nvalue = [0, 62, 54, 68, 11, 54, 61, 12, 51, 10]'),\n",
              " Text(41.85, 36.23999999999998, 'entropy = 1.856\\nsamples = 122\\nvalue = [0, 3, 1, 1, 4, 43, 58, 1, 10, 1]'),\n",
              " Text(125.55000000000001, 36.23999999999998, 'entropy = 2.642\\nsamples = 261\\nvalue = [0, 59, 53, 67, 7, 11, 3, 11, 41, 9]'),\n",
              " Text(251.10000000000002, 108.72, 'X[33] <= 2.5\\nentropy = 2.642\\nsamples = 245\\nvalue = [57, 8, 2, 6, 43, 7, 1, 49, 13, 59]'),\n",
              " Text(209.25, 36.23999999999998, 'entropy = 2.163\\nsamples = 130\\nvalue = [1, 5, 2, 6, 1, 4, 1, 38, 13, 59]'),\n",
              " Text(292.95, 36.23999999999998, 'entropy = 1.635\\nsamples = 115\\nvalue = [56, 3, 0, 0, 42, 3, 0, 11, 0, 0]')]"
            ]
          },
          "metadata": {},
          "execution_count": 47
        },
        {
          "output_type": "display_data",
          "data": {
            "image/png": "[encoded data removed]",
            "text/plain": [
              "<Figure size 432x288 with 1 Axes>"
            ]
          },
          "metadata": {
            "needs_background": "light"
          }
        }
      ]
    },
    {
      "cell_type": "markdown",
      "metadata": {
        "id": "V3d3qpt-7FtT"
      },
      "source": [
        "### ข้อ 2 ต้นไม้ที่ใช้เกณฑ์ Gini มีใบไม่เกิน 25 ใบ"
      ]
    },
    {
      "cell_type": "code",
      "metadata": {
        "id": "SXt1oCc-6qf8"
      },
      "source": [
        "mytree2 = DecisionTreeClassifier(max_leaf_nodes=25,criterion='entropy')  "
      ],
      "execution_count": 49,
      "outputs": []
    },
    {
      "cell_type": "code",
      "metadata": {
        "id": "eABTAGDz7RQ3",
        "outputId": "4bdac321-3b84-400c-8e9b-10e47db2e00b",
        "colab": {
          "base_uri": "https://localhost:8080/"
        }
      },
      "source": [
        "mytree2.fit(X_train2,y_train2)"
      ],
      "execution_count": 50,
      "outputs": [
        {
          "output_type": "execute_result",
          "data": {
            "text/plain": [
              "DecisionTreeClassifier(ccp_alpha=0.0, class_weight=None, criterion='entropy',\n",
              "                       max_depth=None, max_features=None, max_leaf_nodes=25,\n",
              "                       min_impurity_decrease=0.0, min_impurity_split=None,\n",
              "                       min_samples_leaf=1, min_samples_split=2,\n",
              "                       min_weight_fraction_leaf=0.0, presort='deprecated',\n",
              "                       random_state=None, splitter='best')"
            ]
          },
          "metadata": {},
          "execution_count": 50
        }
      ]
    },
    {
      "cell_type": "code",
      "metadata": {
        "id": "Wvs3ipiK7W1-",
        "outputId": "ddb7f4aa-0c27-47c8-ac6d-1bffa2876936",
        "colab": {
          "base_uri": "https://localhost:8080/",
          "height": 1000
        }
      },
      "source": [
        "plot_tree(mytree2)"
      ],
      "execution_count": 53,
      "outputs": [
        {
          "output_type": "execute_result",
          "data": {
            "text/plain": [
              "[Text(187.27875000000003, 201.90857142857143, 'X[30] <= 0.5\\nentropy = 3.315\\nsamples = 628\\nvalue = [57, 70, 56, 74, 54, 61, 62, 61, 64, 69]'),\n",
              " Text(85.7925, 170.84571428571428, 'X[20] <= 3.5\\nentropy = 2.915\\nsamples = 383\\nvalue = [0, 62, 54, 68, 11, 54, 61, 12, 51, 10]'),\n",
              " Text(33.480000000000004, 139.78285714285715, 'X[42] <= 9.5\\nentropy = 1.856\\nsamples = 122\\nvalue = [0, 3, 1, 1, 4, 43, 58, 1, 10, 1]'),\n",
              " Text(16.740000000000002, 108.72, 'X[21] <= 7.0\\nentropy = 1.266\\nsamples = 50\\nvalue = [0, 3, 1, 1, 0, 39, 1, 0, 4, 1]'),\n",
              " Text(8.370000000000001, 77.65714285714284, 'entropy = 0.522\\nsamples = 43\\nvalue = [0, 3, 0, 0, 0, 39, 1, 0, 0, 0]'),\n",
              " Text(25.110000000000003, 77.65714285714284, 'entropy = 1.664\\nsamples = 7\\nvalue = [0, 0, 1, 1, 0, 0, 0, 0, 4, 1]'),\n",
              " Text(50.220000000000006, 108.72, 'X[21] <= 5.0\\nentropy = 1.115\\nsamples = 72\\nvalue = [0, 0, 0, 0, 4, 4, 57, 1, 6, 0]'),\n",
              " Text(41.85000000000001, 77.65714285714284, 'X[61] <= 6.5\\nentropy = 0.661\\nsamples = 65\\nvalue = [0, 0, 0, 0, 4, 4, 57, 0, 0, 0]'),\n",
              " Text(33.480000000000004, 46.59428571428572, 'entropy = 0.985\\nsamples = 7\\nvalue = [0, 0, 0, 0, 4, 3, 0, 0, 0, 0]'),\n",
              " Text(50.220000000000006, 46.59428571428572, 'entropy = 0.126\\nsamples = 58\\nvalue = [0, 0, 0, 0, 0, 1, 57, 0, 0, 0]'),\n",
              " Text(58.59, 77.65714285714284, 'entropy = 0.592\\nsamples = 7\\nvalue = [0, 0, 0, 0, 0, 0, 0, 1, 6, 0]'),\n",
              " Text(138.10500000000002, 139.78285714285715, 'X[43] <= 4.5\\nentropy = 2.642\\nsamples = 261\\nvalue = [0, 59, 53, 67, 7, 11, 3, 11, 41, 9]'),\n",
              " Text(92.07000000000001, 108.72, 'X[26] <= 5.5\\nentropy = 1.728\\nsamples = 102\\nvalue = [0, 15, 0, 62, 0, 9, 0, 0, 8, 8]'),\n",
              " Text(75.33000000000001, 77.65714285714284, 'X[11] <= 13.5\\nentropy = 0.654\\nsamples = 66\\nvalue = [0, 4, 0, 58, 0, 0, 0, 0, 4, 0]'),\n",
              " Text(66.96000000000001, 46.59428571428572, 'entropy = 0.214\\nsamples = 59\\nvalue = [0, 0, 0, 57, 0, 0, 0, 0, 2, 0]'),\n",
              " Text(83.70000000000002, 46.59428571428572, 'entropy = 1.379\\nsamples = 7\\nvalue = [0, 4, 0, 1, 0, 0, 0, 0, 2, 0]'),\n",
              " Text(108.81000000000002, 77.65714285714284, 'X[10] <= 8.5\\nentropy = 2.209\\nsamples = 36\\nvalue = [0, 11, 0, 4, 0, 9, 0, 0, 4, 8]'),\n",
              " Text(100.44000000000001, 46.59428571428572, 'entropy = 1.089\\nsamples = 14\\nvalue = [0, 11, 0, 1, 0, 0, 0, 0, 1, 1]'),\n",
              " Text(117.18, 46.59428571428572, 'entropy = 1.837\\nsamples = 22\\nvalue = [0, 0, 0, 3, 0, 9, 0, 0, 3, 7]'),\n",
              " Text(184.14000000000001, 108.72, 'X[19] <= 9.5\\nentropy = 2.367\\nsamples = 159\\nvalue = [0, 44, 53, 5, 7, 2, 3, 11, 33, 1]'),\n",
              " Text(150.66000000000003, 77.65714285714284, 'X[54] <= 1.5\\nentropy = 1.702\\nsamples = 83\\nvalue = [0, 0, 47, 4, 1, 0, 0, 11, 19, 1]'),\n",
              " Text(133.92000000000002, 46.59428571428572, 'X[38] <= 0.5\\nentropy = 1.911\\nsamples = 33\\nvalue = [0, 0, 2, 3, 1, 0, 0, 11, 15, 1]'),\n",
              " Text(125.55000000000001, 15.531428571428563, 'entropy = 1.489\\nsamples = 22\\nvalue = [0, 0, 2, 3, 1, 0, 0, 0, 15, 1]'),\n",
              " Text(142.29000000000002, 15.531428571428563, 'entropy = 0.0\\nsamples = 11\\nvalue = [0, 0, 0, 0, 0, 0, 0, 11, 0, 0]'),\n",
              " Text(167.40000000000003, 46.59428571428572, 'X[45] <= 10.5\\nentropy = 0.541\\nsamples = 50\\nvalue = [0, 0, 45, 1, 0, 0, 0, 0, 4, 0]'),\n",
              " Text(159.03000000000003, 15.531428571428563, 'entropy = 0.0\\nsamples = 44\\nvalue = [0, 0, 44, 0, 0, 0, 0, 0, 0, 0]'),\n",
              " Text(175.77, 15.531428571428563, 'entropy = 1.252\\nsamples = 6\\nvalue = [0, 0, 1, 1, 0, 0, 0, 0, 4, 0]'),\n",
              " Text(217.62000000000003, 77.65714285714284, 'X[12] <= 14.5\\nentropy = 1.889\\nsamples = 76\\nvalue = [0, 44, 6, 1, 6, 2, 3, 0, 14, 0]'),\n",
              " Text(200.88000000000002, 46.59428571428572, 'X[21] <= 3.0\\nentropy = 2.071\\nsamples = 29\\nvalue = [0, 5, 5, 0, 3, 0, 3, 0, 13, 0]'),\n",
              " Text(192.51000000000002, 15.531428571428563, 'entropy = 1.809\\nsamples = 14\\nvalue = [0, 5, 5, 0, 1, 0, 3, 0, 0, 0]'),\n",
              " Text(209.25000000000003, 15.531428571428563, 'entropy = 0.567\\nsamples = 15\\nvalue = [0, 0, 0, 0, 2, 0, 0, 0, 13, 0]'),\n",
              " Text(234.36, 46.59428571428572, 'X[46] <= 1.0\\nentropy = 1.025\\nsamples = 47\\nvalue = [0, 39, 1, 1, 3, 2, 0, 0, 1, 0]'),\n",
              " Text(225.99000000000004, 15.531428571428563, 'entropy = 0.437\\nsamples = 42\\nvalue = [0, 39, 1, 0, 0, 2, 0, 0, 0, 0]'),\n",
              " Text(242.73000000000002, 15.531428571428563, 'entropy = 1.371\\nsamples = 5\\nvalue = [0, 0, 0, 1, 3, 0, 0, 0, 1, 0]'),\n",
              " Text(288.76500000000004, 170.84571428571428, 'X[33] <= 2.5\\nentropy = 2.642\\nsamples = 245\\nvalue = [57, 8, 2, 6, 43, 7, 1, 49, 13, 59]'),\n",
              " Text(267.84000000000003, 139.78285714285715, 'X[43] <= 2.5\\nentropy = 2.163\\nsamples = 130\\nvalue = [1, 5, 2, 6, 1, 4, 1, 38, 13, 59]'),\n",
              " Text(251.10000000000002, 108.72, 'X[21] <= 10.5\\nentropy = 1.288\\nsamples = 72\\nvalue = [0, 4, 0, 6, 0, 4, 0, 2, 1, 55]'),\n",
              " Text(242.73000000000002, 77.65714285714284, 'entropy = 1.823\\nsamples = 11\\nvalue = [0, 0, 0, 4, 0, 4, 0, 2, 0, 1]'),\n",
              " Text(259.47, 77.65714285714284, 'X[59] <= 4.0\\nentropy = 0.672\\nsamples = 61\\nvalue = [0, 4, 0, 2, 0, 0, 0, 0, 1, 54]'),\n",
              " Text(251.10000000000002, 46.59428571428572, 'entropy = 1.406\\nsamples = 8\\nvalue = [0, 4, 0, 0, 0, 0, 0, 0, 1, 3]'),\n",
              " Text(267.84000000000003, 46.59428571428572, 'entropy = 0.232\\nsamples = 53\\nvalue = [0, 0, 0, 2, 0, 0, 0, 0, 0, 51]'),\n",
              " Text(284.58000000000004, 108.72, 'X[61] <= 0.5\\nentropy = 1.735\\nsamples = 58\\nvalue = [1, 1, 2, 0, 1, 0, 1, 36, 12, 4]'),\n",
              " Text(276.21000000000004, 77.65714285714284, 'entropy = 0.297\\nsamples = 38\\nvalue = [0, 0, 0, 0, 0, 0, 0, 36, 0, 2]'),\n",
              " Text(292.95000000000005, 77.65714285714284, 'entropy = 1.971\\nsamples = 20\\nvalue = [1, 1, 2, 0, 1, 0, 1, 0, 12, 2]'),\n",
              " Text(309.69000000000005, 139.78285714285715, 'X[36] <= 0.5\\nentropy = 1.635\\nsamples = 115\\nvalue = [56, 3, 0, 0, 42, 3, 0, 11, 0, 0]'),\n",
              " Text(301.32000000000005, 108.72, 'entropy = 0.337\\nsamples = 59\\nvalue = [56, 0, 0, 0, 2, 1, 0, 0, 0, 0]'),\n",
              " Text(318.06000000000006, 108.72, 'X[13] <= 9.0\\nentropy = 1.206\\nsamples = 56\\nvalue = [0, 3, 0, 0, 40, 2, 0, 11, 0, 0]'),\n",
              " Text(309.69000000000005, 77.65714285714284, 'entropy = 0.286\\nsamples = 40\\nvalue = [0, 0, 0, 0, 38, 2, 0, 0, 0, 0]'),\n",
              " Text(326.43000000000006, 77.65714285714284, 'entropy = 1.199\\nsamples = 16\\nvalue = [0, 3, 0, 0, 2, 0, 0, 11, 0, 0]')]"
            ]
          },
          "metadata": {},
          "execution_count": 53
        },
        {
          "output_type": "display_data",
          "data": {
            "image/png": "[encoded data removed]",
            "text/plain": [
              "<Figure size 432x288 with 1 Axes>"
            ]
          },
          "metadata": {
            "needs_background": "light"
          }
        }
      ]
    },
    {
      "cell_type": "markdown",
      "metadata": {
        "id": "Y0r4eoW-7i6A"
      },
      "source": [
        "### ข้อ 3 ต้นไม้ที่ใช้เกณฑ์ Entropy และใช้การ split แบบ random"
      ]
    },
    {
      "cell_type": "code",
      "metadata": {
        "id": "sFvJ1K6Q7aQ1"
      },
      "source": [
        "mytree3 = DecisionTreeClassifier(criterion='entropy', splitter = 'random')"
      ],
      "execution_count": 54,
      "outputs": []
    },
    {
      "cell_type": "code",
      "metadata": {
        "id": "C41myQz-8Fd5",
        "outputId": "087da9d5-8329-4e26-cd7e-ec976861dc20",
        "colab": {
          "base_uri": "https://localhost:8080/"
        }
      },
      "source": [
        "mytree3.fit(X_train2,y_train2)"
      ],
      "execution_count": 55,
      "outputs": [
        {
          "output_type": "execute_result",
          "data": {
            "text/plain": [
              "DecisionTreeClassifier(ccp_alpha=0.0, class_weight=None, criterion='entropy',\n",
              "                       max_depth=None, max_features=None, max_leaf_nodes=None,\n",
              "                       min_impurity_decrease=0.0, min_impurity_split=None,\n",
              "                       min_samples_leaf=1, min_samples_split=2,\n",
              "                       min_weight_fraction_leaf=0.0, presort='deprecated',\n",
              "                       random_state=None, splitter='random')"
            ]
          },
          "metadata": {},
          "execution_count": 55
        }
      ]
    },
    {
      "cell_type": "code",
      "metadata": {
        "id": "5a7lkb6M8Q93",
        "outputId": "435cb23e-2077-42d5-8f54-79f599bf6ca7",
        "colab": {
          "base_uri": "https://localhost:8080/",
          "height": 1000
        }
      },
      "source": [
        "plot_tree(mytree3)"
      ],
      "execution_count": 56,
      "outputs": [
        {
          "output_type": "execute_result",
          "data": {
            "text/plain": [
              "[Text(203.91814903846154, 207.55636363636364, 'X[30] <= 3.019\\nentropy = 3.315\\nsamples = 628\\nvalue = [57, 70, 56, 74, 54, 61, 62, 61, 64, 69]'),\n",
              " Text(105.22860576923077, 187.7890909090909, 'X[21] <= 5.387\\nentropy = 3.117\\nsamples = 458\\nvalue = [6, 66, 55, 74, 18, 58, 62, 26, 62, 31]'),\n",
              " Text(50.22, 168.0218181818182, 'X[20] <= 10.198\\nentropy = 2.56\\nsamples = 220\\nvalue = [0, 35, 31, 17, 12, 55, 62, 4, 4, 0]'),\n",
              " Text(30.904615384615383, 148.25454545454545, 'X[5] <= 6.077\\nentropy = 1.795\\nsamples = 138\\nvalue = [0, 11, 4, 2, 7, 52, 62, 0, 0, 0]'),\n",
              " Text(20.603076923076923, 128.48727272727274, 'X[42] <= 4.34\\nentropy = 1.665\\nsamples = 90\\nvalue = [0, 11, 4, 2, 7, 7, 59, 0, 0, 0]'),\n",
              " Text(10.301538461538462, 108.72, 'X[19] <= 15.095\\nentropy = 1.684\\nsamples = 21\\nvalue = [0, 10, 0, 2, 2, 7, 0, 0, 0, 0]'),\n",
              " Text(5.150769230769231, 88.95272727272729, 'X[27] <= 6.161\\nentropy = 1.157\\nsamples = 10\\nvalue = [0, 0, 0, 1, 2, 7, 0, 0, 0, 0]'),\n",
              " Text(2.5753846153846154, 69.18545454545455, 'entropy = 0.0\\nsamples = 2\\nvalue = [0, 0, 0, 0, 2, 0, 0, 0, 0, 0]'),\n",
              " Text(7.726153846153846, 69.18545454545455, 'X[26] <= 8.484\\nentropy = 0.544\\nsamples = 8\\nvalue = [0, 0, 0, 1, 0, 7, 0, 0, 0, 0]'),\n",
              " Text(5.150769230769231, 49.418181818181836, 'entropy = 0.0\\nsamples = 1\\nvalue = [0, 0, 0, 1, 0, 0, 0, 0, 0, 0]'),\n",
              " Text(10.301538461538462, 49.418181818181836, 'entropy = 0.0\\nsamples = 7\\nvalue = [0, 0, 0, 0, 0, 7, 0, 0, 0, 0]'),\n",
              " Text(15.452307692307691, 88.95272727272729, 'X[62] <= 2.718\\nentropy = 0.439\\nsamples = 11\\nvalue = [0, 10, 0, 1, 0, 0, 0, 0, 0, 0]'),\n",
              " Text(12.876923076923077, 69.18545454545455, 'entropy = 0.0\\nsamples = 1\\nvalue = [0, 0, 0, 1, 0, 0, 0, 0, 0, 0]'),\n",
              " Text(18.02769230769231, 69.18545454545455, 'entropy = 0.0\\nsamples = 10\\nvalue = [0, 10, 0, 0, 0, 0, 0, 0, 0, 0]'),\n",
              " Text(30.904615384615383, 108.72, 'X[33] <= 8.288\\nentropy = 0.794\\nsamples = 69\\nvalue = [0, 1, 4, 0, 5, 0, 59, 0, 0, 0]'),\n",
              " Text(25.753846153846155, 88.95272727272729, 'X[2] <= 13.433\\nentropy = 0.457\\nsamples = 63\\nvalue = [0, 1, 4, 0, 0, 0, 58, 0, 0, 0]'),\n",
              " Text(23.178461538461537, 69.18545454545455, 'X[63] <= 9.964\\nentropy = 0.124\\nsamples = 59\\nvalue = [0, 1, 0, 0, 0, 0, 58, 0, 0, 0]'),\n",
              " Text(20.603076923076923, 49.418181818181836, 'entropy = 0.0\\nsamples = 58\\nvalue = [0, 0, 0, 0, 0, 0, 58, 0, 0, 0]'),\n",
              " Text(25.753846153846155, 49.418181818181836, 'entropy = 0.0\\nsamples = 1\\nvalue = [0, 1, 0, 0, 0, 0, 0, 0, 0, 0]'),\n",
              " Text(28.32923076923077, 69.18545454545455, 'entropy = 0.0\\nsamples = 4\\nvalue = [0, 0, 4, 0, 0, 0, 0, 0, 0, 0]'),\n",
              " Text(36.05538461538462, 88.95272727272729, 'X[62] <= 2.431\\nentropy = 0.65\\nsamples = 6\\nvalue = [0, 0, 0, 0, 5, 0, 1, 0, 0, 0]'),\n",
              " Text(33.48, 69.18545454545455, 'entropy = 0.0\\nsamples = 5\\nvalue = [0, 0, 0, 0, 5, 0, 0, 0, 0, 0]'),\n",
              " Text(38.63076923076923, 69.18545454545455, 'entropy = 0.0\\nsamples = 1\\nvalue = [0, 0, 0, 0, 0, 0, 1, 0, 0, 0]'),\n",
              " Text(41.206153846153846, 128.48727272727274, 'X[58] <= 0.169\\nentropy = 0.337\\nsamples = 48\\nvalue = [0, 0, 0, 0, 0, 45, 3, 0, 0, 0]'),\n",
              " Text(38.63076923076923, 108.72, 'entropy = 0.0\\nsamples = 2\\nvalue = [0, 0, 0, 0, 0, 0, 2, 0, 0, 0]'),\n",
              " Text(43.78153846153846, 108.72, 'X[41] <= 4.163\\nentropy = 0.151\\nsamples = 46\\nvalue = [0, 0, 0, 0, 0, 45, 1, 0, 0, 0]'),\n",
              " Text(41.206153846153846, 88.95272727272729, 'entropy = 0.0\\nsamples = 44\\nvalue = [0, 0, 0, 0, 0, 44, 0, 0, 0, 0]'),\n",
              " Text(46.356923076923074, 88.95272727272729, 'X[38] <= 4.419\\nentropy = 1.0\\nsamples = 2\\nvalue = [0, 0, 0, 0, 0, 1, 1, 0, 0, 0]'),\n",
              " Text(43.78153846153846, 69.18545454545455, 'entropy = 0.0\\nsamples = 1\\nvalue = [0, 0, 0, 0, 0, 0, 1, 0, 0, 0]'),\n",
              " Text(48.932307692307695, 69.18545454545455, 'entropy = 0.0\\nsamples = 1\\nvalue = [0, 0, 0, 0, 0, 1, 0, 0, 0, 0]'),\n",
              " Text(69.53538461538461, 148.25454545454545, 'X[37] <= 6.535\\nentropy = 2.341\\nsamples = 82\\nvalue = [0, 24, 27, 15, 5, 3, 0, 4, 4, 0]'),\n",
              " Text(59.23384615384615, 128.48727272727274, 'X[10] <= 11.976\\nentropy = 1.536\\nsamples = 56\\nvalue = [0, 23, 27, 1, 2, 0, 0, 0, 3, 0]'),\n",
              " Text(54.08307692307692, 108.72, 'X[59] <= 4.698\\nentropy = 0.794\\nsamples = 25\\nvalue = [0, 21, 0, 0, 2, 0, 0, 0, 2, 0]'),\n",
              " Text(51.50769230769231, 88.95272727272729, 'entropy = 0.0\\nsamples = 2\\nvalue = [0, 0, 0, 0, 2, 0, 0, 0, 0, 0]'),\n",
              " Text(56.65846153846154, 88.95272727272729, 'X[19] <= 12.145\\nentropy = 0.426\\nsamples = 23\\nvalue = [0, 21, 0, 0, 0, 0, 0, 0, 2, 0]'),\n",
              " Text(54.08307692307692, 69.18545454545455, 'entropy = 0.0\\nsamples = 2\\nvalue = [0, 0, 0, 0, 0, 0, 0, 0, 2, 0]'),\n",
              " Text(59.23384615384615, 69.18545454545455, 'entropy = 0.0\\nsamples = 21\\nvalue = [0, 21, 0, 0, 0, 0, 0, 0, 0, 0]'),\n",
              " Text(64.38461538461539, 108.72, 'X[27] <= 15.345\\nentropy = 0.748\\nsamples = 31\\nvalue = [0, 2, 27, 1, 0, 0, 0, 0, 1, 0]'),\n",
              " Text(61.809230769230766, 88.95272727272729, 'entropy = 0.0\\nsamples = 27\\nvalue = [0, 0, 27, 0, 0, 0, 0, 0, 0, 0]'),\n",
              " Text(66.96, 88.95272727272729, 'X[26] <= 15.537\\nentropy = 1.5\\nsamples = 4\\nvalue = [0, 2, 0, 1, 0, 0, 0, 0, 1, 0]'),\n",
              " Text(64.38461538461539, 69.18545454545455, 'X[61] <= 4.203\\nentropy = 1.0\\nsamples = 2\\nvalue = [0, 0, 0, 1, 0, 0, 0, 0, 1, 0]'),\n",
              " Text(61.809230769230766, 49.418181818181836, 'entropy = 0.0\\nsamples = 1\\nvalue = [0, 0, 0, 0, 0, 0, 0, 0, 1, 0]'),\n",
              " Text(66.96, 49.418181818181836, 'entropy = 0.0\\nsamples = 1\\nvalue = [0, 0, 0, 1, 0, 0, 0, 0, 0, 0]'),\n",
              " Text(69.53538461538461, 69.18545454545455, 'entropy = 0.0\\nsamples = 2\\nvalue = [0, 2, 0, 0, 0, 0, 0, 0, 0, 0]'),\n",
              " Text(79.83692307692307, 128.48727272727274, 'X[53] <= 12.666\\nentropy = 1.977\\nsamples = 26\\nvalue = [0, 1, 0, 14, 3, 3, 0, 4, 1, 0]'),\n",
              " Text(74.68615384615384, 108.72, 'X[19] <= 11.8\\nentropy = 1.571\\nsamples = 10\\nvalue = [0, 0, 0, 0, 3, 3, 0, 4, 0, 0]'),\n",
              " Text(72.11076923076924, 88.95272727272729, 'entropy = 0.0\\nsamples = 4\\nvalue = [0, 0, 0, 0, 0, 0, 0, 4, 0, 0]'),\n",
              " Text(77.26153846153846, 88.95272727272729, 'X[10] <= 1.572\\nentropy = 1.0\\nsamples = 6\\nvalue = [0, 0, 0, 0, 3, 3, 0, 0, 0, 0]'),\n",
              " Text(74.68615384615384, 69.18545454545455, 'entropy = 0.0\\nsamples = 3\\nvalue = [0, 0, 0, 0, 3, 0, 0, 0, 0, 0]'),\n",
              " Text(79.83692307692307, 69.18545454545455, 'entropy = 0.0\\nsamples = 3\\nvalue = [0, 0, 0, 0, 0, 3, 0, 0, 0, 0]'),\n",
              " Text(84.98769230769231, 108.72, 'X[11] <= 13.473\\nentropy = 0.669\\nsamples = 16\\nvalue = [0, 1, 0, 14, 0, 0, 0, 0, 1, 0]'),\n",
              " Text(82.41230769230769, 88.95272727272729, 'entropy = 0.0\\nsamples = 14\\nvalue = [0, 0, 0, 14, 0, 0, 0, 0, 0, 0]'),\n",
              " Text(87.56307692307692, 88.95272727272729, 'X[37] <= 9.276\\nentropy = 1.0\\nsamples = 2\\nvalue = [0, 1, 0, 0, 0, 0, 0, 0, 1, 0]'),\n",
              " Text(84.98769230769231, 69.18545454545455, 'entropy = 0.0\\nsamples = 1\\nvalue = [0, 1, 0, 0, 0, 0, 0, 0, 0, 0]'),\n",
              " Text(90.13846153846154, 69.18545454545455, 'entropy = 0.0\\nsamples = 1\\nvalue = [0, 0, 0, 0, 0, 0, 0, 0, 1, 0]'),\n",
              " Text(160.23721153846154, 168.0218181818182, 'X[43] <= 0.407\\nentropy = 2.755\\nsamples = 238\\nvalue = [6, 31, 24, 57, 6, 3, 0, 22, 58, 31]'),\n",
              " Text(112.35115384615385, 148.25454545454545, 'X[29] <= 9.143\\nentropy = 1.692\\nsamples = 83\\nvalue = [2, 7, 0, 48, 0, 2, 0, 0, 3, 21]'),\n",
              " Text(100.44, 128.48727272727274, 'X[4] <= 6.249\\nentropy = 0.898\\nsamples = 40\\nvalue = [1, 0, 0, 34, 0, 2, 0, 0, 2, 1]'),\n",
              " Text(95.28923076923077, 108.72, 'X[33] <= 1.154\\nentropy = 1.5\\nsamples = 4\\nvalue = [1, 0, 0, 0, 0, 2, 0, 0, 0, 1]'),\n",
              " Text(92.71384615384615, 88.95272727272729, 'entropy = 0.0\\nsamples = 2\\nvalue = [0, 0, 0, 0, 0, 2, 0, 0, 0, 0]'),\n",
              " Text(97.86461538461539, 88.95272727272729, 'X[11] <= 8.843\\nentropy = 1.0\\nsamples = 2\\nvalue = [1, 0, 0, 0, 0, 0, 0, 0, 0, 1]'),\n",
              " Text(95.28923076923077, 69.18545454545455, 'entropy = 0.0\\nsamples = 1\\nvalue = [0, 0, 0, 0, 0, 0, 0, 0, 0, 1]'),\n",
              " Text(100.44, 69.18545454545455, 'entropy = 0.0\\nsamples = 1\\nvalue = [1, 0, 0, 0, 0, 0, 0, 0, 0, 0]'),\n",
              " Text(105.59076923076923, 108.72, 'X[42] <= 10.553\\nentropy = 0.31\\nsamples = 36\\nvalue = [0, 0, 0, 34, 0, 0, 0, 0, 2, 0]'),\n",
              " Text(103.01538461538462, 88.95272727272729, 'entropy = 0.0\\nsamples = 34\\nvalue = [0, 0, 0, 34, 0, 0, 0, 0, 0, 0]'),\n",
              " Text(108.16615384615385, 88.95272727272729, 'entropy = 0.0\\nsamples = 2\\nvalue = [0, 0, 0, 0, 0, 0, 0, 0, 2, 0]'),\n",
              " Text(124.26230769230769, 128.48727272727274, 'X[59] <= 3.655\\nentropy = 1.719\\nsamples = 43\\nvalue = [1, 7, 0, 14, 0, 0, 0, 0, 1, 20]'),\n",
              " Text(115.8923076923077, 108.72, 'X[37] <= 12.234\\nentropy = 0.986\\nsamples = 9\\nvalue = [0, 7, 0, 0, 0, 0, 0, 0, 1, 1]'),\n",
              " Text(113.31692307692308, 88.95272727272729, 'X[30] <= 0.91\\nentropy = 1.0\\nsamples = 2\\nvalue = [0, 0, 0, 0, 0, 0, 0, 0, 1, 1]'),\n",
              " Text(110.74153846153847, 69.18545454545455, 'entropy = 0.0\\nsamples = 1\\nvalue = [0, 0, 0, 0, 0, 0, 0, 0, 0, 1]'),\n",
              " Text(115.8923076923077, 69.18545454545455, 'entropy = 0.0\\nsamples = 1\\nvalue = [0, 0, 0, 0, 0, 0, 0, 0, 1, 0]'),\n",
              " Text(118.4676923076923, 88.95272727272729, 'entropy = 0.0\\nsamples = 7\\nvalue = [0, 7, 0, 0, 0, 0, 0, 0, 0, 0]'),\n",
              " Text(132.6323076923077, 108.72, 'X[27] <= 9.567\\nentropy = 1.146\\nsamples = 34\\nvalue = [1, 0, 0, 14, 0, 0, 0, 0, 0, 19]'),\n",
              " Text(126.19384615384615, 88.95272727272729, 'X[52] <= 7.28\\nentropy = 1.086\\nsamples = 17\\nvalue = [1, 0, 0, 12, 0, 0, 0, 0, 0, 4]'),\n",
              " Text(121.04307692307692, 69.18545454545455, 'X[26] <= 1.092\\nentropy = 0.918\\nsamples = 6\\nvalue = [0, 0, 0, 2, 0, 0, 0, 0, 0, 4]'),\n",
              " Text(118.4676923076923, 49.418181818181836, 'entropy = 0.0\\nsamples = 2\\nvalue = [0, 0, 0, 2, 0, 0, 0, 0, 0, 0]'),\n",
              " Text(123.61846153846153, 49.418181818181836, 'entropy = 0.0\\nsamples = 4\\nvalue = [0, 0, 0, 0, 0, 0, 0, 0, 0, 4]'),\n",
              " Text(131.3446153846154, 69.18545454545455, 'X[34] <= 10.925\\nentropy = 0.439\\nsamples = 11\\nvalue = [1, 0, 0, 10, 0, 0, 0, 0, 0, 0]'),\n",
              " Text(128.76923076923077, 49.418181818181836, 'entropy = 0.0\\nsamples = 10\\nvalue = [0, 0, 0, 10, 0, 0, 0, 0, 0, 0]'),\n",
              " Text(133.92, 49.418181818181836, 'entropy = 0.0\\nsamples = 1\\nvalue = [1, 0, 0, 0, 0, 0, 0, 0, 0, 0]'),\n",
              " Text(139.07076923076923, 88.95272727272729, 'X[18] <= 8.149\\nentropy = 0.523\\nsamples = 17\\nvalue = [0, 0, 0, 2, 0, 0, 0, 0, 0, 15]'),\n",
              " Text(136.4953846153846, 69.18545454545455, 'entropy = 0.0\\nsamples = 2\\nvalue = [0, 0, 0, 2, 0, 0, 0, 0, 0, 0]'),\n",
              " Text(141.64615384615385, 69.18545454545455, 'entropy = 0.0\\nsamples = 15\\nvalue = [0, 0, 0, 0, 0, 0, 0, 0, 0, 15]'),\n",
              " Text(208.12326923076924, 148.25454545454545, 'X[27] <= 9.26\\nentropy = 2.622\\nsamples = 155\\nvalue = [4, 24, 24, 9, 6, 1, 0, 22, 55, 10]'),\n",
              " Text(178.6673076923077, 128.48727272727274, 'X[37] <= 12.602\\nentropy = 2.343\\nsamples = 64\\nvalue = [3, 1, 23, 3, 4, 0, 0, 21, 6, 3]'),\n",
              " Text(164.18076923076924, 108.72, 'X[26] <= 1.317\\nentropy = 2.081\\nsamples = 42\\nvalue = [2, 1, 23, 3, 3, 0, 0, 4, 6, 0]'),\n",
              " Text(153.23538461538462, 88.95272727272729, 'X[45] <= 9.293\\nentropy = 1.201\\nsamples = 27\\nvalue = [0, 1, 20, 3, 0, 0, 0, 3, 0, 0]'),\n",
              " Text(146.79692307692306, 69.18545454545455, 'X[12] <= 9.978\\nentropy = 0.765\\nsamples = 23\\nvalue = [0, 1, 20, 1, 0, 0, 0, 1, 0, 0]'),\n",
              " Text(141.64615384615385, 49.418181818181836, 'X[58] <= 10.148\\nentropy = 1.585\\nsamples = 3\\nvalue = [0, 0, 1, 1, 0, 0, 0, 1, 0, 0]'),\n",
              " Text(139.07076923076923, 29.650909090909096, 'entropy = 0.0\\nsamples = 1\\nvalue = [0, 0, 0, 0, 0, 0, 0, 1, 0, 0]'),\n",
              " Text(144.22153846153847, 29.650909090909096, 'X[36] <= 15.35\\nentropy = 1.0\\nsamples = 2\\nvalue = [0, 0, 1, 1, 0, 0, 0, 0, 0, 0]'),\n",
              " Text(141.64615384615385, 9.883636363636384, 'entropy = 0.0\\nsamples = 1\\nvalue = [0, 0, 1, 0, 0, 0, 0, 0, 0, 0]'),\n",
              " Text(146.79692307692306, 9.883636363636384, 'entropy = 0.0\\nsamples = 1\\nvalue = [0, 0, 0, 1, 0, 0, 0, 0, 0, 0]'),\n",
              " Text(151.9476923076923, 49.418181818181836, 'X[27] <= 4.214\\nentropy = 0.286\\nsamples = 20\\nvalue = [0, 1, 19, 0, 0, 0, 0, 0, 0, 0]'),\n",
              " Text(149.3723076923077, 29.650909090909096, 'entropy = 0.0\\nsamples = 19\\nvalue = [0, 0, 19, 0, 0, 0, 0, 0, 0, 0]'),\n",
              " Text(154.52307692307693, 29.650909090909096, 'entropy = 0.0\\nsamples = 1\\nvalue = [0, 1, 0, 0, 0, 0, 0, 0, 0, 0]'),\n",
              " Text(159.67384615384614, 69.18545454545455, 'X[34] <= 6.134\\nentropy = 1.0\\nsamples = 4\\nvalue = [0, 0, 0, 2, 0, 0, 0, 2, 0, 0]'),\n",
              " Text(157.09846153846155, 49.418181818181836, 'entropy = 0.0\\nsamples = 2\\nvalue = [0, 0, 0, 2, 0, 0, 0, 0, 0, 0]'),\n",
              " Text(162.24923076923076, 49.418181818181836, 'entropy = 0.0\\nsamples = 2\\nvalue = [0, 0, 0, 0, 0, 0, 0, 2, 0, 0]'),\n",
              " Text(175.12615384615384, 88.95272727272729, 'X[33] <= 2.345\\nentropy = 2.106\\nsamples = 15\\nvalue = [2, 0, 3, 0, 3, 0, 0, 1, 6, 0]'),\n",
              " Text(169.97538461538463, 69.18545454545455, 'X[26] <= 9.837\\nentropy = 1.295\\nsamples = 10\\nvalue = [0, 0, 3, 0, 0, 0, 0, 1, 6, 0]'),\n",
              " Text(167.4, 49.418181818181836, 'X[34] <= 0.777\\nentropy = 0.811\\nsamples = 4\\nvalue = [0, 0, 3, 0, 0, 0, 0, 1, 0, 0]'),\n",
              " Text(164.82461538461538, 29.650909090909096, 'entropy = 0.0\\nsamples = 3\\nvalue = [0, 0, 3, 0, 0, 0, 0, 0, 0, 0]'),\n",
              " Text(169.97538461538463, 29.650909090909096, 'entropy = 0.0\\nsamples = 1\\nvalue = [0, 0, 0, 0, 0, 0, 0, 1, 0, 0]'),\n",
              " Text(172.55076923076922, 49.418181818181836, 'entropy = 0.0\\nsamples = 6\\nvalue = [0, 0, 0, 0, 0, 0, 0, 0, 6, 0]'),\n",
              " Text(180.27692307692308, 69.18545454545455, 'X[36] <= 2.72\\nentropy = 0.971\\nsamples = 5\\nvalue = [2, 0, 0, 0, 3, 0, 0, 0, 0, 0]'),\n",
              " Text(177.70153846153846, 49.418181818181836, 'entropy = 0.0\\nsamples = 2\\nvalue = [2, 0, 0, 0, 0, 0, 0, 0, 0, 0]'),\n",
              " Text(182.8523076923077, 49.418181818181836, 'entropy = 0.0\\nsamples = 3\\nvalue = [0, 0, 0, 0, 3, 0, 0, 0, 0, 0]'),\n",
              " Text(193.15384615384616, 108.72, 'X[53] <= 2.871\\nentropy = 1.085\\nsamples = 22\\nvalue = [1, 0, 0, 0, 1, 0, 0, 17, 0, 3]'),\n",
              " Text(188.00307692307692, 88.95272727272729, 'X[33] <= 7.974\\nentropy = 0.31\\nsamples = 18\\nvalue = [0, 0, 0, 0, 1, 0, 0, 17, 0, 0]'),\n",
              " Text(185.4276923076923, 69.18545454545455, 'entropy = 0.0\\nsamples = 17\\nvalue = [0, 0, 0, 0, 0, 0, 0, 17, 0, 0]'),\n",
              " Text(190.57846153846154, 69.18545454545455, 'entropy = 0.0\\nsamples = 1\\nvalue = [0, 0, 0, 0, 1, 0, 0, 0, 0, 0]'),\n",
              " Text(198.30461538461537, 88.95272727272729, 'X[42] <= 15.825\\nentropy = 0.811\\nsamples = 4\\nvalue = [1, 0, 0, 0, 0, 0, 0, 0, 0, 3]'),\n",
              " Text(195.72923076923078, 69.18545454545455, 'entropy = 0.0\\nsamples = 3\\nvalue = [0, 0, 0, 0, 0, 0, 0, 0, 0, 3]'),\n",
              " Text(200.88, 69.18545454545455, 'entropy = 0.0\\nsamples = 1\\nvalue = [1, 0, 0, 0, 0, 0, 0, 0, 0, 0]'),\n",
              " Text(237.57923076923078, 128.48727272727274, 'X[42] <= 3.6\\nentropy = 1.933\\nsamples = 91\\nvalue = [1, 23, 1, 6, 2, 1, 0, 1, 49, 7]'),\n",
              " Text(221.48307692307694, 108.72, 'X[50] <= 1.842\\nentropy = 2.277\\nsamples = 25\\nvalue = [0, 8, 0, 6, 1, 1, 0, 1, 1, 7]'),\n",
              " Text(211.18153846153845, 88.95272727272729, 'X[59] <= 9.552\\nentropy = 1.272\\nsamples = 16\\nvalue = [0, 8, 0, 1, 0, 0, 0, 0, 0, 7]'),\n",
              " Text(206.03076923076924, 69.18545454545455, 'X[2] <= 5.343\\nentropy = 0.503\\nsamples = 9\\nvalue = [0, 8, 0, 0, 0, 0, 0, 0, 0, 1]'),\n",
              " Text(203.45538461538462, 49.418181818181836, 'entropy = 0.0\\nsamples = 8\\nvalue = [0, 8, 0, 0, 0, 0, 0, 0, 0, 0]'),\n",
              " Text(208.60615384615386, 49.418181818181836, 'entropy = 0.0\\nsamples = 1\\nvalue = [0, 0, 0, 0, 0, 0, 0, 0, 0, 1]'),\n",
              " Text(216.3323076923077, 69.18545454545455, 'X[58] <= 13.596\\nentropy = 0.592\\nsamples = 7\\nvalue = [0, 0, 0, 1, 0, 0, 0, 0, 0, 6]'),\n",
              " Text(213.75692307692307, 49.418181818181836, 'entropy = 0.0\\nsamples = 6\\nvalue = [0, 0, 0, 0, 0, 0, 0, 0, 0, 6]'),\n",
              " Text(218.90769230769232, 49.418181818181836, 'entropy = 0.0\\nsamples = 1\\nvalue = [0, 0, 0, 1, 0, 0, 0, 0, 0, 0]'),\n",
              " Text(231.7846153846154, 88.95272727272729, 'X[59] <= 15.787\\nentropy = 1.88\\nsamples = 9\\nvalue = [0, 0, 0, 5, 1, 1, 0, 1, 1, 0]'),\n",
              " Text(226.63384615384615, 69.18545454545455, 'X[35] <= 14.433\\nentropy = 1.585\\nsamples = 3\\nvalue = [0, 0, 0, 0, 1, 1, 0, 1, 0, 0]'),\n",
              " Text(224.05846153846153, 49.418181818181836, 'X[21] <= 8.953\\nentropy = 1.0\\nsamples = 2\\nvalue = [0, 0, 0, 0, 0, 1, 0, 1, 0, 0]'),\n",
              " Text(221.48307692307694, 29.650909090909096, 'entropy = 0.0\\nsamples = 1\\nvalue = [0, 0, 0, 0, 0, 1, 0, 0, 0, 0]'),\n",
              " Text(226.63384615384615, 29.650909090909096, 'entropy = 0.0\\nsamples = 1\\nvalue = [0, 0, 0, 0, 0, 0, 0, 1, 0, 0]'),\n",
              " Text(229.20923076923077, 49.418181818181836, 'entropy = 0.0\\nsamples = 1\\nvalue = [0, 0, 0, 0, 1, 0, 0, 0, 0, 0]'),\n",
              " Text(236.9353846153846, 69.18545454545455, 'X[3] <= 12.771\\nentropy = 0.65\\nsamples = 6\\nvalue = [0, 0, 0, 5, 0, 0, 0, 0, 1, 0]'),\n",
              " Text(234.36, 49.418181818181836, 'entropy = 0.0\\nsamples = 1\\nvalue = [0, 0, 0, 0, 0, 0, 0, 0, 1, 0]'),\n",
              " Text(239.51076923076923, 49.418181818181836, 'entropy = 0.0\\nsamples = 5\\nvalue = [0, 0, 0, 5, 0, 0, 0, 0, 0, 0]'),\n",
              " Text(253.67538461538462, 108.72, 'X[20] <= 13.017\\nentropy = 1.095\\nsamples = 66\\nvalue = [1, 15, 1, 0, 1, 0, 0, 0, 48, 0]'),\n",
              " Text(244.66153846153847, 88.95272727272729, 'X[3] <= 15.364\\nentropy = 0.35\\nsamples = 38\\nvalue = [1, 0, 1, 0, 0, 0, 0, 0, 36, 0]'),\n",
              " Text(242.08615384615385, 69.18545454545455, 'entropy = 0.0\\nsamples = 35\\nvalue = [0, 0, 0, 0, 0, 0, 0, 0, 35, 0]'),\n",
              " Text(247.23692307692306, 69.18545454545455, 'X[26] <= 9.131\\nentropy = 1.585\\nsamples = 3\\nvalue = [1, 0, 1, 0, 0, 0, 0, 0, 1, 0]'),\n",
              " Text(244.66153846153847, 49.418181818181836, 'X[36] <= 7.07\\nentropy = 1.0\\nsamples = 2\\nvalue = [0, 0, 1, 0, 0, 0, 0, 0, 1, 0]'),\n",
              " Text(242.08615384615385, 29.650909090909096, 'entropy = 0.0\\nsamples = 1\\nvalue = [0, 0, 1, 0, 0, 0, 0, 0, 0, 0]'),\n",
              " Text(247.23692307692306, 29.650909090909096, 'entropy = 0.0\\nsamples = 1\\nvalue = [0, 0, 0, 0, 0, 0, 0, 0, 1, 0]'),\n",
              " Text(249.81230769230768, 49.418181818181836, 'entropy = 0.0\\nsamples = 1\\nvalue = [1, 0, 0, 0, 0, 0, 0, 0, 0, 0]'),\n",
              " Text(262.6892307692308, 88.95272727272729, 'X[43] <= 14.869\\nentropy = 1.178\\nsamples = 28\\nvalue = [0, 15, 0, 0, 1, 0, 0, 0, 12, 0]'),\n",
              " Text(257.53846153846155, 69.18545454545455, 'X[27] <= 13.556\\nentropy = 0.817\\nsamples = 12\\nvalue = [0, 1, 0, 0, 1, 0, 0, 0, 10, 0]'),\n",
              " Text(254.96307692307693, 49.418181818181836, 'X[21] <= 8.513\\nentropy = 1.0\\nsamples = 2\\nvalue = [0, 1, 0, 0, 1, 0, 0, 0, 0, 0]'),\n",
              " Text(252.3876923076923, 29.650909090909096, 'entropy = 0.0\\nsamples = 1\\nvalue = [0, 0, 0, 0, 1, 0, 0, 0, 0, 0]'),\n",
              " Text(257.53846153846155, 29.650909090909096, 'entropy = 0.0\\nsamples = 1\\nvalue = [0, 1, 0, 0, 0, 0, 0, 0, 0, 0]'),\n",
              " Text(260.11384615384617, 49.418181818181836, 'entropy = 0.0\\nsamples = 10\\nvalue = [0, 0, 0, 0, 0, 0, 0, 0, 10, 0]'),\n",
              " Text(267.84, 69.18545454545455, 'X[12] <= 15.606\\nentropy = 0.544\\nsamples = 16\\nvalue = [0, 14, 0, 0, 0, 0, 0, 0, 2, 0]'),\n",
              " Text(265.2646153846154, 49.418181818181836, 'entropy = 0.0\\nsamples = 2\\nvalue = [0, 0, 0, 0, 0, 0, 0, 0, 2, 0]'),\n",
              " Text(270.4153846153846, 49.418181818181836, 'entropy = 0.0\\nsamples = 14\\nvalue = [0, 14, 0, 0, 0, 0, 0, 0, 0, 0]'),\n",
              " Text(302.60769230769233, 187.7890909090909, 'X[33] <= 2.318\\nentropy = 2.297\\nsamples = 170\\nvalue = [51, 4, 1, 0, 36, 3, 0, 35, 2, 38]'),\n",
              " Text(289.7307692307692, 168.0218181818182, 'X[54] <= 0.521\\nentropy = 1.577\\nsamples = 74\\nvalue = [0, 3, 1, 0, 0, 2, 0, 28, 2, 38]'),\n",
              " Text(283.2923076923077, 148.25454545454545, 'X[53] <= 4.248\\nentropy = 1.177\\nsamples = 43\\nvalue = [0, 0, 1, 0, 0, 0, 0, 28, 1, 13]'),\n",
              " Text(278.14153846153846, 128.48727272727274, 'X[26] <= 10.975\\nentropy = 0.645\\nsamples = 32\\nvalue = [0, 0, 0, 0, 0, 0, 0, 28, 1, 3]'),\n",
              " Text(275.56615384615384, 108.72, 'entropy = 0.0\\nsamples = 24\\nvalue = [0, 0, 0, 0, 0, 0, 0, 24, 0, 0]'),\n",
              " Text(280.7169230769231, 108.72, 'X[27] <= 7.592\\nentropy = 1.406\\nsamples = 8\\nvalue = [0, 0, 0, 0, 0, 0, 0, 4, 1, 3]'),\n",
              " Text(275.56615384615384, 88.95272727272729, 'X[18] <= 14.064\\nentropy = 0.811\\nsamples = 4\\nvalue = [0, 0, 0, 0, 0, 0, 0, 3, 1, 0]'),\n",
              " Text(272.9907692307692, 69.18545454545455, 'entropy = 0.0\\nsamples = 3\\nvalue = [0, 0, 0, 0, 0, 0, 0, 3, 0, 0]'),\n",
              " Text(278.14153846153846, 69.18545454545455, 'entropy = 0.0\\nsamples = 1\\nvalue = [0, 0, 0, 0, 0, 0, 0, 0, 1, 0]'),\n",
              " Text(285.8676923076923, 88.95272727272729, 'X[52] <= 4.59\\nentropy = 0.811\\nsamples = 4\\nvalue = [0, 0, 0, 0, 0, 0, 0, 1, 0, 3]'),\n",
              " Text(283.2923076923077, 69.18545454545455, 'entropy = 0.0\\nsamples = 1\\nvalue = [0, 0, 0, 0, 0, 0, 0, 1, 0, 0]'),\n",
              " Text(288.44307692307694, 69.18545454545455, 'entropy = 0.0\\nsamples = 3\\nvalue = [0, 0, 0, 0, 0, 0, 0, 0, 0, 3]'),\n",
              " Text(288.44307692307694, 128.48727272727274, 'X[51] <= 12.324\\nentropy = 0.439\\nsamples = 11\\nvalue = [0, 0, 1, 0, 0, 0, 0, 0, 0, 10]'),\n",
              " Text(285.8676923076923, 108.72, 'entropy = 0.0\\nsamples = 10\\nvalue = [0, 0, 0, 0, 0, 0, 0, 0, 0, 10]'),\n",
              " Text(291.01846153846157, 108.72, 'entropy = 0.0\\nsamples = 1\\nvalue = [0, 0, 1, 0, 0, 0, 0, 0, 0, 0]'),\n",
              " Text(296.16923076923075, 148.25454545454545, 'X[59] <= 1.555\\nentropy = 0.991\\nsamples = 31\\nvalue = [0, 3, 0, 0, 0, 2, 0, 0, 1, 25]'),\n",
              " Text(293.59384615384613, 128.48727272727274, 'entropy = 0.0\\nsamples = 3\\nvalue = [0, 3, 0, 0, 0, 0, 0, 0, 0, 0]'),\n",
              " Text(298.7446153846154, 128.48727272727274, 'X[21] <= 2.203\\nentropy = 0.59\\nsamples = 28\\nvalue = [0, 0, 0, 0, 0, 2, 0, 0, 1, 25]'),\n",
              " Text(296.16923076923075, 108.72, 'X[58] <= 10.247\\nentropy = 0.918\\nsamples = 3\\nvalue = [0, 0, 0, 0, 0, 2, 0, 0, 1, 0]'),\n",
              " Text(293.59384615384613, 88.95272727272729, 'entropy = 0.0\\nsamples = 2\\nvalue = [0, 0, 0, 0, 0, 2, 0, 0, 0, 0]'),\n",
              " Text(298.7446153846154, 88.95272727272729, 'entropy = 0.0\\nsamples = 1\\nvalue = [0, 0, 0, 0, 0, 0, 0, 0, 1, 0]'),\n",
              " Text(301.32, 108.72, 'entropy = 0.0\\nsamples = 25\\nvalue = [0, 0, 0, 0, 0, 0, 0, 0, 0, 25]'),\n",
              " Text(315.4846153846154, 168.0218181818182, 'X[36] <= 3.707\\nentropy = 1.428\\nsamples = 96\\nvalue = [51, 1, 0, 0, 36, 1, 0, 7, 0, 0]'),\n",
              " Text(306.47076923076924, 148.25454545454545, 'X[59] <= 8.944\\nentropy = 0.499\\nsamples = 56\\nvalue = [51, 0, 0, 0, 4, 1, 0, 0, 0, 0]'),\n",
              " Text(303.8953846153846, 128.48727272727274, 'entropy = 0.0\\nsamples = 4\\nvalue = [0, 0, 0, 0, 4, 0, 0, 0, 0, 0]'),\n",
              " Text(309.04615384615386, 128.48727272727274, 'X[28] <= 5.314\\nentropy = 0.137\\nsamples = 52\\nvalue = [51, 0, 0, 0, 0, 1, 0, 0, 0, 0]'),\n",
              " Text(306.47076923076924, 108.72, 'entropy = 0.0\\nsamples = 51\\nvalue = [51, 0, 0, 0, 0, 0, 0, 0, 0, 0]'),\n",
              " Text(311.6215384615385, 108.72, 'entropy = 0.0\\nsamples = 1\\nvalue = [0, 0, 0, 0, 0, 1, 0, 0, 0, 0]'),\n",
              " Text(324.4984615384615, 148.25454545454545, 'X[26] <= 12.377\\nentropy = 0.831\\nsamples = 40\\nvalue = [0, 1, 0, 0, 32, 0, 0, 7, 0, 0]'),\n",
              " Text(319.3476923076923, 128.48727272727274, 'X[4] <= 4.413\\nentropy = 0.592\\nsamples = 7\\nvalue = [0, 1, 0, 0, 0, 0, 0, 6, 0, 0]'),\n",
              " Text(316.7723076923077, 108.72, 'entropy = 0.0\\nsamples = 1\\nvalue = [0, 1, 0, 0, 0, 0, 0, 0, 0, 0]'),\n",
              " Text(321.9230769230769, 108.72, 'entropy = 0.0\\nsamples = 6\\nvalue = [0, 0, 0, 0, 0, 0, 0, 6, 0, 0]'),\n",
              " Text(329.64923076923077, 128.48727272727274, 'X[5] <= 14.206\\nentropy = 0.196\\nsamples = 33\\nvalue = [0, 0, 0, 0, 32, 0, 0, 1, 0, 0]'),\n",
              " Text(327.07384615384615, 108.72, 'entropy = 0.0\\nsamples = 32\\nvalue = [0, 0, 0, 0, 32, 0, 0, 0, 0, 0]'),\n",
              " Text(332.2246153846154, 108.72, 'entropy = 0.0\\nsamples = 1\\nvalue = [0, 0, 0, 0, 0, 0, 0, 1, 0, 0]')]"
            ]
          },
          "metadata": {},
          "execution_count": 56
        },
        {
          "output_type": "display_data",
          "data": {
            "image/png": "[encoded data removed]",
            "text/plain": [
              "<Figure size 432x288 with 1 Axes>"
            ]
          },
          "metadata": {
            "needs_background": "light"
          }
        }
      ]
    },
    {
      "cell_type": "markdown",
      "metadata": {
        "id": "pi890fs_7qZG"
      },
      "source": [
        "### ข้อ 4 ต้นไม้ที่เราคิดเอง"
      ]
    },
    {
      "cell_type": "code",
      "metadata": {
        "id": "m5D6CgP38dfl"
      },
      "source": [
        "mytree_umaporn = DecisionTreeClassifier(max_leaf_nodes=19,criterion='entropy')  "
      ],
      "execution_count": 57,
      "outputs": []
    },
    {
      "cell_type": "code",
      "metadata": {
        "id": "_hidEM6p8lSW",
        "outputId": "391934b7-ba19-4124-c904-517f26d6240d",
        "colab": {
          "base_uri": "https://localhost:8080/"
        }
      },
      "source": [
        "mytree_umaporn.fit(X_train2,y_train2)"
      ],
      "execution_count": 58,
      "outputs": [
        {
          "output_type": "execute_result",
          "data": {
            "text/plain": [
              "DecisionTreeClassifier(ccp_alpha=0.0, class_weight=None, criterion='entropy',\n",
              "                       max_depth=None, max_features=None, max_leaf_nodes=19,\n",
              "                       min_impurity_decrease=0.0, min_impurity_split=None,\n",
              "                       min_samples_leaf=1, min_samples_split=2,\n",
              "                       min_weight_fraction_leaf=0.0, presort='deprecated',\n",
              "                       random_state=None, splitter='best')"
            ]
          },
          "metadata": {},
          "execution_count": 58
        }
      ]
    },
    {
      "cell_type": "code",
      "metadata": {
        "id": "wZExLOv88qMd",
        "outputId": "af4f1185-8747-4eb4-ae01-874e0503edfb",
        "colab": {
          "base_uri": "https://localhost:8080/",
          "height": 870
        }
      },
      "source": [
        "plot_tree(mytree_umaporn)"
      ],
      "execution_count": 59,
      "outputs": [
        {
          "output_type": "execute_result",
          "data": {
            "text/plain": [
              "[Text(182.745, 201.90857142857143, 'X[30] <= 0.5\\nentropy = 3.315\\nsamples = 628\\nvalue = [57, 70, 56, 74, 54, 61, 62, 61, 64, 69]'),\n",
              " Text(92.07000000000001, 170.84571428571428, 'X[20] <= 3.5\\nentropy = 2.915\\nsamples = 383\\nvalue = [0, 62, 54, 68, 11, 54, 61, 12, 51, 10]'),\n",
              " Text(44.64, 139.78285714285715, 'X[42] <= 9.5\\nentropy = 1.856\\nsamples = 122\\nvalue = [0, 3, 1, 1, 4, 43, 58, 1, 10, 1]'),\n",
              " Text(22.32, 108.72, 'X[21] <= 7.0\\nentropy = 1.266\\nsamples = 50\\nvalue = [0, 3, 1, 1, 0, 39, 1, 0, 4, 1]'),\n",
              " Text(11.16, 77.65714285714284, 'entropy = 0.522\\nsamples = 43\\nvalue = [0, 3, 0, 0, 0, 39, 1, 0, 0, 0]'),\n",
              " Text(33.480000000000004, 77.65714285714284, 'entropy = 1.664\\nsamples = 7\\nvalue = [0, 0, 1, 1, 0, 0, 0, 0, 4, 1]'),\n",
              " Text(66.96000000000001, 108.72, 'X[21] <= 5.0\\nentropy = 1.115\\nsamples = 72\\nvalue = [0, 0, 0, 0, 4, 4, 57, 1, 6, 0]'),\n",
              " Text(55.8, 77.65714285714284, 'X[61] <= 6.5\\nentropy = 0.661\\nsamples = 65\\nvalue = [0, 0, 0, 0, 4, 4, 57, 0, 0, 0]'),\n",
              " Text(44.64, 46.59428571428572, 'entropy = 0.985\\nsamples = 7\\nvalue = [0, 0, 0, 0, 4, 3, 0, 0, 0, 0]'),\n",
              " Text(66.96000000000001, 46.59428571428572, 'entropy = 0.126\\nsamples = 58\\nvalue = [0, 0, 0, 0, 0, 1, 57, 0, 0, 0]'),\n",
              " Text(78.12, 77.65714285714284, 'entropy = 0.592\\nsamples = 7\\nvalue = [0, 0, 0, 0, 0, 0, 0, 1, 6, 0]'),\n",
              " Text(139.5, 139.78285714285715, 'X[43] <= 4.5\\nentropy = 2.642\\nsamples = 261\\nvalue = [0, 59, 53, 67, 7, 11, 3, 11, 41, 9]'),\n",
              " Text(111.6, 108.72, 'X[26] <= 5.5\\nentropy = 1.728\\nsamples = 102\\nvalue = [0, 15, 0, 62, 0, 9, 0, 0, 8, 8]'),\n",
              " Text(100.44, 77.65714285714284, 'entropy = 0.654\\nsamples = 66\\nvalue = [0, 4, 0, 58, 0, 0, 0, 0, 4, 0]'),\n",
              " Text(122.76, 77.65714285714284, 'entropy = 2.209\\nsamples = 36\\nvalue = [0, 11, 0, 4, 0, 9, 0, 0, 4, 8]'),\n",
              " Text(167.4, 108.72, 'X[19] <= 9.5\\nentropy = 2.367\\nsamples = 159\\nvalue = [0, 44, 53, 5, 7, 2, 3, 11, 33, 1]'),\n",
              " Text(145.08, 77.65714285714284, 'X[54] <= 1.5\\nentropy = 1.702\\nsamples = 83\\nvalue = [0, 0, 47, 4, 1, 0, 0, 11, 19, 1]'),\n",
              " Text(133.92000000000002, 46.59428571428572, 'X[37] <= 6.5\\nentropy = 1.911\\nsamples = 33\\nvalue = [0, 0, 2, 3, 1, 0, 0, 11, 15, 1]'),\n",
              " Text(122.76, 15.531428571428563, 'entropy = 1.489\\nsamples = 22\\nvalue = [0, 0, 2, 3, 1, 0, 0, 0, 15, 1]'),\n",
              " Text(145.08, 15.531428571428563, 'entropy = 0.0\\nsamples = 11\\nvalue = [0, 0, 0, 0, 0, 0, 0, 11, 0, 0]'),\n",
              " Text(156.24, 46.59428571428572, 'entropy = 0.541\\nsamples = 50\\nvalue = [0, 0, 45, 1, 0, 0, 0, 0, 4, 0]'),\n",
              " Text(189.72, 77.65714285714284, 'X[12] <= 14.5\\nentropy = 1.889\\nsamples = 76\\nvalue = [0, 44, 6, 1, 6, 2, 3, 0, 14, 0]'),\n",
              " Text(178.56, 46.59428571428572, 'entropy = 2.071\\nsamples = 29\\nvalue = [0, 5, 5, 0, 3, 0, 3, 0, 13, 0]'),\n",
              " Text(200.88, 46.59428571428572, 'entropy = 1.025\\nsamples = 47\\nvalue = [0, 39, 1, 1, 3, 2, 0, 0, 1, 0]'),\n",
              " Text(273.42, 170.84571428571428, 'X[33] <= 2.5\\nentropy = 2.642\\nsamples = 245\\nvalue = [57, 8, 2, 6, 43, 7, 1, 49, 13, 59]'),\n",
              " Text(245.52, 139.78285714285715, 'X[43] <= 2.5\\nentropy = 2.163\\nsamples = 130\\nvalue = [1, 5, 2, 6, 1, 4, 1, 38, 13, 59]'),\n",
              " Text(223.2, 108.72, 'X[21] <= 10.5\\nentropy = 1.288\\nsamples = 72\\nvalue = [0, 4, 0, 6, 0, 4, 0, 2, 1, 55]'),\n",
              " Text(212.04, 77.65714285714284, 'entropy = 1.823\\nsamples = 11\\nvalue = [0, 0, 0, 4, 0, 4, 0, 2, 0, 1]'),\n",
              " Text(234.36, 77.65714285714284, 'entropy = 0.672\\nsamples = 61\\nvalue = [0, 4, 0, 2, 0, 0, 0, 0, 1, 54]'),\n",
              " Text(267.84000000000003, 108.72, 'X[61] <= 0.5\\nentropy = 1.735\\nsamples = 58\\nvalue = [1, 1, 2, 0, 1, 0, 1, 36, 12, 4]'),\n",
              " Text(256.68, 77.65714285714284, 'entropy = 0.297\\nsamples = 38\\nvalue = [0, 0, 0, 0, 0, 0, 0, 36, 0, 2]'),\n",
              " Text(279.0, 77.65714285714284, 'entropy = 1.971\\nsamples = 20\\nvalue = [1, 1, 2, 0, 1, 0, 1, 0, 12, 2]'),\n",
              " Text(301.32, 139.78285714285715, 'X[36] <= 0.5\\nentropy = 1.635\\nsamples = 115\\nvalue = [56, 3, 0, 0, 42, 3, 0, 11, 0, 0]'),\n",
              " Text(290.16, 108.72, 'entropy = 0.337\\nsamples = 59\\nvalue = [56, 0, 0, 0, 2, 1, 0, 0, 0, 0]'),\n",
              " Text(312.48, 108.72, 'X[13] <= 9.0\\nentropy = 1.206\\nsamples = 56\\nvalue = [0, 3, 0, 0, 40, 2, 0, 11, 0, 0]'),\n",
              " Text(301.32, 77.65714285714284, 'entropy = 0.286\\nsamples = 40\\nvalue = [0, 0, 0, 0, 38, 2, 0, 0, 0, 0]'),\n",
              " Text(323.64, 77.65714285714284, 'entropy = 1.199\\nsamples = 16\\nvalue = [0, 3, 0, 0, 2, 0, 0, 11, 0, 0]')]"
            ]
          },
          "metadata": {},
          "execution_count": 59
        },
        {
          "output_type": "display_data",
          "data": {
            "image/png": "[encoded data removed]",
            "text/plain": [
              "<Figure size 432x288 with 1 Axes>"
            ]
          },
          "metadata": {
            "needs_background": "light"
          }
        }
      ]
    }
  ]
}