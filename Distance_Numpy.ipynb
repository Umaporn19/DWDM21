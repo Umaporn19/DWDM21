{
  "nbformat": 4,
  "nbformat_minor": 0,
  "metadata": {
    "colab": {
      "name": "Distance_Numpy.ipynb",
      "provenance": [],
      "authorship_tag": "ABX9TyO3TFeg1uNlzPbpIOzS4hj1",
      "include_colab_link": true
    },
    "kernelspec": {
      "name": "python3",
      "display_name": "Python 3"
    },
    "language_info": {
      "name": "python"
    }
  },
  "cells": [
    {
      "cell_type": "markdown",
      "metadata": {
        "id": "view-in-github",
        "colab_type": "text"
      },
      "source": [
        "<a href=\"https://colab.research.google.com/github/Umaporn19/DWDM21/blob/main/Distance_Numpy.ipynb\" target=\"_parent\"><img src=\"https://colab.research.google.com/assets/colab-badge.svg\" alt=\"Open In Colab\"/></a>"
      ]
    },
    {
      "cell_type": "code",
      "metadata": {
        "id": "0v6feOO1cx2i"
      },
      "source": [
        "import numpy as np #package สำฟรับทำงานกับข้อมูลที่เป็นตัวเลข (อยู่ในรูปแบบเมทริกซ์)"
      ],
      "execution_count": 1,
      "outputs": []
    },
    {
      "cell_type": "markdown",
      "metadata": {
        "id": "Fqj4696uoMjR"
      },
      "source": [
        "### Numpy Array"
      ]
    },
    {
      "cell_type": "markdown",
      "metadata": {
        "id": "kQGgI67yoT6B"
      },
      "source": [
        "#### สร้าง numpy array"
      ]
    },
    {
      "cell_type": "code",
      "metadata": {
        "id": "WO7FqLGvdMjK"
      },
      "source": [
        "np_a = np.array([[1,2,3],[4,5,6]])"
      ],
      "execution_count": 2,
      "outputs": []
    },
    {
      "cell_type": "code",
      "metadata": {
        "colab": {
          "base_uri": "https://localhost:8080/"
        },
        "id": "v99XUhW3oX8F",
        "outputId": "0a1c5153-87ad-40a1-9a87-e76fb070f690"
      },
      "source": [
        "np_a"
      ],
      "execution_count": 3,
      "outputs": [
        {
          "output_type": "execute_result",
          "data": {
            "text/plain": [
              "array([[1, 2, 3],\n",
              "       [4, 5, 6]])"
            ]
          },
          "metadata": {},
          "execution_count": 3
        }
      ]
    },
    {
      "cell_type": "code",
      "metadata": {
        "colab": {
          "base_uri": "https://localhost:8080/"
        },
        "id": "oo4aZIX5oZaQ",
        "outputId": "5c43c461-a840-4157-8c94-46b4e3c94ccf"
      },
      "source": [
        "np_a.shape"
      ],
      "execution_count": 4,
      "outputs": [
        {
          "output_type": "execute_result",
          "data": {
            "text/plain": [
              "(2, 3)"
            ]
          },
          "metadata": {},
          "execution_count": 4
        }
      ]
    },
    {
      "cell_type": "code",
      "metadata": {
        "colab": {
          "base_uri": "https://localhost:8080/"
        },
        "id": "i0NMZ3lzob0Y",
        "outputId": "379a4056-a349-43ca-bd4e-ceebb7461935"
      },
      "source": [
        "np_b = np.array([[1,4],[2,5],[3,6]])\n",
        "np_b"
      ],
      "execution_count": 5,
      "outputs": [
        {
          "output_type": "execute_result",
          "data": {
            "text/plain": [
              "array([[1, 4],\n",
              "       [2, 5],\n",
              "       [3, 6]])"
            ]
          },
          "metadata": {},
          "execution_count": 5
        }
      ]
    },
    {
      "cell_type": "markdown",
      "metadata": {
        "id": "03sWulKFoyea"
      },
      "source": [
        "#### matrix transpose"
      ]
    },
    {
      "cell_type": "code",
      "metadata": {
        "colab": {
          "base_uri": "https://localhost:8080/"
        },
        "id": "04UrEa8XoeMS",
        "outputId": "2b00d5ab-351c-4cca-d9dd-51a90838deb2"
      },
      "source": [
        "np_a.T"
      ],
      "execution_count": 6,
      "outputs": [
        {
          "output_type": "execute_result",
          "data": {
            "text/plain": [
              "array([[1, 4],\n",
              "       [2, 5],\n",
              "       [3, 6]])"
            ]
          },
          "metadata": {},
          "execution_count": 6
        }
      ]
    },
    {
      "cell_type": "markdown",
      "metadata": {
        "id": "jVDSnJSuo59K"
      },
      "source": [
        "### สร้าง matrix เริ่มต้น (zeros,ones)"
      ]
    },
    {
      "cell_type": "code",
      "metadata": {
        "colab": {
          "base_uri": "https://localhost:8080/"
        },
        "id": "ZLbxtJ5co3o7",
        "outputId": "30eded12-32a9-4b17-f484-986b975b7d0e"
      },
      "source": [
        "np_z = np.zeros((4,5))  \n",
        "np_z"
      ],
      "execution_count": 7,
      "outputs": [
        {
          "output_type": "execute_result",
          "data": {
            "text/plain": [
              "array([[0., 0., 0., 0., 0.],\n",
              "       [0., 0., 0., 0., 0.],\n",
              "       [0., 0., 0., 0., 0.],\n",
              "       [0., 0., 0., 0., 0.]])"
            ]
          },
          "metadata": {},
          "execution_count": 7
        }
      ]
    },
    {
      "cell_type": "code",
      "metadata": {
        "colab": {
          "base_uri": "https://localhost:8080/"
        },
        "id": "6BHsrVJlpEtV",
        "outputId": "6caeb1c1-8373-4e5c-ad17-b87ca9a73ec2"
      },
      "source": [
        "np_o = np.ones((5,6))\n",
        "np_o"
      ],
      "execution_count": 8,
      "outputs": [
        {
          "output_type": "execute_result",
          "data": {
            "text/plain": [
              "array([[1., 1., 1., 1., 1., 1.],\n",
              "       [1., 1., 1., 1., 1., 1.],\n",
              "       [1., 1., 1., 1., 1., 1.],\n",
              "       [1., 1., 1., 1., 1., 1.],\n",
              "       [1., 1., 1., 1., 1., 1.]])"
            ]
          },
          "metadata": {},
          "execution_count": 8
        }
      ]
    },
    {
      "cell_type": "code",
      "metadata": {
        "colab": {
          "base_uri": "https://localhost:8080/"
        },
        "id": "VNmo9amNpG3u",
        "outputId": "fd77d4d2-af41-43a6-cba7-95a66d90f2f1"
      },
      "source": [
        "np_200 = 200 * np.ones((4,7))\n",
        "np_200"
      ],
      "execution_count": 9,
      "outputs": [
        {
          "output_type": "execute_result",
          "data": {
            "text/plain": [
              "array([[200., 200., 200., 200., 200., 200., 200.],\n",
              "       [200., 200., 200., 200., 200., 200., 200.],\n",
              "       [200., 200., 200., 200., 200., 200., 200.],\n",
              "       [200., 200., 200., 200., 200., 200., 200.]])"
            ]
          },
          "metadata": {},
          "execution_count": 9
        }
      ]
    },
    {
      "cell_type": "markdown",
      "metadata": {
        "id": "mkopdld0pLLC"
      },
      "source": [
        "### สร้าง matrix random ค่าเเบบมั่ว ๆ"
      ]
    },
    {
      "cell_type": "code",
      "metadata": {
        "colab": {
          "base_uri": "https://localhost:8080/"
        },
        "id": "rx430DGspJG_",
        "outputId": "e30579f8-15e7-4026-ff25-160801263683"
      },
      "source": [
        "np.random.randn(5,5) # randn คือ random เลขมาจาก normal distribution ที่มี mu=0 std=1"
      ],
      "execution_count": 10,
      "outputs": [
        {
          "output_type": "execute_result",
          "data": {
            "text/plain": [
              "array([[-0.31552466,  1.75438384, -1.76417536,  0.2064557 , -0.59852015],\n",
              "       [-1.181966  ,  0.49361842,  1.50557434,  1.08417014,  0.22725887],\n",
              "       [-1.32683592,  1.17452678,  1.72647209, -1.74449137,  1.58238045],\n",
              "       [ 1.24302657,  0.86762196, -1.16148212, -0.43249532, -0.43668635],\n",
              "       [ 0.62858723, -1.37147785,  0.73893119,  1.52097727,  0.04131208]])"
            ]
          },
          "metadata": {},
          "execution_count": 10
        }
      ]
    },
    {
      "cell_type": "code",
      "metadata": {
        "colab": {
          "base_uri": "https://localhost:8080/"
        },
        "id": "_nNJ9DnYpPR9",
        "outputId": "c8a87f27-feb3-44aa-bcb9-d3d18e7d6ca7"
      },
      "source": [
        "2+(5*np.random.randn(3,3)) # random เลขมาจาก normal distribution ที่มี mu=2 std=5"
      ],
      "execution_count": 11,
      "outputs": [
        {
          "output_type": "execute_result",
          "data": {
            "text/plain": [
              "array([[ 6.45473946,  1.54842036,  8.29816966],\n",
              "       [ 3.32856079,  3.31910981,  0.77365481],\n",
              "       [10.72636912, 10.16315032, -2.70042701]])"
            ]
          },
          "metadata": {},
          "execution_count": 11
        }
      ]
    },
    {
      "cell_type": "code",
      "metadata": {
        "colab": {
          "base_uri": "https://localhost:8080/"
        },
        "id": "IBvvJj7UpQ3k",
        "outputId": "36334f8a-aa5c-474a-e2f1-e0ec492573db"
      },
      "source": [
        "np.random.randint(5,11,(4,5)) # random เลขจำนวนเต็ม ค่าตั้งเเต่ระหว่าง 5 ถึง 10 (5,11,(ขนาด 4x5))"
      ],
      "execution_count": 12,
      "outputs": [
        {
          "output_type": "execute_result",
          "data": {
            "text/plain": [
              "array([[ 9,  9, 10,  7,  7],\n",
              "       [ 9,  6,  9,  6, 10],\n",
              "       [10,  9,  7,  6,  7],\n",
              "       [ 6,  6,  8,  8,  6]])"
            ]
          },
          "metadata": {},
          "execution_count": 12
        }
      ]
    }
  ]
}